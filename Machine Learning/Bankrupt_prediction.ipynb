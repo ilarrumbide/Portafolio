{
  "nbformat": 4,
  "nbformat_minor": 0,
  "metadata": {
    "colab": {
      "provenance": [],
      "toc_visible": true
    },
    "kernelspec": {
      "name": "python3",
      "display_name": "Python 3"
    },
    "language_info": {
      "name": "python"
    }
  },
  "cells": [
    {
      "cell_type": "markdown",
      "source": [
        "# Import libraries"
      ],
      "metadata": {
        "id": "uhxBpGwHqzn1"
      }
    },
    {
      "cell_type": "code",
      "execution_count": 1,
      "metadata": {
        "id": "CdNgSgS5tuc3"
      },
      "outputs": [],
      "source": [
        "import pandas as pd \n",
        "import numpy as np\n",
        "import scipy.stats as sts\n",
        "import scipy\n",
        "import matplotlib.pyplot as plt\n",
        "import seaborn as sns"
      ]
    },
    {
      "cell_type": "code",
      "source": [
        "from imblearn.over_sampling import SMOTE\n",
        "from sklearn.model_selection import RepeatedStratifiedKFold, StratifiedKFold\n",
        "\n",
        "from sklearn.metrics import classification_report\n",
        "from sklearn.linear_model import LogisticRegression\n",
        "from sklearn.model_selection import cross_val_predict\n",
        "from sklearn.model_selection import RandomizedSearchCV\n",
        "from sklearn.model_selection import KFold, cross_validate\n",
        "from sklearn.metrics import recall_score, f1_score, roc_auc_score\n",
        "from sklearn.metrics import confusion_matrix, accuracy_score, precision_score\n",
        "from sklearn.metrics import precision_recall_curve, average_precision_score\n",
        "from sklearn.metrics import roc_curve"
      ],
      "metadata": {
        "id": "Zs_5L-gNtr9p"
      },
      "execution_count": 2,
      "outputs": []
    },
    {
      "cell_type": "code",
      "source": [
        "from sklearn.metrics import classification_report\n",
        "from sklearn.metrics import confusion_matrix, accuracy_score, precision_score\n",
        "from scipy.stats import probplot, chi2_contingency, chi2\n",
        "from yellowbrick.model_selection import FeatureImportances\n",
        "from sklearn.inspection import permutation_importance\n",
        "\n",
        "import scipy.stats as stats\n",
        "import joblib\n",
        "import os\n",
        "%matplotlib inline"
      ],
      "metadata": {
        "id": "r6g7HR7BuCby"
      },
      "execution_count": 3,
      "outputs": []
    },
    {
      "cell_type": "code",
      "source": [
        "data = pd.read_csv('data.csv')"
      ],
      "metadata": {
        "id": "AIVnyDxXudWe"
      },
      "execution_count": 4,
      "outputs": []
    },
    {
      "cell_type": "code",
      "source": [
        "data"
      ],
      "metadata": {
        "colab": {
          "base_uri": "https://localhost:8080/",
          "height": 574
        },
        "id": "6nuTvrsMupwt",
        "outputId": "db718d6c-215d-4871-ef84-0c328b046837"
      },
      "execution_count": 5,
      "outputs": [
        {
          "output_type": "execute_result",
          "data": {
            "text/plain": [
              "      Bankrupt?   ROA(C) before interest and depreciation before interest  \\\n",
              "0             1                                           0.370594          \n",
              "1             1                                           0.464291          \n",
              "2             1                                           0.426071          \n",
              "3             1                                           0.399844          \n",
              "4             1                                           0.465022          \n",
              "...         ...                                                ...          \n",
              "6814          0                                           0.493687          \n",
              "6815          0                                           0.475162          \n",
              "6816          0                                           0.472725          \n",
              "6817          0                                           0.506264          \n",
              "6818          0                                           0.493053          \n",
              "\n",
              "       ROA(A) before interest and % after tax  \\\n",
              "0                                    0.424389   \n",
              "1                                    0.538214   \n",
              "2                                    0.499019   \n",
              "3                                    0.451265   \n",
              "4                                    0.538432   \n",
              "...                                       ...   \n",
              "6814                                 0.539468   \n",
              "6815                                 0.538269   \n",
              "6816                                 0.533744   \n",
              "6817                                 0.559911   \n",
              "6818                                 0.570105   \n",
              "\n",
              "       ROA(B) before interest and depreciation after tax  \\\n",
              "0                                              0.405750    \n",
              "1                                              0.516730    \n",
              "2                                              0.472295    \n",
              "3                                              0.457733    \n",
              "4                                              0.522298    \n",
              "...                                                 ...    \n",
              "6814                                           0.543230    \n",
              "6815                                           0.524172    \n",
              "6816                                           0.520638    \n",
              "6817                                           0.554045    \n",
              "6818                                           0.549548    \n",
              "\n",
              "       Operating Gross Margin   Realized Sales Gross Margin  \\\n",
              "0                    0.601457                      0.601457   \n",
              "1                    0.610235                      0.610235   \n",
              "2                    0.601450                      0.601364   \n",
              "3                    0.583541                      0.583541   \n",
              "4                    0.598783                      0.598783   \n",
              "...                       ...                           ...   \n",
              "6814                 0.604455                      0.604462   \n",
              "6815                 0.598308                      0.598308   \n",
              "6816                 0.610444                      0.610213   \n",
              "6817                 0.607850                      0.607850   \n",
              "6818                 0.627409                      0.627409   \n",
              "\n",
              "       Operating Profit Rate   Pre-tax net Interest Rate  \\\n",
              "0                   0.998969                    0.796887   \n",
              "1                   0.998946                    0.797380   \n",
              "2                   0.998857                    0.796403   \n",
              "3                   0.998700                    0.796967   \n",
              "4                   0.998973                    0.797366   \n",
              "...                      ...                         ...   \n",
              "6814                0.998992                    0.797409   \n",
              "6815                0.998992                    0.797414   \n",
              "6816                0.998984                    0.797401   \n",
              "6817                0.999074                    0.797500   \n",
              "6818                0.998080                    0.801987   \n",
              "\n",
              "       After-tax net Interest Rate  \\\n",
              "0                         0.808809   \n",
              "1                         0.809301   \n",
              "2                         0.808388   \n",
              "3                         0.808966   \n",
              "4                         0.809304   \n",
              "...                            ...   \n",
              "6814                      0.809331   \n",
              "6815                      0.809327   \n",
              "6816                      0.809317   \n",
              "6817                      0.809399   \n",
              "6818                      0.813800   \n",
              "\n",
              "       Non-industry income and expenditure/revenue  ...  \\\n",
              "0                                         0.302646  ...   \n",
              "1                                         0.303556  ...   \n",
              "2                                         0.302035  ...   \n",
              "3                                         0.303350  ...   \n",
              "4                                         0.303475  ...   \n",
              "...                                            ...  ...   \n",
              "6814                                      0.303510  ...   \n",
              "6815                                      0.303520  ...   \n",
              "6816                                      0.303512  ...   \n",
              "6817                                      0.303498  ...   \n",
              "6818                                      0.313415  ...   \n",
              "\n",
              "       Net Income to Total Assets   Total assets to GNP price  \\\n",
              "0                        0.716845                    0.009219   \n",
              "1                        0.795297                    0.008323   \n",
              "2                        0.774670                    0.040003   \n",
              "3                        0.739555                    0.003252   \n",
              "4                        0.795016                    0.003878   \n",
              "...                           ...                         ...   \n",
              "6814                     0.799927                    0.000466   \n",
              "6815                     0.799748                    0.001959   \n",
              "6816                     0.797778                    0.002840   \n",
              "6817                     0.811808                    0.002837   \n",
              "6818                     0.815956                    0.000707   \n",
              "\n",
              "       No-credit Interval   Gross Profit to Sales  \\\n",
              "0                0.622879                0.601453   \n",
              "1                0.623652                0.610237   \n",
              "2                0.623841                0.601449   \n",
              "3                0.622929                0.583538   \n",
              "4                0.623521                0.598782   \n",
              "...                   ...                     ...   \n",
              "6814             0.623620                0.604455   \n",
              "6815             0.623931                0.598306   \n",
              "6816             0.624156                0.610441   \n",
              "6817             0.623957                0.607846   \n",
              "6818             0.626680                0.627408   \n",
              "\n",
              "       Net Income to Stockholder's Equity   Liability to Equity  \\\n",
              "0                                0.827890              0.290202   \n",
              "1                                0.839969              0.283846   \n",
              "2                                0.836774              0.290189   \n",
              "3                                0.834697              0.281721   \n",
              "4                                0.839973              0.278514   \n",
              "...                                   ...                   ...   \n",
              "6814                             0.840359              0.279606   \n",
              "6815                             0.840306              0.278132   \n",
              "6816                             0.840138              0.275789   \n",
              "6817                             0.841084              0.277547   \n",
              "6818                             0.841019              0.275114   \n",
              "\n",
              "       Degree of Financial Leverage (DFL)  \\\n",
              "0                                0.026601   \n",
              "1                                0.264577   \n",
              "2                                0.026555   \n",
              "3                                0.026697   \n",
              "4                                0.024752   \n",
              "...                                   ...   \n",
              "6814                             0.027064   \n",
              "6815                             0.027009   \n",
              "6816                             0.026791   \n",
              "6817                             0.026822   \n",
              "6818                             0.026793   \n",
              "\n",
              "       Interest Coverage Ratio (Interest expense to EBIT)   Net Income Flag  \\\n",
              "0                                              0.564050                   1   \n",
              "1                                              0.570175                   1   \n",
              "2                                              0.563706                   1   \n",
              "3                                              0.564663                   1   \n",
              "4                                              0.575617                   1   \n",
              "...                                                 ...                 ...   \n",
              "6814                                           0.566193                   1   \n",
              "6815                                           0.566018                   1   \n",
              "6816                                           0.565158                   1   \n",
              "6817                                           0.565302                   1   \n",
              "6818                                           0.565167                   1   \n",
              "\n",
              "       Equity to Liability  \n",
              "0                 0.016469  \n",
              "1                 0.020794  \n",
              "2                 0.016474  \n",
              "3                 0.023982  \n",
              "4                 0.035490  \n",
              "...                    ...  \n",
              "6814              0.029890  \n",
              "6815              0.038284  \n",
              "6816              0.097649  \n",
              "6817              0.044009  \n",
              "6818              0.233902  \n",
              "\n",
              "[6819 rows x 96 columns]"
            ],
            "text/html": [
              "\n",
              "  <div id=\"df-c9517b9a-98c3-46d3-a90f-86d0579a39e8\">\n",
              "    <div class=\"colab-df-container\">\n",
              "      <div>\n",
              "<style scoped>\n",
              "    .dataframe tbody tr th:only-of-type {\n",
              "        vertical-align: middle;\n",
              "    }\n",
              "\n",
              "    .dataframe tbody tr th {\n",
              "        vertical-align: top;\n",
              "    }\n",
              "\n",
              "    .dataframe thead th {\n",
              "        text-align: right;\n",
              "    }\n",
              "</style>\n",
              "<table border=\"1\" class=\"dataframe\">\n",
              "  <thead>\n",
              "    <tr style=\"text-align: right;\">\n",
              "      <th></th>\n",
              "      <th>Bankrupt?</th>\n",
              "      <th>ROA(C) before interest and depreciation before interest</th>\n",
              "      <th>ROA(A) before interest and % after tax</th>\n",
              "      <th>ROA(B) before interest and depreciation after tax</th>\n",
              "      <th>Operating Gross Margin</th>\n",
              "      <th>Realized Sales Gross Margin</th>\n",
              "      <th>Operating Profit Rate</th>\n",
              "      <th>Pre-tax net Interest Rate</th>\n",
              "      <th>After-tax net Interest Rate</th>\n",
              "      <th>Non-industry income and expenditure/revenue</th>\n",
              "      <th>...</th>\n",
              "      <th>Net Income to Total Assets</th>\n",
              "      <th>Total assets to GNP price</th>\n",
              "      <th>No-credit Interval</th>\n",
              "      <th>Gross Profit to Sales</th>\n",
              "      <th>Net Income to Stockholder's Equity</th>\n",
              "      <th>Liability to Equity</th>\n",
              "      <th>Degree of Financial Leverage (DFL)</th>\n",
              "      <th>Interest Coverage Ratio (Interest expense to EBIT)</th>\n",
              "      <th>Net Income Flag</th>\n",
              "      <th>Equity to Liability</th>\n",
              "    </tr>\n",
              "  </thead>\n",
              "  <tbody>\n",
              "    <tr>\n",
              "      <th>0</th>\n",
              "      <td>1</td>\n",
              "      <td>0.370594</td>\n",
              "      <td>0.424389</td>\n",
              "      <td>0.405750</td>\n",
              "      <td>0.601457</td>\n",
              "      <td>0.601457</td>\n",
              "      <td>0.998969</td>\n",
              "      <td>0.796887</td>\n",
              "      <td>0.808809</td>\n",
              "      <td>0.302646</td>\n",
              "      <td>...</td>\n",
              "      <td>0.716845</td>\n",
              "      <td>0.009219</td>\n",
              "      <td>0.622879</td>\n",
              "      <td>0.601453</td>\n",
              "      <td>0.827890</td>\n",
              "      <td>0.290202</td>\n",
              "      <td>0.026601</td>\n",
              "      <td>0.564050</td>\n",
              "      <td>1</td>\n",
              "      <td>0.016469</td>\n",
              "    </tr>\n",
              "    <tr>\n",
              "      <th>1</th>\n",
              "      <td>1</td>\n",
              "      <td>0.464291</td>\n",
              "      <td>0.538214</td>\n",
              "      <td>0.516730</td>\n",
              "      <td>0.610235</td>\n",
              "      <td>0.610235</td>\n",
              "      <td>0.998946</td>\n",
              "      <td>0.797380</td>\n",
              "      <td>0.809301</td>\n",
              "      <td>0.303556</td>\n",
              "      <td>...</td>\n",
              "      <td>0.795297</td>\n",
              "      <td>0.008323</td>\n",
              "      <td>0.623652</td>\n",
              "      <td>0.610237</td>\n",
              "      <td>0.839969</td>\n",
              "      <td>0.283846</td>\n",
              "      <td>0.264577</td>\n",
              "      <td>0.570175</td>\n",
              "      <td>1</td>\n",
              "      <td>0.020794</td>\n",
              "    </tr>\n",
              "    <tr>\n",
              "      <th>2</th>\n",
              "      <td>1</td>\n",
              "      <td>0.426071</td>\n",
              "      <td>0.499019</td>\n",
              "      <td>0.472295</td>\n",
              "      <td>0.601450</td>\n",
              "      <td>0.601364</td>\n",
              "      <td>0.998857</td>\n",
              "      <td>0.796403</td>\n",
              "      <td>0.808388</td>\n",
              "      <td>0.302035</td>\n",
              "      <td>...</td>\n",
              "      <td>0.774670</td>\n",
              "      <td>0.040003</td>\n",
              "      <td>0.623841</td>\n",
              "      <td>0.601449</td>\n",
              "      <td>0.836774</td>\n",
              "      <td>0.290189</td>\n",
              "      <td>0.026555</td>\n",
              "      <td>0.563706</td>\n",
              "      <td>1</td>\n",
              "      <td>0.016474</td>\n",
              "    </tr>\n",
              "    <tr>\n",
              "      <th>3</th>\n",
              "      <td>1</td>\n",
              "      <td>0.399844</td>\n",
              "      <td>0.451265</td>\n",
              "      <td>0.457733</td>\n",
              "      <td>0.583541</td>\n",
              "      <td>0.583541</td>\n",
              "      <td>0.998700</td>\n",
              "      <td>0.796967</td>\n",
              "      <td>0.808966</td>\n",
              "      <td>0.303350</td>\n",
              "      <td>...</td>\n",
              "      <td>0.739555</td>\n",
              "      <td>0.003252</td>\n",
              "      <td>0.622929</td>\n",
              "      <td>0.583538</td>\n",
              "      <td>0.834697</td>\n",
              "      <td>0.281721</td>\n",
              "      <td>0.026697</td>\n",
              "      <td>0.564663</td>\n",
              "      <td>1</td>\n",
              "      <td>0.023982</td>\n",
              "    </tr>\n",
              "    <tr>\n",
              "      <th>4</th>\n",
              "      <td>1</td>\n",
              "      <td>0.465022</td>\n",
              "      <td>0.538432</td>\n",
              "      <td>0.522298</td>\n",
              "      <td>0.598783</td>\n",
              "      <td>0.598783</td>\n",
              "      <td>0.998973</td>\n",
              "      <td>0.797366</td>\n",
              "      <td>0.809304</td>\n",
              "      <td>0.303475</td>\n",
              "      <td>...</td>\n",
              "      <td>0.795016</td>\n",
              "      <td>0.003878</td>\n",
              "      <td>0.623521</td>\n",
              "      <td>0.598782</td>\n",
              "      <td>0.839973</td>\n",
              "      <td>0.278514</td>\n",
              "      <td>0.024752</td>\n",
              "      <td>0.575617</td>\n",
              "      <td>1</td>\n",
              "      <td>0.035490</td>\n",
              "    </tr>\n",
              "    <tr>\n",
              "      <th>...</th>\n",
              "      <td>...</td>\n",
              "      <td>...</td>\n",
              "      <td>...</td>\n",
              "      <td>...</td>\n",
              "      <td>...</td>\n",
              "      <td>...</td>\n",
              "      <td>...</td>\n",
              "      <td>...</td>\n",
              "      <td>...</td>\n",
              "      <td>...</td>\n",
              "      <td>...</td>\n",
              "      <td>...</td>\n",
              "      <td>...</td>\n",
              "      <td>...</td>\n",
              "      <td>...</td>\n",
              "      <td>...</td>\n",
              "      <td>...</td>\n",
              "      <td>...</td>\n",
              "      <td>...</td>\n",
              "      <td>...</td>\n",
              "      <td>...</td>\n",
              "    </tr>\n",
              "    <tr>\n",
              "      <th>6814</th>\n",
              "      <td>0</td>\n",
              "      <td>0.493687</td>\n",
              "      <td>0.539468</td>\n",
              "      <td>0.543230</td>\n",
              "      <td>0.604455</td>\n",
              "      <td>0.604462</td>\n",
              "      <td>0.998992</td>\n",
              "      <td>0.797409</td>\n",
              "      <td>0.809331</td>\n",
              "      <td>0.303510</td>\n",
              "      <td>...</td>\n",
              "      <td>0.799927</td>\n",
              "      <td>0.000466</td>\n",
              "      <td>0.623620</td>\n",
              "      <td>0.604455</td>\n",
              "      <td>0.840359</td>\n",
              "      <td>0.279606</td>\n",
              "      <td>0.027064</td>\n",
              "      <td>0.566193</td>\n",
              "      <td>1</td>\n",
              "      <td>0.029890</td>\n",
              "    </tr>\n",
              "    <tr>\n",
              "      <th>6815</th>\n",
              "      <td>0</td>\n",
              "      <td>0.475162</td>\n",
              "      <td>0.538269</td>\n",
              "      <td>0.524172</td>\n",
              "      <td>0.598308</td>\n",
              "      <td>0.598308</td>\n",
              "      <td>0.998992</td>\n",
              "      <td>0.797414</td>\n",
              "      <td>0.809327</td>\n",
              "      <td>0.303520</td>\n",
              "      <td>...</td>\n",
              "      <td>0.799748</td>\n",
              "      <td>0.001959</td>\n",
              "      <td>0.623931</td>\n",
              "      <td>0.598306</td>\n",
              "      <td>0.840306</td>\n",
              "      <td>0.278132</td>\n",
              "      <td>0.027009</td>\n",
              "      <td>0.566018</td>\n",
              "      <td>1</td>\n",
              "      <td>0.038284</td>\n",
              "    </tr>\n",
              "    <tr>\n",
              "      <th>6816</th>\n",
              "      <td>0</td>\n",
              "      <td>0.472725</td>\n",
              "      <td>0.533744</td>\n",
              "      <td>0.520638</td>\n",
              "      <td>0.610444</td>\n",
              "      <td>0.610213</td>\n",
              "      <td>0.998984</td>\n",
              "      <td>0.797401</td>\n",
              "      <td>0.809317</td>\n",
              "      <td>0.303512</td>\n",
              "      <td>...</td>\n",
              "      <td>0.797778</td>\n",
              "      <td>0.002840</td>\n",
              "      <td>0.624156</td>\n",
              "      <td>0.610441</td>\n",
              "      <td>0.840138</td>\n",
              "      <td>0.275789</td>\n",
              "      <td>0.026791</td>\n",
              "      <td>0.565158</td>\n",
              "      <td>1</td>\n",
              "      <td>0.097649</td>\n",
              "    </tr>\n",
              "    <tr>\n",
              "      <th>6817</th>\n",
              "      <td>0</td>\n",
              "      <td>0.506264</td>\n",
              "      <td>0.559911</td>\n",
              "      <td>0.554045</td>\n",
              "      <td>0.607850</td>\n",
              "      <td>0.607850</td>\n",
              "      <td>0.999074</td>\n",
              "      <td>0.797500</td>\n",
              "      <td>0.809399</td>\n",
              "      <td>0.303498</td>\n",
              "      <td>...</td>\n",
              "      <td>0.811808</td>\n",
              "      <td>0.002837</td>\n",
              "      <td>0.623957</td>\n",
              "      <td>0.607846</td>\n",
              "      <td>0.841084</td>\n",
              "      <td>0.277547</td>\n",
              "      <td>0.026822</td>\n",
              "      <td>0.565302</td>\n",
              "      <td>1</td>\n",
              "      <td>0.044009</td>\n",
              "    </tr>\n",
              "    <tr>\n",
              "      <th>6818</th>\n",
              "      <td>0</td>\n",
              "      <td>0.493053</td>\n",
              "      <td>0.570105</td>\n",
              "      <td>0.549548</td>\n",
              "      <td>0.627409</td>\n",
              "      <td>0.627409</td>\n",
              "      <td>0.998080</td>\n",
              "      <td>0.801987</td>\n",
              "      <td>0.813800</td>\n",
              "      <td>0.313415</td>\n",
              "      <td>...</td>\n",
              "      <td>0.815956</td>\n",
              "      <td>0.000707</td>\n",
              "      <td>0.626680</td>\n",
              "      <td>0.627408</td>\n",
              "      <td>0.841019</td>\n",
              "      <td>0.275114</td>\n",
              "      <td>0.026793</td>\n",
              "      <td>0.565167</td>\n",
              "      <td>1</td>\n",
              "      <td>0.233902</td>\n",
              "    </tr>\n",
              "  </tbody>\n",
              "</table>\n",
              "<p>6819 rows × 96 columns</p>\n",
              "</div>\n",
              "      <button class=\"colab-df-convert\" onclick=\"convertToInteractive('df-c9517b9a-98c3-46d3-a90f-86d0579a39e8')\"\n",
              "              title=\"Convert this dataframe to an interactive table.\"\n",
              "              style=\"display:none;\">\n",
              "        \n",
              "  <svg xmlns=\"http://www.w3.org/2000/svg\" height=\"24px\"viewBox=\"0 0 24 24\"\n",
              "       width=\"24px\">\n",
              "    <path d=\"M0 0h24v24H0V0z\" fill=\"none\"/>\n",
              "    <path d=\"M18.56 5.44l.94 2.06.94-2.06 2.06-.94-2.06-.94-.94-2.06-.94 2.06-2.06.94zm-11 1L8.5 8.5l.94-2.06 2.06-.94-2.06-.94L8.5 2.5l-.94 2.06-2.06.94zm10 10l.94 2.06.94-2.06 2.06-.94-2.06-.94-.94-2.06-.94 2.06-2.06.94z\"/><path d=\"M17.41 7.96l-1.37-1.37c-.4-.4-.92-.59-1.43-.59-.52 0-1.04.2-1.43.59L10.3 9.45l-7.72 7.72c-.78.78-.78 2.05 0 2.83L4 21.41c.39.39.9.59 1.41.59.51 0 1.02-.2 1.41-.59l7.78-7.78 2.81-2.81c.8-.78.8-2.07 0-2.86zM5.41 20L4 18.59l7.72-7.72 1.47 1.35L5.41 20z\"/>\n",
              "  </svg>\n",
              "      </button>\n",
              "      \n",
              "  <style>\n",
              "    .colab-df-container {\n",
              "      display:flex;\n",
              "      flex-wrap:wrap;\n",
              "      gap: 12px;\n",
              "    }\n",
              "\n",
              "    .colab-df-convert {\n",
              "      background-color: #E8F0FE;\n",
              "      border: none;\n",
              "      border-radius: 50%;\n",
              "      cursor: pointer;\n",
              "      display: none;\n",
              "      fill: #1967D2;\n",
              "      height: 32px;\n",
              "      padding: 0 0 0 0;\n",
              "      width: 32px;\n",
              "    }\n",
              "\n",
              "    .colab-df-convert:hover {\n",
              "      background-color: #E2EBFA;\n",
              "      box-shadow: 0px 1px 2px rgba(60, 64, 67, 0.3), 0px 1px 3px 1px rgba(60, 64, 67, 0.15);\n",
              "      fill: #174EA6;\n",
              "    }\n",
              "\n",
              "    [theme=dark] .colab-df-convert {\n",
              "      background-color: #3B4455;\n",
              "      fill: #D2E3FC;\n",
              "    }\n",
              "\n",
              "    [theme=dark] .colab-df-convert:hover {\n",
              "      background-color: #434B5C;\n",
              "      box-shadow: 0px 1px 3px 1px rgba(0, 0, 0, 0.15);\n",
              "      filter: drop-shadow(0px 1px 2px rgba(0, 0, 0, 0.3));\n",
              "      fill: #FFFFFF;\n",
              "    }\n",
              "  </style>\n",
              "\n",
              "      <script>\n",
              "        const buttonEl =\n",
              "          document.querySelector('#df-c9517b9a-98c3-46d3-a90f-86d0579a39e8 button.colab-df-convert');\n",
              "        buttonEl.style.display =\n",
              "          google.colab.kernel.accessAllowed ? 'block' : 'none';\n",
              "\n",
              "        async function convertToInteractive(key) {\n",
              "          const element = document.querySelector('#df-c9517b9a-98c3-46d3-a90f-86d0579a39e8');\n",
              "          const dataTable =\n",
              "            await google.colab.kernel.invokeFunction('convertToInteractive',\n",
              "                                                     [key], {});\n",
              "          if (!dataTable) return;\n",
              "\n",
              "          const docLinkHtml = 'Like what you see? Visit the ' +\n",
              "            '<a target=\"_blank\" href=https://colab.research.google.com/notebooks/data_table.ipynb>data table notebook</a>'\n",
              "            + ' to learn more about interactive tables.';\n",
              "          element.innerHTML = '';\n",
              "          dataTable['output_type'] = 'display_data';\n",
              "          await google.colab.output.renderOutput(dataTable, element);\n",
              "          const docLink = document.createElement('div');\n",
              "          docLink.innerHTML = docLinkHtml;\n",
              "          element.appendChild(docLink);\n",
              "        }\n",
              "      </script>\n",
              "    </div>\n",
              "  </div>\n",
              "  "
            ]
          },
          "metadata": {},
          "execution_count": 5
        }
      ]
    },
    {
      "cell_type": "markdown",
      "source": [
        "# Data"
      ],
      "metadata": {
        "id": "hiA2EAp1q2vS"
      }
    },
    {
      "cell_type": "code",
      "source": [
        "df = data.copy()"
      ],
      "metadata": {
        "id": "EyDSnnS9usoh"
      },
      "execution_count": 6,
      "outputs": []
    },
    {
      "cell_type": "code",
      "source": [
        "x = df.drop(['Bankrupt?'],axis=1)\n",
        "y = df['Bankrupt?']"
      ],
      "metadata": {
        "id": "USHH7Pwgxy0X"
      },
      "execution_count": 7,
      "outputs": []
    },
    {
      "cell_type": "markdown",
      "source": [
        "# Split train and test data"
      ],
      "metadata": {
        "id": "9V77xmxerF6f"
      }
    },
    {
      "cell_type": "code",
      "source": [
        "from sklearn.model_selection import train_test_split\n",
        "X_train, X_test, y_train, y_test = train_test_split(x,\n",
        "                                              y,\n",
        "                                              test_size=0.1,\n",
        "                                              stratify = y,\n",
        "                                              random_state = 42,\n",
        "                                              )"
      ],
      "metadata": {
        "id": "BHI7bTg9Enyn"
      },
      "execution_count": 8,
      "outputs": []
    },
    {
      "cell_type": "code",
      "source": [
        "X_train"
      ],
      "metadata": {
        "colab": {
          "base_uri": "https://localhost:8080/",
          "height": 574
        },
        "id": "DR4SRnXRFWbh",
        "outputId": "8773a8b9-8f3b-4347-9289-d8e571b6e6a1"
      },
      "execution_count": 9,
      "outputs": [
        {
          "output_type": "execute_result",
          "data": {
            "text/plain": [
              "       ROA(C) before interest and depreciation before interest  \\\n",
              "4887                                           0.470141          \n",
              "1462                                           0.617413          \n",
              "1705                                           0.537220          \n",
              "2422                                           0.468191          \n",
              "4407                                           0.527568          \n",
              "...                                                 ...          \n",
              "1078                                           0.481597          \n",
              "6687                                           0.622288          \n",
              "2623                                           0.586847          \n",
              "665                                            0.500951          \n",
              "3706                                           0.442500          \n",
              "\n",
              "       ROA(A) before interest and % after tax  \\\n",
              "4887                                 0.525894   \n",
              "1462                                 0.663650   \n",
              "1705                                 0.564326   \n",
              "2422                                 0.536633   \n",
              "4407                                 0.587167   \n",
              "...                                       ...   \n",
              "1078                                 0.528129   \n",
              "6687                                 0.707697   \n",
              "2623                                 0.642172   \n",
              "665                                  0.566616   \n",
              "3706                                 0.386284   \n",
              "\n",
              "       ROA(B) before interest and depreciation after tax  \\\n",
              "4887                                           0.519460    \n",
              "1462                                           0.649660    \n",
              "1705                                           0.580599    \n",
              "2422                                           0.519996    \n",
              "4407                                           0.570855    \n",
              "...                                                 ...    \n",
              "1078                                           0.530007    \n",
              "6687                                           0.689330    \n",
              "2623                                           0.623374    \n",
              "665                                            0.550244    \n",
              "3706                                           0.491300    \n",
              "\n",
              "       Operating Gross Margin   Realized Sales Gross Margin  \\\n",
              "4887                 0.595865                      0.595994   \n",
              "1462                 0.613932                      0.611338   \n",
              "1705                 0.616880                      0.616880   \n",
              "2422                 0.609586                      0.609586   \n",
              "4407                 0.613046                      0.613046   \n",
              "...                       ...                           ...   \n",
              "1078                 0.605933                      0.605954   \n",
              "6687                 0.614293                      0.603353   \n",
              "2623                 0.609774                      0.609759   \n",
              "665                  0.608952                      0.608837   \n",
              "3706                 0.608304                      0.608304   \n",
              "\n",
              "       Operating Profit Rate   Pre-tax net Interest Rate  \\\n",
              "4887                0.998961                    0.797356   \n",
              "1462                0.999100                    0.798676   \n",
              "1705                0.999237                    0.797683   \n",
              "2422                0.999105                    0.797460   \n",
              "4407                0.999077                    0.797767   \n",
              "...                      ...                         ...   \n",
              "1078                0.999021                    0.797349   \n",
              "6687                0.998882                    0.799178   \n",
              "2623                0.999064                    0.797540   \n",
              "665                 0.999027                    0.797460   \n",
              "3706                0.998614                    0.796293   \n",
              "\n",
              "       After-tax net Interest Rate  \\\n",
              "4887                      0.809286   \n",
              "1462                      0.810280   \n",
              "1705                      0.809562   \n",
              "2422                      0.809376   \n",
              "4407                      0.809592   \n",
              "...                            ...   \n",
              "1078                      0.809262   \n",
              "6687                      0.811001   \n",
              "2623                      0.809426   \n",
              "665                       0.809367   \n",
              "3706                      0.808272   \n",
              "\n",
              "       Non-industry income and expenditure/revenue  \\\n",
              "4887                                      0.303484   \n",
              "1462                                      0.305499   \n",
              "1705                                      0.303476   \n",
              "2422                                      0.303363   \n",
              "4407                                      0.303958   \n",
              "...                                            ...   \n",
              "1078                                      0.303343   \n",
              "6687                                      0.306831   \n",
              "2623                                      0.303589   \n",
              "665                                       0.303527   \n",
              "3706                                      0.302351   \n",
              "\n",
              "       Continuous interest rate (after tax)  ...   Net Income to Total Assets  \\\n",
              "4887                               0.781547  ...                     0.791207   \n",
              "1462                               0.782612  ...                     0.852714   \n",
              "1705                               0.781832  ...                     0.811929   \n",
              "2422                               0.781650  ...                     0.798493   \n",
              "4407                               0.781878  ...                     0.828320   \n",
              "...                                     ...  ...                          ...   \n",
              "1078                               0.781612  ...                     0.791904   \n",
              "6687                               0.783383  ...                     0.875503   \n",
              "2623                               0.781686  ...                     0.856548   \n",
              "665                                0.781623  ...                     0.811462   \n",
              "3706                               0.781319  ...                     0.741242   \n",
              "\n",
              "       Total assets to GNP price   No-credit Interval   Gross Profit to Sales  \\\n",
              "4887                    0.011975             0.623554                0.595861   \n",
              "1462                    0.002913             0.625007                0.613930   \n",
              "1705                    0.004051             0.623595                0.616878   \n",
              "2422                    0.020706             0.617830                0.609587   \n",
              "4407                    0.001768             0.624091                0.613042   \n",
              "...                          ...                  ...                     ...   \n",
              "1078                    0.001990             0.623473                0.605932   \n",
              "6687                    0.002238             0.624557                0.614294   \n",
              "2623                    0.000987             0.623850                0.609770   \n",
              "665                     0.002435             0.623780                0.608950   \n",
              "3706                    0.000694             0.624763                0.608300   \n",
              "\n",
              "       Net Income to Stockholder's Equity   Liability to Equity  \\\n",
              "4887                             0.839659              0.279658   \n",
              "1462                             0.843495              0.276838   \n",
              "1705                             0.841095              0.277578   \n",
              "2422                             0.840434              0.290328   \n",
              "4407                             0.842234              0.277833   \n",
              "...                                   ...                   ...   \n",
              "1078                             0.839643              0.282249   \n",
              "6687                             0.844092              0.275407   \n",
              "2623                             0.843796              0.277000   \n",
              "665                              0.841359              0.280314   \n",
              "3706                             0.837196              0.275559   \n",
              "\n",
              "       Degree of Financial Leverage (DFL)  \\\n",
              "4887                             0.026245   \n",
              "1462                             0.026799   \n",
              "1705                             0.026893   \n",
              "2422                             0.027219   \n",
              "4407                             0.026791   \n",
              "...                                   ...   \n",
              "1078                             0.025451   \n",
              "6687                             0.026794   \n",
              "2623                             0.026791   \n",
              "665                              0.027077   \n",
              "3706                             0.026791   \n",
              "\n",
              "       Interest Coverage Ratio (Interest expense to EBIT)   Net Income Flag  \\\n",
              "4887                                           0.559778                   1   \n",
              "1462                                           0.565195                   1   \n",
              "1705                                           0.565602                   1   \n",
              "2422                                           0.566611                   1   \n",
              "4407                                           0.565158                   1   \n",
              "...                                                 ...                 ...   \n",
              "1078                                           0.588994                   1   \n",
              "6687                                           0.565172                   1   \n",
              "2623                                           0.565159                   1   \n",
              "665                                            0.566231                   1   \n",
              "3706                                           0.565158                   1   \n",
              "\n",
              "       Equity to Liability  \n",
              "4887              0.029683  \n",
              "1462              0.055117  \n",
              "1705              0.043651  \n",
              "2422              0.016418  \n",
              "4407              0.040947  \n",
              "...                    ...  \n",
              "1078              0.023023  \n",
              "6687              0.143685  \n",
              "2623              0.051988  \n",
              "665               0.027417  \n",
              "3706              0.120556  \n",
              "\n",
              "[6137 rows x 95 columns]"
            ],
            "text/html": [
              "\n",
              "  <div id=\"df-1cd7e070-31df-4000-ace7-0c139121a64f\">\n",
              "    <div class=\"colab-df-container\">\n",
              "      <div>\n",
              "<style scoped>\n",
              "    .dataframe tbody tr th:only-of-type {\n",
              "        vertical-align: middle;\n",
              "    }\n",
              "\n",
              "    .dataframe tbody tr th {\n",
              "        vertical-align: top;\n",
              "    }\n",
              "\n",
              "    .dataframe thead th {\n",
              "        text-align: right;\n",
              "    }\n",
              "</style>\n",
              "<table border=\"1\" class=\"dataframe\">\n",
              "  <thead>\n",
              "    <tr style=\"text-align: right;\">\n",
              "      <th></th>\n",
              "      <th>ROA(C) before interest and depreciation before interest</th>\n",
              "      <th>ROA(A) before interest and % after tax</th>\n",
              "      <th>ROA(B) before interest and depreciation after tax</th>\n",
              "      <th>Operating Gross Margin</th>\n",
              "      <th>Realized Sales Gross Margin</th>\n",
              "      <th>Operating Profit Rate</th>\n",
              "      <th>Pre-tax net Interest Rate</th>\n",
              "      <th>After-tax net Interest Rate</th>\n",
              "      <th>Non-industry income and expenditure/revenue</th>\n",
              "      <th>Continuous interest rate (after tax)</th>\n",
              "      <th>...</th>\n",
              "      <th>Net Income to Total Assets</th>\n",
              "      <th>Total assets to GNP price</th>\n",
              "      <th>No-credit Interval</th>\n",
              "      <th>Gross Profit to Sales</th>\n",
              "      <th>Net Income to Stockholder's Equity</th>\n",
              "      <th>Liability to Equity</th>\n",
              "      <th>Degree of Financial Leverage (DFL)</th>\n",
              "      <th>Interest Coverage Ratio (Interest expense to EBIT)</th>\n",
              "      <th>Net Income Flag</th>\n",
              "      <th>Equity to Liability</th>\n",
              "    </tr>\n",
              "  </thead>\n",
              "  <tbody>\n",
              "    <tr>\n",
              "      <th>4887</th>\n",
              "      <td>0.470141</td>\n",
              "      <td>0.525894</td>\n",
              "      <td>0.519460</td>\n",
              "      <td>0.595865</td>\n",
              "      <td>0.595994</td>\n",
              "      <td>0.998961</td>\n",
              "      <td>0.797356</td>\n",
              "      <td>0.809286</td>\n",
              "      <td>0.303484</td>\n",
              "      <td>0.781547</td>\n",
              "      <td>...</td>\n",
              "      <td>0.791207</td>\n",
              "      <td>0.011975</td>\n",
              "      <td>0.623554</td>\n",
              "      <td>0.595861</td>\n",
              "      <td>0.839659</td>\n",
              "      <td>0.279658</td>\n",
              "      <td>0.026245</td>\n",
              "      <td>0.559778</td>\n",
              "      <td>1</td>\n",
              "      <td>0.029683</td>\n",
              "    </tr>\n",
              "    <tr>\n",
              "      <th>1462</th>\n",
              "      <td>0.617413</td>\n",
              "      <td>0.663650</td>\n",
              "      <td>0.649660</td>\n",
              "      <td>0.613932</td>\n",
              "      <td>0.611338</td>\n",
              "      <td>0.999100</td>\n",
              "      <td>0.798676</td>\n",
              "      <td>0.810280</td>\n",
              "      <td>0.305499</td>\n",
              "      <td>0.782612</td>\n",
              "      <td>...</td>\n",
              "      <td>0.852714</td>\n",
              "      <td>0.002913</td>\n",
              "      <td>0.625007</td>\n",
              "      <td>0.613930</td>\n",
              "      <td>0.843495</td>\n",
              "      <td>0.276838</td>\n",
              "      <td>0.026799</td>\n",
              "      <td>0.565195</td>\n",
              "      <td>1</td>\n",
              "      <td>0.055117</td>\n",
              "    </tr>\n",
              "    <tr>\n",
              "      <th>1705</th>\n",
              "      <td>0.537220</td>\n",
              "      <td>0.564326</td>\n",
              "      <td>0.580599</td>\n",
              "      <td>0.616880</td>\n",
              "      <td>0.616880</td>\n",
              "      <td>0.999237</td>\n",
              "      <td>0.797683</td>\n",
              "      <td>0.809562</td>\n",
              "      <td>0.303476</td>\n",
              "      <td>0.781832</td>\n",
              "      <td>...</td>\n",
              "      <td>0.811929</td>\n",
              "      <td>0.004051</td>\n",
              "      <td>0.623595</td>\n",
              "      <td>0.616878</td>\n",
              "      <td>0.841095</td>\n",
              "      <td>0.277578</td>\n",
              "      <td>0.026893</td>\n",
              "      <td>0.565602</td>\n",
              "      <td>1</td>\n",
              "      <td>0.043651</td>\n",
              "    </tr>\n",
              "    <tr>\n",
              "      <th>2422</th>\n",
              "      <td>0.468191</td>\n",
              "      <td>0.536633</td>\n",
              "      <td>0.519996</td>\n",
              "      <td>0.609586</td>\n",
              "      <td>0.609586</td>\n",
              "      <td>0.999105</td>\n",
              "      <td>0.797460</td>\n",
              "      <td>0.809376</td>\n",
              "      <td>0.303363</td>\n",
              "      <td>0.781650</td>\n",
              "      <td>...</td>\n",
              "      <td>0.798493</td>\n",
              "      <td>0.020706</td>\n",
              "      <td>0.617830</td>\n",
              "      <td>0.609587</td>\n",
              "      <td>0.840434</td>\n",
              "      <td>0.290328</td>\n",
              "      <td>0.027219</td>\n",
              "      <td>0.566611</td>\n",
              "      <td>1</td>\n",
              "      <td>0.016418</td>\n",
              "    </tr>\n",
              "    <tr>\n",
              "      <th>4407</th>\n",
              "      <td>0.527568</td>\n",
              "      <td>0.587167</td>\n",
              "      <td>0.570855</td>\n",
              "      <td>0.613046</td>\n",
              "      <td>0.613046</td>\n",
              "      <td>0.999077</td>\n",
              "      <td>0.797767</td>\n",
              "      <td>0.809592</td>\n",
              "      <td>0.303958</td>\n",
              "      <td>0.781878</td>\n",
              "      <td>...</td>\n",
              "      <td>0.828320</td>\n",
              "      <td>0.001768</td>\n",
              "      <td>0.624091</td>\n",
              "      <td>0.613042</td>\n",
              "      <td>0.842234</td>\n",
              "      <td>0.277833</td>\n",
              "      <td>0.026791</td>\n",
              "      <td>0.565158</td>\n",
              "      <td>1</td>\n",
              "      <td>0.040947</td>\n",
              "    </tr>\n",
              "    <tr>\n",
              "      <th>...</th>\n",
              "      <td>...</td>\n",
              "      <td>...</td>\n",
              "      <td>...</td>\n",
              "      <td>...</td>\n",
              "      <td>...</td>\n",
              "      <td>...</td>\n",
              "      <td>...</td>\n",
              "      <td>...</td>\n",
              "      <td>...</td>\n",
              "      <td>...</td>\n",
              "      <td>...</td>\n",
              "      <td>...</td>\n",
              "      <td>...</td>\n",
              "      <td>...</td>\n",
              "      <td>...</td>\n",
              "      <td>...</td>\n",
              "      <td>...</td>\n",
              "      <td>...</td>\n",
              "      <td>...</td>\n",
              "      <td>...</td>\n",
              "      <td>...</td>\n",
              "    </tr>\n",
              "    <tr>\n",
              "      <th>1078</th>\n",
              "      <td>0.481597</td>\n",
              "      <td>0.528129</td>\n",
              "      <td>0.530007</td>\n",
              "      <td>0.605933</td>\n",
              "      <td>0.605954</td>\n",
              "      <td>0.999021</td>\n",
              "      <td>0.797349</td>\n",
              "      <td>0.809262</td>\n",
              "      <td>0.303343</td>\n",
              "      <td>0.781612</td>\n",
              "      <td>...</td>\n",
              "      <td>0.791904</td>\n",
              "      <td>0.001990</td>\n",
              "      <td>0.623473</td>\n",
              "      <td>0.605932</td>\n",
              "      <td>0.839643</td>\n",
              "      <td>0.282249</td>\n",
              "      <td>0.025451</td>\n",
              "      <td>0.588994</td>\n",
              "      <td>1</td>\n",
              "      <td>0.023023</td>\n",
              "    </tr>\n",
              "    <tr>\n",
              "      <th>6687</th>\n",
              "      <td>0.622288</td>\n",
              "      <td>0.707697</td>\n",
              "      <td>0.689330</td>\n",
              "      <td>0.614293</td>\n",
              "      <td>0.603353</td>\n",
              "      <td>0.998882</td>\n",
              "      <td>0.799178</td>\n",
              "      <td>0.811001</td>\n",
              "      <td>0.306831</td>\n",
              "      <td>0.783383</td>\n",
              "      <td>...</td>\n",
              "      <td>0.875503</td>\n",
              "      <td>0.002238</td>\n",
              "      <td>0.624557</td>\n",
              "      <td>0.614294</td>\n",
              "      <td>0.844092</td>\n",
              "      <td>0.275407</td>\n",
              "      <td>0.026794</td>\n",
              "      <td>0.565172</td>\n",
              "      <td>1</td>\n",
              "      <td>0.143685</td>\n",
              "    </tr>\n",
              "    <tr>\n",
              "      <th>2623</th>\n",
              "      <td>0.586847</td>\n",
              "      <td>0.642172</td>\n",
              "      <td>0.623374</td>\n",
              "      <td>0.609774</td>\n",
              "      <td>0.609759</td>\n",
              "      <td>0.999064</td>\n",
              "      <td>0.797540</td>\n",
              "      <td>0.809426</td>\n",
              "      <td>0.303589</td>\n",
              "      <td>0.781686</td>\n",
              "      <td>...</td>\n",
              "      <td>0.856548</td>\n",
              "      <td>0.000987</td>\n",
              "      <td>0.623850</td>\n",
              "      <td>0.609770</td>\n",
              "      <td>0.843796</td>\n",
              "      <td>0.277000</td>\n",
              "      <td>0.026791</td>\n",
              "      <td>0.565159</td>\n",
              "      <td>1</td>\n",
              "      <td>0.051988</td>\n",
              "    </tr>\n",
              "    <tr>\n",
              "      <th>665</th>\n",
              "      <td>0.500951</td>\n",
              "      <td>0.566616</td>\n",
              "      <td>0.550244</td>\n",
              "      <td>0.608952</td>\n",
              "      <td>0.608837</td>\n",
              "      <td>0.999027</td>\n",
              "      <td>0.797460</td>\n",
              "      <td>0.809367</td>\n",
              "      <td>0.303527</td>\n",
              "      <td>0.781623</td>\n",
              "      <td>...</td>\n",
              "      <td>0.811462</td>\n",
              "      <td>0.002435</td>\n",
              "      <td>0.623780</td>\n",
              "      <td>0.608950</td>\n",
              "      <td>0.841359</td>\n",
              "      <td>0.280314</td>\n",
              "      <td>0.027077</td>\n",
              "      <td>0.566231</td>\n",
              "      <td>1</td>\n",
              "      <td>0.027417</td>\n",
              "    </tr>\n",
              "    <tr>\n",
              "      <th>3706</th>\n",
              "      <td>0.442500</td>\n",
              "      <td>0.386284</td>\n",
              "      <td>0.491300</td>\n",
              "      <td>0.608304</td>\n",
              "      <td>0.608304</td>\n",
              "      <td>0.998614</td>\n",
              "      <td>0.796293</td>\n",
              "      <td>0.808272</td>\n",
              "      <td>0.302351</td>\n",
              "      <td>0.781319</td>\n",
              "      <td>...</td>\n",
              "      <td>0.741242</td>\n",
              "      <td>0.000694</td>\n",
              "      <td>0.624763</td>\n",
              "      <td>0.608300</td>\n",
              "      <td>0.837196</td>\n",
              "      <td>0.275559</td>\n",
              "      <td>0.026791</td>\n",
              "      <td>0.565158</td>\n",
              "      <td>1</td>\n",
              "      <td>0.120556</td>\n",
              "    </tr>\n",
              "  </tbody>\n",
              "</table>\n",
              "<p>6137 rows × 95 columns</p>\n",
              "</div>\n",
              "      <button class=\"colab-df-convert\" onclick=\"convertToInteractive('df-1cd7e070-31df-4000-ace7-0c139121a64f')\"\n",
              "              title=\"Convert this dataframe to an interactive table.\"\n",
              "              style=\"display:none;\">\n",
              "        \n",
              "  <svg xmlns=\"http://www.w3.org/2000/svg\" height=\"24px\"viewBox=\"0 0 24 24\"\n",
              "       width=\"24px\">\n",
              "    <path d=\"M0 0h24v24H0V0z\" fill=\"none\"/>\n",
              "    <path d=\"M18.56 5.44l.94 2.06.94-2.06 2.06-.94-2.06-.94-.94-2.06-.94 2.06-2.06.94zm-11 1L8.5 8.5l.94-2.06 2.06-.94-2.06-.94L8.5 2.5l-.94 2.06-2.06.94zm10 10l.94 2.06.94-2.06 2.06-.94-2.06-.94-.94-2.06-.94 2.06-2.06.94z\"/><path d=\"M17.41 7.96l-1.37-1.37c-.4-.4-.92-.59-1.43-.59-.52 0-1.04.2-1.43.59L10.3 9.45l-7.72 7.72c-.78.78-.78 2.05 0 2.83L4 21.41c.39.39.9.59 1.41.59.51 0 1.02-.2 1.41-.59l7.78-7.78 2.81-2.81c.8-.78.8-2.07 0-2.86zM5.41 20L4 18.59l7.72-7.72 1.47 1.35L5.41 20z\"/>\n",
              "  </svg>\n",
              "      </button>\n",
              "      \n",
              "  <style>\n",
              "    .colab-df-container {\n",
              "      display:flex;\n",
              "      flex-wrap:wrap;\n",
              "      gap: 12px;\n",
              "    }\n",
              "\n",
              "    .colab-df-convert {\n",
              "      background-color: #E8F0FE;\n",
              "      border: none;\n",
              "      border-radius: 50%;\n",
              "      cursor: pointer;\n",
              "      display: none;\n",
              "      fill: #1967D2;\n",
              "      height: 32px;\n",
              "      padding: 0 0 0 0;\n",
              "      width: 32px;\n",
              "    }\n",
              "\n",
              "    .colab-df-convert:hover {\n",
              "      background-color: #E2EBFA;\n",
              "      box-shadow: 0px 1px 2px rgba(60, 64, 67, 0.3), 0px 1px 3px 1px rgba(60, 64, 67, 0.15);\n",
              "      fill: #174EA6;\n",
              "    }\n",
              "\n",
              "    [theme=dark] .colab-df-convert {\n",
              "      background-color: #3B4455;\n",
              "      fill: #D2E3FC;\n",
              "    }\n",
              "\n",
              "    [theme=dark] .colab-df-convert:hover {\n",
              "      background-color: #434B5C;\n",
              "      box-shadow: 0px 1px 3px 1px rgba(0, 0, 0, 0.15);\n",
              "      filter: drop-shadow(0px 1px 2px rgba(0, 0, 0, 0.3));\n",
              "      fill: #FFFFFF;\n",
              "    }\n",
              "  </style>\n",
              "\n",
              "      <script>\n",
              "        const buttonEl =\n",
              "          document.querySelector('#df-1cd7e070-31df-4000-ace7-0c139121a64f button.colab-df-convert');\n",
              "        buttonEl.style.display =\n",
              "          google.colab.kernel.accessAllowed ? 'block' : 'none';\n",
              "\n",
              "        async function convertToInteractive(key) {\n",
              "          const element = document.querySelector('#df-1cd7e070-31df-4000-ace7-0c139121a64f');\n",
              "          const dataTable =\n",
              "            await google.colab.kernel.invokeFunction('convertToInteractive',\n",
              "                                                     [key], {});\n",
              "          if (!dataTable) return;\n",
              "\n",
              "          const docLinkHtml = 'Like what you see? Visit the ' +\n",
              "            '<a target=\"_blank\" href=https://colab.research.google.com/notebooks/data_table.ipynb>data table notebook</a>'\n",
              "            + ' to learn more about interactive tables.';\n",
              "          element.innerHTML = '';\n",
              "          dataTable['output_type'] = 'display_data';\n",
              "          await google.colab.output.renderOutput(dataTable, element);\n",
              "          const docLink = document.createElement('div');\n",
              "          docLink.innerHTML = docLinkHtml;\n",
              "          element.appendChild(docLink);\n",
              "        }\n",
              "      </script>\n",
              "    </div>\n",
              "  </div>\n",
              "  "
            ]
          },
          "metadata": {},
          "execution_count": 9
        }
      ]
    },
    {
      "cell_type": "code",
      "source": [
        "print(X_train.shape,X_test.shape,y_train.shape,y_test.shape)"
      ],
      "metadata": {
        "colab": {
          "base_uri": "https://localhost:8080/"
        },
        "id": "kClQZaSaB3eu",
        "outputId": "c1cb5d44-bf4a-43fd-cfc1-4c0e7031bce6"
      },
      "execution_count": 10,
      "outputs": [
        {
          "output_type": "stream",
          "name": "stdout",
          "text": [
            "(6137, 95) (682, 95) (6137,) (682,)\n"
          ]
        }
      ]
    },
    {
      "cell_type": "markdown",
      "source": [
        "# Fix skewness"
      ],
      "metadata": {
        "id": "vLczzccjrKbF"
      }
    },
    {
      "cell_type": "code",
      "source": [
        "def skewness(data):\n",
        "    skew_df = pd.DataFrame(data.select_dtypes(np.number).columns, columns=['Feature'])\n",
        "    skew_df['Skew'] = skew_df['Feature'].apply(lambda feature: scipy.stats.skew(data[feature]))\n",
        "    skew_df['Absolute Skew'] = skew_df['Skew'].apply(abs)\n",
        "    skew_df['Skewed'] = skew_df['Absolute Skew'].apply(lambda x: True if x >= 0.5 else False)\n",
        "    return skew_df"
      ],
      "metadata": {
        "id": "PMXUzP8xEml2"
      },
      "execution_count": 11,
      "outputs": []
    },
    {
      "cell_type": "code",
      "source": [
        "skew_df = skewness(X_train)\n",
        "skew_df"
      ],
      "metadata": {
        "colab": {
          "base_uri": "https://localhost:8080/",
          "height": 423
        },
        "id": "Gfj4kKRmEx3Y",
        "outputId": "95c4a1e9-26fb-4e93-acda-f9b483081b32"
      },
      "execution_count": 12,
      "outputs": [
        {
          "output_type": "execute_result",
          "data": {
            "text/plain": [
              "                                              Feature       Skew  \\\n",
              "0    ROA(C) before interest and depreciation befor...  -0.236264   \n",
              "1              ROA(A) before interest and % after tax  -0.979708   \n",
              "2    ROA(B) before interest and depreciation after...  -0.648705   \n",
              "3                              Operating Gross Margin -11.608534   \n",
              "4                         Realized Sales Gross Margin -11.645122   \n",
              "..                                                ...        ...   \n",
              "90                                Liability to Equity  26.656952   \n",
              "91                 Degree of Financial Leverage (DFL)  43.904828   \n",
              "92   Interest Coverage Ratio (Interest expense to ... -13.729706   \n",
              "93                                    Net Income Flag   0.000000   \n",
              "94                                Equity to Liability   7.196975   \n",
              "\n",
              "    Absolute Skew  Skewed  \n",
              "0        0.236264   False  \n",
              "1        0.979708    True  \n",
              "2        0.648705    True  \n",
              "3       11.608534    True  \n",
              "4       11.645122    True  \n",
              "..            ...     ...  \n",
              "90      26.656952    True  \n",
              "91      43.904828    True  \n",
              "92      13.729706    True  \n",
              "93       0.000000   False  \n",
              "94       7.196975    True  \n",
              "\n",
              "[95 rows x 4 columns]"
            ],
            "text/html": [
              "\n",
              "  <div id=\"df-90c45f10-663c-48ce-a57f-ef5fe144392e\">\n",
              "    <div class=\"colab-df-container\">\n",
              "      <div>\n",
              "<style scoped>\n",
              "    .dataframe tbody tr th:only-of-type {\n",
              "        vertical-align: middle;\n",
              "    }\n",
              "\n",
              "    .dataframe tbody tr th {\n",
              "        vertical-align: top;\n",
              "    }\n",
              "\n",
              "    .dataframe thead th {\n",
              "        text-align: right;\n",
              "    }\n",
              "</style>\n",
              "<table border=\"1\" class=\"dataframe\">\n",
              "  <thead>\n",
              "    <tr style=\"text-align: right;\">\n",
              "      <th></th>\n",
              "      <th>Feature</th>\n",
              "      <th>Skew</th>\n",
              "      <th>Absolute Skew</th>\n",
              "      <th>Skewed</th>\n",
              "    </tr>\n",
              "  </thead>\n",
              "  <tbody>\n",
              "    <tr>\n",
              "      <th>0</th>\n",
              "      <td>ROA(C) before interest and depreciation befor...</td>\n",
              "      <td>-0.236264</td>\n",
              "      <td>0.236264</td>\n",
              "      <td>False</td>\n",
              "    </tr>\n",
              "    <tr>\n",
              "      <th>1</th>\n",
              "      <td>ROA(A) before interest and % after tax</td>\n",
              "      <td>-0.979708</td>\n",
              "      <td>0.979708</td>\n",
              "      <td>True</td>\n",
              "    </tr>\n",
              "    <tr>\n",
              "      <th>2</th>\n",
              "      <td>ROA(B) before interest and depreciation after...</td>\n",
              "      <td>-0.648705</td>\n",
              "      <td>0.648705</td>\n",
              "      <td>True</td>\n",
              "    </tr>\n",
              "    <tr>\n",
              "      <th>3</th>\n",
              "      <td>Operating Gross Margin</td>\n",
              "      <td>-11.608534</td>\n",
              "      <td>11.608534</td>\n",
              "      <td>True</td>\n",
              "    </tr>\n",
              "    <tr>\n",
              "      <th>4</th>\n",
              "      <td>Realized Sales Gross Margin</td>\n",
              "      <td>-11.645122</td>\n",
              "      <td>11.645122</td>\n",
              "      <td>True</td>\n",
              "    </tr>\n",
              "    <tr>\n",
              "      <th>...</th>\n",
              "      <td>...</td>\n",
              "      <td>...</td>\n",
              "      <td>...</td>\n",
              "      <td>...</td>\n",
              "    </tr>\n",
              "    <tr>\n",
              "      <th>90</th>\n",
              "      <td>Liability to Equity</td>\n",
              "      <td>26.656952</td>\n",
              "      <td>26.656952</td>\n",
              "      <td>True</td>\n",
              "    </tr>\n",
              "    <tr>\n",
              "      <th>91</th>\n",
              "      <td>Degree of Financial Leverage (DFL)</td>\n",
              "      <td>43.904828</td>\n",
              "      <td>43.904828</td>\n",
              "      <td>True</td>\n",
              "    </tr>\n",
              "    <tr>\n",
              "      <th>92</th>\n",
              "      <td>Interest Coverage Ratio (Interest expense to ...</td>\n",
              "      <td>-13.729706</td>\n",
              "      <td>13.729706</td>\n",
              "      <td>True</td>\n",
              "    </tr>\n",
              "    <tr>\n",
              "      <th>93</th>\n",
              "      <td>Net Income Flag</td>\n",
              "      <td>0.000000</td>\n",
              "      <td>0.000000</td>\n",
              "      <td>False</td>\n",
              "    </tr>\n",
              "    <tr>\n",
              "      <th>94</th>\n",
              "      <td>Equity to Liability</td>\n",
              "      <td>7.196975</td>\n",
              "      <td>7.196975</td>\n",
              "      <td>True</td>\n",
              "    </tr>\n",
              "  </tbody>\n",
              "</table>\n",
              "<p>95 rows × 4 columns</p>\n",
              "</div>\n",
              "      <button class=\"colab-df-convert\" onclick=\"convertToInteractive('df-90c45f10-663c-48ce-a57f-ef5fe144392e')\"\n",
              "              title=\"Convert this dataframe to an interactive table.\"\n",
              "              style=\"display:none;\">\n",
              "        \n",
              "  <svg xmlns=\"http://www.w3.org/2000/svg\" height=\"24px\"viewBox=\"0 0 24 24\"\n",
              "       width=\"24px\">\n",
              "    <path d=\"M0 0h24v24H0V0z\" fill=\"none\"/>\n",
              "    <path d=\"M18.56 5.44l.94 2.06.94-2.06 2.06-.94-2.06-.94-.94-2.06-.94 2.06-2.06.94zm-11 1L8.5 8.5l.94-2.06 2.06-.94-2.06-.94L8.5 2.5l-.94 2.06-2.06.94zm10 10l.94 2.06.94-2.06 2.06-.94-2.06-.94-.94-2.06-.94 2.06-2.06.94z\"/><path d=\"M17.41 7.96l-1.37-1.37c-.4-.4-.92-.59-1.43-.59-.52 0-1.04.2-1.43.59L10.3 9.45l-7.72 7.72c-.78.78-.78 2.05 0 2.83L4 21.41c.39.39.9.59 1.41.59.51 0 1.02-.2 1.41-.59l7.78-7.78 2.81-2.81c.8-.78.8-2.07 0-2.86zM5.41 20L4 18.59l7.72-7.72 1.47 1.35L5.41 20z\"/>\n",
              "  </svg>\n",
              "      </button>\n",
              "      \n",
              "  <style>\n",
              "    .colab-df-container {\n",
              "      display:flex;\n",
              "      flex-wrap:wrap;\n",
              "      gap: 12px;\n",
              "    }\n",
              "\n",
              "    .colab-df-convert {\n",
              "      background-color: #E8F0FE;\n",
              "      border: none;\n",
              "      border-radius: 50%;\n",
              "      cursor: pointer;\n",
              "      display: none;\n",
              "      fill: #1967D2;\n",
              "      height: 32px;\n",
              "      padding: 0 0 0 0;\n",
              "      width: 32px;\n",
              "    }\n",
              "\n",
              "    .colab-df-convert:hover {\n",
              "      background-color: #E2EBFA;\n",
              "      box-shadow: 0px 1px 2px rgba(60, 64, 67, 0.3), 0px 1px 3px 1px rgba(60, 64, 67, 0.15);\n",
              "      fill: #174EA6;\n",
              "    }\n",
              "\n",
              "    [theme=dark] .colab-df-convert {\n",
              "      background-color: #3B4455;\n",
              "      fill: #D2E3FC;\n",
              "    }\n",
              "\n",
              "    [theme=dark] .colab-df-convert:hover {\n",
              "      background-color: #434B5C;\n",
              "      box-shadow: 0px 1px 3px 1px rgba(0, 0, 0, 0.15);\n",
              "      filter: drop-shadow(0px 1px 2px rgba(0, 0, 0, 0.3));\n",
              "      fill: #FFFFFF;\n",
              "    }\n",
              "  </style>\n",
              "\n",
              "      <script>\n",
              "        const buttonEl =\n",
              "          document.querySelector('#df-90c45f10-663c-48ce-a57f-ef5fe144392e button.colab-df-convert');\n",
              "        buttonEl.style.display =\n",
              "          google.colab.kernel.accessAllowed ? 'block' : 'none';\n",
              "\n",
              "        async function convertToInteractive(key) {\n",
              "          const element = document.querySelector('#df-90c45f10-663c-48ce-a57f-ef5fe144392e');\n",
              "          const dataTable =\n",
              "            await google.colab.kernel.invokeFunction('convertToInteractive',\n",
              "                                                     [key], {});\n",
              "          if (!dataTable) return;\n",
              "\n",
              "          const docLinkHtml = 'Like what you see? Visit the ' +\n",
              "            '<a target=\"_blank\" href=https://colab.research.google.com/notebooks/data_table.ipynb>data table notebook</a>'\n",
              "            + ' to learn more about interactive tables.';\n",
              "          element.innerHTML = '';\n",
              "          dataTable['output_type'] = 'display_data';\n",
              "          await google.colab.output.renderOutput(dataTable, element);\n",
              "          const docLink = document.createElement('div');\n",
              "          docLink.innerHTML = docLinkHtml;\n",
              "          element.appendChild(docLink);\n",
              "        }\n",
              "      </script>\n",
              "    </div>\n",
              "  </div>\n",
              "  "
            ]
          },
          "metadata": {},
          "execution_count": 12
        }
      ]
    },
    {
      "cell_type": "code",
      "source": [
        "for column in skew_df.query(\"Skewed == True\")['Feature'].values:\n",
        "    X_train[column] = np.log1p(X_train[column])"
      ],
      "metadata": {
        "id": "qc0281IBFBo3"
      },
      "execution_count": 13,
      "outputs": []
    },
    {
      "cell_type": "code",
      "source": [
        "X_train.head(3)"
      ],
      "metadata": {
        "colab": {
          "base_uri": "https://localhost:8080/",
          "height": 323
        },
        "id": "jPbImvm0Gfpm",
        "outputId": "cb1ed342-3c08-4feb-9e5a-644d913d3f39"
      },
      "execution_count": 14,
      "outputs": [
        {
          "output_type": "execute_result",
          "data": {
            "text/plain": [
              "       ROA(C) before interest and depreciation before interest  \\\n",
              "4887                                           0.470141          \n",
              "1462                                           0.617413          \n",
              "1705                                           0.537220          \n",
              "\n",
              "       ROA(A) before interest and % after tax  \\\n",
              "4887                                 0.422580   \n",
              "1462                                 0.509014   \n",
              "1705                                 0.447455   \n",
              "\n",
              "       ROA(B) before interest and depreciation after tax  \\\n",
              "4887                                           0.418355    \n",
              "1462                                           0.500569    \n",
              "1705                                           0.457804    \n",
              "\n",
              "       Operating Gross Margin   Realized Sales Gross Margin  \\\n",
              "4887                 0.467416                      0.467497   \n",
              "1462                 0.478674                      0.477065   \n",
              "1705                 0.480498                      0.480498   \n",
              "\n",
              "       Operating Profit Rate   Pre-tax net Interest Rate  \\\n",
              "4887                0.692627                    0.586317   \n",
              "1462                0.692697                    0.587051   \n",
              "1705                0.692766                    0.586499   \n",
              "\n",
              "       After-tax net Interest Rate  \\\n",
              "4887                      0.592932   \n",
              "1462                      0.593481   \n",
              "1705                      0.593085   \n",
              "\n",
              "       Non-industry income and expenditure/revenue  \\\n",
              "4887                                      0.265041   \n",
              "1462                                      0.266585   \n",
              "1705                                      0.265035   \n",
              "\n",
              "       Continuous interest rate (after tax)  ...   Net Income to Total Assets  \\\n",
              "4887                               0.577482  ...                     0.582890   \n",
              "1462                               0.578080  ...                     0.616651   \n",
              "1705                               0.577642  ...                     0.594392   \n",
              "\n",
              "       Total assets to GNP price   No-credit Interval   Gross Profit to Sales  \\\n",
              "4887                    0.011904             0.484617                0.467413   \n",
              "1462                    0.002909             0.485512                0.478672   \n",
              "1705                    0.004043             0.484643                0.480497   \n",
              "\n",
              "       Net Income to Stockholder's Equity   Liability to Equity  \\\n",
              "4887                             0.609580              0.246593   \n",
              "1462                             0.611663              0.244387   \n",
              "1705                             0.610361              0.244966   \n",
              "\n",
              "       Degree of Financial Leverage (DFL)  \\\n",
              "4887                             0.025907   \n",
              "1462                             0.026446   \n",
              "1705                             0.026538   \n",
              "\n",
              "       Interest Coverage Ratio (Interest expense to EBIT)   Net Income Flag  \\\n",
              "4887                                           0.444544                   1   \n",
              "1462                                           0.448011                   1   \n",
              "1705                                           0.448270                   1   \n",
              "\n",
              "       Equity to Liability  \n",
              "4887              0.029251  \n",
              "1462              0.053651  \n",
              "1705              0.042725  \n",
              "\n",
              "[3 rows x 95 columns]"
            ],
            "text/html": [
              "\n",
              "  <div id=\"df-b852ca3f-7a07-4bb4-a86d-e43c8c395cd3\">\n",
              "    <div class=\"colab-df-container\">\n",
              "      <div>\n",
              "<style scoped>\n",
              "    .dataframe tbody tr th:only-of-type {\n",
              "        vertical-align: middle;\n",
              "    }\n",
              "\n",
              "    .dataframe tbody tr th {\n",
              "        vertical-align: top;\n",
              "    }\n",
              "\n",
              "    .dataframe thead th {\n",
              "        text-align: right;\n",
              "    }\n",
              "</style>\n",
              "<table border=\"1\" class=\"dataframe\">\n",
              "  <thead>\n",
              "    <tr style=\"text-align: right;\">\n",
              "      <th></th>\n",
              "      <th>ROA(C) before interest and depreciation before interest</th>\n",
              "      <th>ROA(A) before interest and % after tax</th>\n",
              "      <th>ROA(B) before interest and depreciation after tax</th>\n",
              "      <th>Operating Gross Margin</th>\n",
              "      <th>Realized Sales Gross Margin</th>\n",
              "      <th>Operating Profit Rate</th>\n",
              "      <th>Pre-tax net Interest Rate</th>\n",
              "      <th>After-tax net Interest Rate</th>\n",
              "      <th>Non-industry income and expenditure/revenue</th>\n",
              "      <th>Continuous interest rate (after tax)</th>\n",
              "      <th>...</th>\n",
              "      <th>Net Income to Total Assets</th>\n",
              "      <th>Total assets to GNP price</th>\n",
              "      <th>No-credit Interval</th>\n",
              "      <th>Gross Profit to Sales</th>\n",
              "      <th>Net Income to Stockholder's Equity</th>\n",
              "      <th>Liability to Equity</th>\n",
              "      <th>Degree of Financial Leverage (DFL)</th>\n",
              "      <th>Interest Coverage Ratio (Interest expense to EBIT)</th>\n",
              "      <th>Net Income Flag</th>\n",
              "      <th>Equity to Liability</th>\n",
              "    </tr>\n",
              "  </thead>\n",
              "  <tbody>\n",
              "    <tr>\n",
              "      <th>4887</th>\n",
              "      <td>0.470141</td>\n",
              "      <td>0.422580</td>\n",
              "      <td>0.418355</td>\n",
              "      <td>0.467416</td>\n",
              "      <td>0.467497</td>\n",
              "      <td>0.692627</td>\n",
              "      <td>0.586317</td>\n",
              "      <td>0.592932</td>\n",
              "      <td>0.265041</td>\n",
              "      <td>0.577482</td>\n",
              "      <td>...</td>\n",
              "      <td>0.582890</td>\n",
              "      <td>0.011904</td>\n",
              "      <td>0.484617</td>\n",
              "      <td>0.467413</td>\n",
              "      <td>0.609580</td>\n",
              "      <td>0.246593</td>\n",
              "      <td>0.025907</td>\n",
              "      <td>0.444544</td>\n",
              "      <td>1</td>\n",
              "      <td>0.029251</td>\n",
              "    </tr>\n",
              "    <tr>\n",
              "      <th>1462</th>\n",
              "      <td>0.617413</td>\n",
              "      <td>0.509014</td>\n",
              "      <td>0.500569</td>\n",
              "      <td>0.478674</td>\n",
              "      <td>0.477065</td>\n",
              "      <td>0.692697</td>\n",
              "      <td>0.587051</td>\n",
              "      <td>0.593481</td>\n",
              "      <td>0.266585</td>\n",
              "      <td>0.578080</td>\n",
              "      <td>...</td>\n",
              "      <td>0.616651</td>\n",
              "      <td>0.002909</td>\n",
              "      <td>0.485512</td>\n",
              "      <td>0.478672</td>\n",
              "      <td>0.611663</td>\n",
              "      <td>0.244387</td>\n",
              "      <td>0.026446</td>\n",
              "      <td>0.448011</td>\n",
              "      <td>1</td>\n",
              "      <td>0.053651</td>\n",
              "    </tr>\n",
              "    <tr>\n",
              "      <th>1705</th>\n",
              "      <td>0.537220</td>\n",
              "      <td>0.447455</td>\n",
              "      <td>0.457804</td>\n",
              "      <td>0.480498</td>\n",
              "      <td>0.480498</td>\n",
              "      <td>0.692766</td>\n",
              "      <td>0.586499</td>\n",
              "      <td>0.593085</td>\n",
              "      <td>0.265035</td>\n",
              "      <td>0.577642</td>\n",
              "      <td>...</td>\n",
              "      <td>0.594392</td>\n",
              "      <td>0.004043</td>\n",
              "      <td>0.484643</td>\n",
              "      <td>0.480497</td>\n",
              "      <td>0.610361</td>\n",
              "      <td>0.244966</td>\n",
              "      <td>0.026538</td>\n",
              "      <td>0.448270</td>\n",
              "      <td>1</td>\n",
              "      <td>0.042725</td>\n",
              "    </tr>\n",
              "  </tbody>\n",
              "</table>\n",
              "<p>3 rows × 95 columns</p>\n",
              "</div>\n",
              "      <button class=\"colab-df-convert\" onclick=\"convertToInteractive('df-b852ca3f-7a07-4bb4-a86d-e43c8c395cd3')\"\n",
              "              title=\"Convert this dataframe to an interactive table.\"\n",
              "              style=\"display:none;\">\n",
              "        \n",
              "  <svg xmlns=\"http://www.w3.org/2000/svg\" height=\"24px\"viewBox=\"0 0 24 24\"\n",
              "       width=\"24px\">\n",
              "    <path d=\"M0 0h24v24H0V0z\" fill=\"none\"/>\n",
              "    <path d=\"M18.56 5.44l.94 2.06.94-2.06 2.06-.94-2.06-.94-.94-2.06-.94 2.06-2.06.94zm-11 1L8.5 8.5l.94-2.06 2.06-.94-2.06-.94L8.5 2.5l-.94 2.06-2.06.94zm10 10l.94 2.06.94-2.06 2.06-.94-2.06-.94-.94-2.06-.94 2.06-2.06.94z\"/><path d=\"M17.41 7.96l-1.37-1.37c-.4-.4-.92-.59-1.43-.59-.52 0-1.04.2-1.43.59L10.3 9.45l-7.72 7.72c-.78.78-.78 2.05 0 2.83L4 21.41c.39.39.9.59 1.41.59.51 0 1.02-.2 1.41-.59l7.78-7.78 2.81-2.81c.8-.78.8-2.07 0-2.86zM5.41 20L4 18.59l7.72-7.72 1.47 1.35L5.41 20z\"/>\n",
              "  </svg>\n",
              "      </button>\n",
              "      \n",
              "  <style>\n",
              "    .colab-df-container {\n",
              "      display:flex;\n",
              "      flex-wrap:wrap;\n",
              "      gap: 12px;\n",
              "    }\n",
              "\n",
              "    .colab-df-convert {\n",
              "      background-color: #E8F0FE;\n",
              "      border: none;\n",
              "      border-radius: 50%;\n",
              "      cursor: pointer;\n",
              "      display: none;\n",
              "      fill: #1967D2;\n",
              "      height: 32px;\n",
              "      padding: 0 0 0 0;\n",
              "      width: 32px;\n",
              "    }\n",
              "\n",
              "    .colab-df-convert:hover {\n",
              "      background-color: #E2EBFA;\n",
              "      box-shadow: 0px 1px 2px rgba(60, 64, 67, 0.3), 0px 1px 3px 1px rgba(60, 64, 67, 0.15);\n",
              "      fill: #174EA6;\n",
              "    }\n",
              "\n",
              "    [theme=dark] .colab-df-convert {\n",
              "      background-color: #3B4455;\n",
              "      fill: #D2E3FC;\n",
              "    }\n",
              "\n",
              "    [theme=dark] .colab-df-convert:hover {\n",
              "      background-color: #434B5C;\n",
              "      box-shadow: 0px 1px 3px 1px rgba(0, 0, 0, 0.15);\n",
              "      filter: drop-shadow(0px 1px 2px rgba(0, 0, 0, 0.3));\n",
              "      fill: #FFFFFF;\n",
              "    }\n",
              "  </style>\n",
              "\n",
              "      <script>\n",
              "        const buttonEl =\n",
              "          document.querySelector('#df-b852ca3f-7a07-4bb4-a86d-e43c8c395cd3 button.colab-df-convert');\n",
              "        buttonEl.style.display =\n",
              "          google.colab.kernel.accessAllowed ? 'block' : 'none';\n",
              "\n",
              "        async function convertToInteractive(key) {\n",
              "          const element = document.querySelector('#df-b852ca3f-7a07-4bb4-a86d-e43c8c395cd3');\n",
              "          const dataTable =\n",
              "            await google.colab.kernel.invokeFunction('convertToInteractive',\n",
              "                                                     [key], {});\n",
              "          if (!dataTable) return;\n",
              "\n",
              "          const docLinkHtml = 'Like what you see? Visit the ' +\n",
              "            '<a target=\"_blank\" href=https://colab.research.google.com/notebooks/data_table.ipynb>data table notebook</a>'\n",
              "            + ' to learn more about interactive tables.';\n",
              "          element.innerHTML = '';\n",
              "          dataTable['output_type'] = 'display_data';\n",
              "          await google.colab.output.renderOutput(dataTable, element);\n",
              "          const docLink = document.createElement('div');\n",
              "          docLink.innerHTML = docLinkHtml;\n",
              "          element.appendChild(docLink);\n",
              "        }\n",
              "      </script>\n",
              "    </div>\n",
              "  </div>\n",
              "  "
            ]
          },
          "metadata": {},
          "execution_count": 14
        }
      ]
    },
    {
      "cell_type": "code",
      "source": [
        "for column in skew_df.query(\"Skewed == True\")['Feature'].values:\n",
        "    X_test[column] = np.log1p(X_test[column])"
      ],
      "metadata": {
        "id": "Pz91-P3kWHaK"
      },
      "execution_count": 15,
      "outputs": []
    },
    {
      "cell_type": "code",
      "source": [
        "X_test.head(3)"
      ],
      "metadata": {
        "colab": {
          "base_uri": "https://localhost:8080/",
          "height": 323
        },
        "id": "SG0J6UiUWNoH",
        "outputId": "29722031-58e1-4de3-8e05-02652d538995"
      },
      "execution_count": 16,
      "outputs": [
        {
          "output_type": "execute_result",
          "data": {
            "text/plain": [
              "       ROA(C) before interest and depreciation before interest  \\\n",
              "4278                                           0.405450          \n",
              "129                                            0.506508          \n",
              "6524                                           0.489251          \n",
              "\n",
              "       ROA(A) before interest and % after tax  \\\n",
              "4278                                 0.365159   \n",
              "129                                  0.447142   \n",
              "6524                                 0.443580   \n",
              "\n",
              "       ROA(B) before interest and depreciation after tax  \\\n",
              "4278                                           0.366658    \n",
              "129                                            0.441481    \n",
              "6524                                           0.430507    \n",
              "\n",
              "       Operating Gross Margin   Realized Sales Gross Margin  \\\n",
              "4278                 0.466833                      0.466892   \n",
              "129                  0.477422                      0.477422   \n",
              "6524                 0.489510                      0.489510   \n",
              "\n",
              "       Operating Profit Rate   Pre-tax net Interest Rate  \\\n",
              "4278                0.692582                    0.586233   \n",
              "129                 0.692700                    0.586412   \n",
              "6524                0.692669                    0.586431   \n",
              "\n",
              "       After-tax net Interest Rate  \\\n",
              "4278                      0.592843   \n",
              "129                       0.593003   \n",
              "6524                      0.593028   \n",
              "\n",
              "       Non-industry income and expenditure/revenue  \\\n",
              "4278                                      0.264986   \n",
              "129                                       0.265038   \n",
              "6524                                      0.265184   \n",
              "\n",
              "       Continuous interest rate (after tax)  ...   Net Income to Total Assets  \\\n",
              "4278                               0.577394  ...                     0.549980   \n",
              "129                                0.577561  ...                     0.594995   \n",
              "6524                               0.577548  ...                     0.593564   \n",
              "\n",
              "       Total assets to GNP price   No-credit Interval   Gross Profit to Sales  \\\n",
              "4278                    0.002914             0.484764                0.466831   \n",
              "129                     0.001059             0.484844                0.477422   \n",
              "6524                    0.001022             0.484811                0.489508   \n",
              "\n",
              "       Net Income to Stockholder's Equity   Liability to Equity  \\\n",
              "4278                             0.606841              0.247252   \n",
              "129                              0.610397              0.244934   \n",
              "6524                             0.610248              0.244121   \n",
              "\n",
              "       Degree of Financial Leverage (DFL)  \\\n",
              "4278                             0.026385   \n",
              "129                              0.026606   \n",
              "6524                             0.026451   \n",
              "\n",
              "       Interest Coverage Ratio (Interest expense to EBIT)   Net Income Flag  \\\n",
              "4278                                           0.447812                   1   \n",
              "129                                            0.448438                   1   \n",
              "6524                                           0.448026                   1   \n",
              "\n",
              "       Equity to Liability  \n",
              "4278              0.026509  \n",
              "129               0.043178  \n",
              "6524              0.061568  \n",
              "\n",
              "[3 rows x 95 columns]"
            ],
            "text/html": [
              "\n",
              "  <div id=\"df-3908d032-ad11-473e-8fc6-6d735c727657\">\n",
              "    <div class=\"colab-df-container\">\n",
              "      <div>\n",
              "<style scoped>\n",
              "    .dataframe tbody tr th:only-of-type {\n",
              "        vertical-align: middle;\n",
              "    }\n",
              "\n",
              "    .dataframe tbody tr th {\n",
              "        vertical-align: top;\n",
              "    }\n",
              "\n",
              "    .dataframe thead th {\n",
              "        text-align: right;\n",
              "    }\n",
              "</style>\n",
              "<table border=\"1\" class=\"dataframe\">\n",
              "  <thead>\n",
              "    <tr style=\"text-align: right;\">\n",
              "      <th></th>\n",
              "      <th>ROA(C) before interest and depreciation before interest</th>\n",
              "      <th>ROA(A) before interest and % after tax</th>\n",
              "      <th>ROA(B) before interest and depreciation after tax</th>\n",
              "      <th>Operating Gross Margin</th>\n",
              "      <th>Realized Sales Gross Margin</th>\n",
              "      <th>Operating Profit Rate</th>\n",
              "      <th>Pre-tax net Interest Rate</th>\n",
              "      <th>After-tax net Interest Rate</th>\n",
              "      <th>Non-industry income and expenditure/revenue</th>\n",
              "      <th>Continuous interest rate (after tax)</th>\n",
              "      <th>...</th>\n",
              "      <th>Net Income to Total Assets</th>\n",
              "      <th>Total assets to GNP price</th>\n",
              "      <th>No-credit Interval</th>\n",
              "      <th>Gross Profit to Sales</th>\n",
              "      <th>Net Income to Stockholder's Equity</th>\n",
              "      <th>Liability to Equity</th>\n",
              "      <th>Degree of Financial Leverage (DFL)</th>\n",
              "      <th>Interest Coverage Ratio (Interest expense to EBIT)</th>\n",
              "      <th>Net Income Flag</th>\n",
              "      <th>Equity to Liability</th>\n",
              "    </tr>\n",
              "  </thead>\n",
              "  <tbody>\n",
              "    <tr>\n",
              "      <th>4278</th>\n",
              "      <td>0.405450</td>\n",
              "      <td>0.365159</td>\n",
              "      <td>0.366658</td>\n",
              "      <td>0.466833</td>\n",
              "      <td>0.466892</td>\n",
              "      <td>0.692582</td>\n",
              "      <td>0.586233</td>\n",
              "      <td>0.592843</td>\n",
              "      <td>0.264986</td>\n",
              "      <td>0.577394</td>\n",
              "      <td>...</td>\n",
              "      <td>0.549980</td>\n",
              "      <td>0.002914</td>\n",
              "      <td>0.484764</td>\n",
              "      <td>0.466831</td>\n",
              "      <td>0.606841</td>\n",
              "      <td>0.247252</td>\n",
              "      <td>0.026385</td>\n",
              "      <td>0.447812</td>\n",
              "      <td>1</td>\n",
              "      <td>0.026509</td>\n",
              "    </tr>\n",
              "    <tr>\n",
              "      <th>129</th>\n",
              "      <td>0.506508</td>\n",
              "      <td>0.447142</td>\n",
              "      <td>0.441481</td>\n",
              "      <td>0.477422</td>\n",
              "      <td>0.477422</td>\n",
              "      <td>0.692700</td>\n",
              "      <td>0.586412</td>\n",
              "      <td>0.593003</td>\n",
              "      <td>0.265038</td>\n",
              "      <td>0.577561</td>\n",
              "      <td>...</td>\n",
              "      <td>0.594995</td>\n",
              "      <td>0.001059</td>\n",
              "      <td>0.484844</td>\n",
              "      <td>0.477422</td>\n",
              "      <td>0.610397</td>\n",
              "      <td>0.244934</td>\n",
              "      <td>0.026606</td>\n",
              "      <td>0.448438</td>\n",
              "      <td>1</td>\n",
              "      <td>0.043178</td>\n",
              "    </tr>\n",
              "    <tr>\n",
              "      <th>6524</th>\n",
              "      <td>0.489251</td>\n",
              "      <td>0.443580</td>\n",
              "      <td>0.430507</td>\n",
              "      <td>0.489510</td>\n",
              "      <td>0.489510</td>\n",
              "      <td>0.692669</td>\n",
              "      <td>0.586431</td>\n",
              "      <td>0.593028</td>\n",
              "      <td>0.265184</td>\n",
              "      <td>0.577548</td>\n",
              "      <td>...</td>\n",
              "      <td>0.593564</td>\n",
              "      <td>0.001022</td>\n",
              "      <td>0.484811</td>\n",
              "      <td>0.489508</td>\n",
              "      <td>0.610248</td>\n",
              "      <td>0.244121</td>\n",
              "      <td>0.026451</td>\n",
              "      <td>0.448026</td>\n",
              "      <td>1</td>\n",
              "      <td>0.061568</td>\n",
              "    </tr>\n",
              "  </tbody>\n",
              "</table>\n",
              "<p>3 rows × 95 columns</p>\n",
              "</div>\n",
              "      <button class=\"colab-df-convert\" onclick=\"convertToInteractive('df-3908d032-ad11-473e-8fc6-6d735c727657')\"\n",
              "              title=\"Convert this dataframe to an interactive table.\"\n",
              "              style=\"display:none;\">\n",
              "        \n",
              "  <svg xmlns=\"http://www.w3.org/2000/svg\" height=\"24px\"viewBox=\"0 0 24 24\"\n",
              "       width=\"24px\">\n",
              "    <path d=\"M0 0h24v24H0V0z\" fill=\"none\"/>\n",
              "    <path d=\"M18.56 5.44l.94 2.06.94-2.06 2.06-.94-2.06-.94-.94-2.06-.94 2.06-2.06.94zm-11 1L8.5 8.5l.94-2.06 2.06-.94-2.06-.94L8.5 2.5l-.94 2.06-2.06.94zm10 10l.94 2.06.94-2.06 2.06-.94-2.06-.94-.94-2.06-.94 2.06-2.06.94z\"/><path d=\"M17.41 7.96l-1.37-1.37c-.4-.4-.92-.59-1.43-.59-.52 0-1.04.2-1.43.59L10.3 9.45l-7.72 7.72c-.78.78-.78 2.05 0 2.83L4 21.41c.39.39.9.59 1.41.59.51 0 1.02-.2 1.41-.59l7.78-7.78 2.81-2.81c.8-.78.8-2.07 0-2.86zM5.41 20L4 18.59l7.72-7.72 1.47 1.35L5.41 20z\"/>\n",
              "  </svg>\n",
              "      </button>\n",
              "      \n",
              "  <style>\n",
              "    .colab-df-container {\n",
              "      display:flex;\n",
              "      flex-wrap:wrap;\n",
              "      gap: 12px;\n",
              "    }\n",
              "\n",
              "    .colab-df-convert {\n",
              "      background-color: #E8F0FE;\n",
              "      border: none;\n",
              "      border-radius: 50%;\n",
              "      cursor: pointer;\n",
              "      display: none;\n",
              "      fill: #1967D2;\n",
              "      height: 32px;\n",
              "      padding: 0 0 0 0;\n",
              "      width: 32px;\n",
              "    }\n",
              "\n",
              "    .colab-df-convert:hover {\n",
              "      background-color: #E2EBFA;\n",
              "      box-shadow: 0px 1px 2px rgba(60, 64, 67, 0.3), 0px 1px 3px 1px rgba(60, 64, 67, 0.15);\n",
              "      fill: #174EA6;\n",
              "    }\n",
              "\n",
              "    [theme=dark] .colab-df-convert {\n",
              "      background-color: #3B4455;\n",
              "      fill: #D2E3FC;\n",
              "    }\n",
              "\n",
              "    [theme=dark] .colab-df-convert:hover {\n",
              "      background-color: #434B5C;\n",
              "      box-shadow: 0px 1px 3px 1px rgba(0, 0, 0, 0.15);\n",
              "      filter: drop-shadow(0px 1px 2px rgba(0, 0, 0, 0.3));\n",
              "      fill: #FFFFFF;\n",
              "    }\n",
              "  </style>\n",
              "\n",
              "      <script>\n",
              "        const buttonEl =\n",
              "          document.querySelector('#df-3908d032-ad11-473e-8fc6-6d735c727657 button.colab-df-convert');\n",
              "        buttonEl.style.display =\n",
              "          google.colab.kernel.accessAllowed ? 'block' : 'none';\n",
              "\n",
              "        async function convertToInteractive(key) {\n",
              "          const element = document.querySelector('#df-3908d032-ad11-473e-8fc6-6d735c727657');\n",
              "          const dataTable =\n",
              "            await google.colab.kernel.invokeFunction('convertToInteractive',\n",
              "                                                     [key], {});\n",
              "          if (!dataTable) return;\n",
              "\n",
              "          const docLinkHtml = 'Like what you see? Visit the ' +\n",
              "            '<a target=\"_blank\" href=https://colab.research.google.com/notebooks/data_table.ipynb>data table notebook</a>'\n",
              "            + ' to learn more about interactive tables.';\n",
              "          element.innerHTML = '';\n",
              "          dataTable['output_type'] = 'display_data';\n",
              "          await google.colab.output.renderOutput(dataTable, element);\n",
              "          const docLink = document.createElement('div');\n",
              "          docLink.innerHTML = docLinkHtml;\n",
              "          element.appendChild(docLink);\n",
              "        }\n",
              "      </script>\n",
              "    </div>\n",
              "  </div>\n",
              "  "
            ]
          },
          "metadata": {},
          "execution_count": 16
        }
      ]
    },
    {
      "cell_type": "markdown",
      "source": [
        "# Normalize the data"
      ],
      "metadata": {
        "id": "I-RW0t8QrUah"
      }
    },
    {
      "cell_type": "code",
      "source": [
        "from sklearn.preprocessing import StandardScaler \n",
        "scaler = StandardScaler()\n",
        "scaler.fit(X_train)\n",
        "\n",
        "X_train = pd.DataFrame(scaler.transform(X_train), index=X_train.index, columns=X_train.columns)\n",
        "X_test = pd.DataFrame(scaler.transform(X_test), index=X_test.index, columns=X_test.columns)\n"
      ],
      "metadata": {
        "id": "RTah53dIB_RE"
      },
      "execution_count": 17,
      "outputs": []
    },
    {
      "cell_type": "code",
      "source": [
        "X_train.head(3)"
      ],
      "metadata": {
        "colab": {
          "base_uri": "https://localhost:8080/",
          "height": 323
        },
        "id": "NCZAQRzuFsJF",
        "outputId": "4ae26b99-2b56-430f-a51e-c06fe9b6f5da"
      },
      "execution_count": 18,
      "outputs": [
        {
          "output_type": "execute_result",
          "data": {
            "text/plain": [
              "       ROA(C) before interest and depreciation before interest  \\\n",
              "4887                                          -0.579224          \n",
              "1462                                           1.866814          \n",
              "1705                                           0.534893          \n",
              "\n",
              "       ROA(A) before interest and % after tax  \\\n",
              "4887                                -0.470211   \n",
              "1462                                 1.540628   \n",
              "1705                                 0.108488   \n",
              "\n",
              "       ROA(B) before interest and depreciation after tax  \\\n",
              "4887                                          -0.530967    \n",
              "1462                                           1.514893    \n",
              "1705                                           0.450688    \n",
              "\n",
              "       Operating Gross Margin   Realized Sales Gross Margin  \\\n",
              "4887                -0.662242                     -0.654474   \n",
              "1462                 0.341642                      0.199513   \n",
              "1705                 0.504352                      0.505978   \n",
              "\n",
              "       Operating Profit Rate   Pre-tax net Interest Rate  \\\n",
              "4887                0.015527                    0.014870   \n",
              "1462                0.023049                    0.091714   \n",
              "1705                0.030459                    0.033905   \n",
              "\n",
              "       After-tax net Interest Rate  \\\n",
              "4887                      0.016298   \n",
              "1462                      0.070241   \n",
              "1705                      0.031262   \n",
              "\n",
              "       Non-industry income and expenditure/revenue  \\\n",
              "4887                                     -0.008507   \n",
              "1462                                      0.187379   \n",
              "1705                                     -0.009236   \n",
              "\n",
              "       Continuous interest rate (after tax)  ...   Net Income to Total Assets  \\\n",
              "4887                               0.014950  ...                    -0.389568   \n",
              "1462                               0.077812  ...                     1.079481   \n",
              "1705                               0.031810  ...                     0.110926   \n",
              "\n",
              "       Total assets to GNP price   No-credit Interval   Gross Profit to Sales  \\\n",
              "4887                   -0.051088            -0.021868               -0.662369   \n",
              "1462                   -0.058493             0.081893                0.341638   \n",
              "1705                   -0.057559            -0.018948                0.504377   \n",
              "\n",
              "       Net Income to Stockholder's Equity   Liability to Equity  \\\n",
              "4887                            -0.033772             -0.051109   \n",
              "1462                             0.172960             -0.261841   \n",
              "1705                             0.043664             -0.206502   \n",
              "\n",
              "       Degree of Financial Leverage (DFL)  \\\n",
              "4887                            -0.098901   \n",
              "1462                            -0.055214   \n",
              "1705                            -0.047776   \n",
              "\n",
              "       Interest Coverage Ratio (Interest expense to EBIT)   Net Income Flag  \\\n",
              "4887                                          -0.365021                 0.0   \n",
              "1462                                          -0.004998                 0.0   \n",
              "1705                                           0.021992                 0.0   \n",
              "\n",
              "       Equity to Liability  \n",
              "4887             -0.392919  \n",
              "1462              0.200638  \n",
              "1705             -0.065155  \n",
              "\n",
              "[3 rows x 95 columns]"
            ],
            "text/html": [
              "\n",
              "  <div id=\"df-ea8a8b38-53fd-4eb1-b18d-5b5fbfeab8ab\">\n",
              "    <div class=\"colab-df-container\">\n",
              "      <div>\n",
              "<style scoped>\n",
              "    .dataframe tbody tr th:only-of-type {\n",
              "        vertical-align: middle;\n",
              "    }\n",
              "\n",
              "    .dataframe tbody tr th {\n",
              "        vertical-align: top;\n",
              "    }\n",
              "\n",
              "    .dataframe thead th {\n",
              "        text-align: right;\n",
              "    }\n",
              "</style>\n",
              "<table border=\"1\" class=\"dataframe\">\n",
              "  <thead>\n",
              "    <tr style=\"text-align: right;\">\n",
              "      <th></th>\n",
              "      <th>ROA(C) before interest and depreciation before interest</th>\n",
              "      <th>ROA(A) before interest and % after tax</th>\n",
              "      <th>ROA(B) before interest and depreciation after tax</th>\n",
              "      <th>Operating Gross Margin</th>\n",
              "      <th>Realized Sales Gross Margin</th>\n",
              "      <th>Operating Profit Rate</th>\n",
              "      <th>Pre-tax net Interest Rate</th>\n",
              "      <th>After-tax net Interest Rate</th>\n",
              "      <th>Non-industry income and expenditure/revenue</th>\n",
              "      <th>Continuous interest rate (after tax)</th>\n",
              "      <th>...</th>\n",
              "      <th>Net Income to Total Assets</th>\n",
              "      <th>Total assets to GNP price</th>\n",
              "      <th>No-credit Interval</th>\n",
              "      <th>Gross Profit to Sales</th>\n",
              "      <th>Net Income to Stockholder's Equity</th>\n",
              "      <th>Liability to Equity</th>\n",
              "      <th>Degree of Financial Leverage (DFL)</th>\n",
              "      <th>Interest Coverage Ratio (Interest expense to EBIT)</th>\n",
              "      <th>Net Income Flag</th>\n",
              "      <th>Equity to Liability</th>\n",
              "    </tr>\n",
              "  </thead>\n",
              "  <tbody>\n",
              "    <tr>\n",
              "      <th>4887</th>\n",
              "      <td>-0.579224</td>\n",
              "      <td>-0.470211</td>\n",
              "      <td>-0.530967</td>\n",
              "      <td>-0.662242</td>\n",
              "      <td>-0.654474</td>\n",
              "      <td>0.015527</td>\n",
              "      <td>0.014870</td>\n",
              "      <td>0.016298</td>\n",
              "      <td>-0.008507</td>\n",
              "      <td>0.014950</td>\n",
              "      <td>...</td>\n",
              "      <td>-0.389568</td>\n",
              "      <td>-0.051088</td>\n",
              "      <td>-0.021868</td>\n",
              "      <td>-0.662369</td>\n",
              "      <td>-0.033772</td>\n",
              "      <td>-0.051109</td>\n",
              "      <td>-0.098901</td>\n",
              "      <td>-0.365021</td>\n",
              "      <td>0.0</td>\n",
              "      <td>-0.392919</td>\n",
              "    </tr>\n",
              "    <tr>\n",
              "      <th>1462</th>\n",
              "      <td>1.866814</td>\n",
              "      <td>1.540628</td>\n",
              "      <td>1.514893</td>\n",
              "      <td>0.341642</td>\n",
              "      <td>0.199513</td>\n",
              "      <td>0.023049</td>\n",
              "      <td>0.091714</td>\n",
              "      <td>0.070241</td>\n",
              "      <td>0.187379</td>\n",
              "      <td>0.077812</td>\n",
              "      <td>...</td>\n",
              "      <td>1.079481</td>\n",
              "      <td>-0.058493</td>\n",
              "      <td>0.081893</td>\n",
              "      <td>0.341638</td>\n",
              "      <td>0.172960</td>\n",
              "      <td>-0.261841</td>\n",
              "      <td>-0.055214</td>\n",
              "      <td>-0.004998</td>\n",
              "      <td>0.0</td>\n",
              "      <td>0.200638</td>\n",
              "    </tr>\n",
              "    <tr>\n",
              "      <th>1705</th>\n",
              "      <td>0.534893</td>\n",
              "      <td>0.108488</td>\n",
              "      <td>0.450688</td>\n",
              "      <td>0.504352</td>\n",
              "      <td>0.505978</td>\n",
              "      <td>0.030459</td>\n",
              "      <td>0.033905</td>\n",
              "      <td>0.031262</td>\n",
              "      <td>-0.009236</td>\n",
              "      <td>0.031810</td>\n",
              "      <td>...</td>\n",
              "      <td>0.110926</td>\n",
              "      <td>-0.057559</td>\n",
              "      <td>-0.018948</td>\n",
              "      <td>0.504377</td>\n",
              "      <td>0.043664</td>\n",
              "      <td>-0.206502</td>\n",
              "      <td>-0.047776</td>\n",
              "      <td>0.021992</td>\n",
              "      <td>0.0</td>\n",
              "      <td>-0.065155</td>\n",
              "    </tr>\n",
              "  </tbody>\n",
              "</table>\n",
              "<p>3 rows × 95 columns</p>\n",
              "</div>\n",
              "      <button class=\"colab-df-convert\" onclick=\"convertToInteractive('df-ea8a8b38-53fd-4eb1-b18d-5b5fbfeab8ab')\"\n",
              "              title=\"Convert this dataframe to an interactive table.\"\n",
              "              style=\"display:none;\">\n",
              "        \n",
              "  <svg xmlns=\"http://www.w3.org/2000/svg\" height=\"24px\"viewBox=\"0 0 24 24\"\n",
              "       width=\"24px\">\n",
              "    <path d=\"M0 0h24v24H0V0z\" fill=\"none\"/>\n",
              "    <path d=\"M18.56 5.44l.94 2.06.94-2.06 2.06-.94-2.06-.94-.94-2.06-.94 2.06-2.06.94zm-11 1L8.5 8.5l.94-2.06 2.06-.94-2.06-.94L8.5 2.5l-.94 2.06-2.06.94zm10 10l.94 2.06.94-2.06 2.06-.94-2.06-.94-.94-2.06-.94 2.06-2.06.94z\"/><path d=\"M17.41 7.96l-1.37-1.37c-.4-.4-.92-.59-1.43-.59-.52 0-1.04.2-1.43.59L10.3 9.45l-7.72 7.72c-.78.78-.78 2.05 0 2.83L4 21.41c.39.39.9.59 1.41.59.51 0 1.02-.2 1.41-.59l7.78-7.78 2.81-2.81c.8-.78.8-2.07 0-2.86zM5.41 20L4 18.59l7.72-7.72 1.47 1.35L5.41 20z\"/>\n",
              "  </svg>\n",
              "      </button>\n",
              "      \n",
              "  <style>\n",
              "    .colab-df-container {\n",
              "      display:flex;\n",
              "      flex-wrap:wrap;\n",
              "      gap: 12px;\n",
              "    }\n",
              "\n",
              "    .colab-df-convert {\n",
              "      background-color: #E8F0FE;\n",
              "      border: none;\n",
              "      border-radius: 50%;\n",
              "      cursor: pointer;\n",
              "      display: none;\n",
              "      fill: #1967D2;\n",
              "      height: 32px;\n",
              "      padding: 0 0 0 0;\n",
              "      width: 32px;\n",
              "    }\n",
              "\n",
              "    .colab-df-convert:hover {\n",
              "      background-color: #E2EBFA;\n",
              "      box-shadow: 0px 1px 2px rgba(60, 64, 67, 0.3), 0px 1px 3px 1px rgba(60, 64, 67, 0.15);\n",
              "      fill: #174EA6;\n",
              "    }\n",
              "\n",
              "    [theme=dark] .colab-df-convert {\n",
              "      background-color: #3B4455;\n",
              "      fill: #D2E3FC;\n",
              "    }\n",
              "\n",
              "    [theme=dark] .colab-df-convert:hover {\n",
              "      background-color: #434B5C;\n",
              "      box-shadow: 0px 1px 3px 1px rgba(0, 0, 0, 0.15);\n",
              "      filter: drop-shadow(0px 1px 2px rgba(0, 0, 0, 0.3));\n",
              "      fill: #FFFFFF;\n",
              "    }\n",
              "  </style>\n",
              "\n",
              "      <script>\n",
              "        const buttonEl =\n",
              "          document.querySelector('#df-ea8a8b38-53fd-4eb1-b18d-5b5fbfeab8ab button.colab-df-convert');\n",
              "        buttonEl.style.display =\n",
              "          google.colab.kernel.accessAllowed ? 'block' : 'none';\n",
              "\n",
              "        async function convertToInteractive(key) {\n",
              "          const element = document.querySelector('#df-ea8a8b38-53fd-4eb1-b18d-5b5fbfeab8ab');\n",
              "          const dataTable =\n",
              "            await google.colab.kernel.invokeFunction('convertToInteractive',\n",
              "                                                     [key], {});\n",
              "          if (!dataTable) return;\n",
              "\n",
              "          const docLinkHtml = 'Like what you see? Visit the ' +\n",
              "            '<a target=\"_blank\" href=https://colab.research.google.com/notebooks/data_table.ipynb>data table notebook</a>'\n",
              "            + ' to learn more about interactive tables.';\n",
              "          element.innerHTML = '';\n",
              "          dataTable['output_type'] = 'display_data';\n",
              "          await google.colab.output.renderOutput(dataTable, element);\n",
              "          const docLink = document.createElement('div');\n",
              "          docLink.innerHTML = docLinkHtml;\n",
              "          element.appendChild(docLink);\n",
              "        }\n",
              "      </script>\n",
              "    </div>\n",
              "  </div>\n",
              "  "
            ]
          },
          "metadata": {},
          "execution_count": 18
        }
      ]
    },
    {
      "cell_type": "code",
      "source": [
        "X_test.head(3)"
      ],
      "metadata": {
        "colab": {
          "base_uri": "https://localhost:8080/",
          "height": 323
        },
        "id": "QgQXd3L8WwtW",
        "outputId": "e030fde2-e7e2-45a1-b38a-a512e1e551ec"
      },
      "execution_count": 19,
      "outputs": [
        {
          "output_type": "execute_result",
          "data": {
            "text/plain": [
              "       ROA(C) before interest and depreciation before interest  \\\n",
              "4278                                          -1.653667          \n",
              "129                                            0.024796          \n",
              "6524                                          -0.261830          \n",
              "\n",
              "       ROA(A) before interest and % after tax  \\\n",
              "4278                                -1.806087   \n",
              "129                                  0.101190   \n",
              "6524                                 0.018323   \n",
              "\n",
              "       ROA(B) before interest and depreciation after tax  \\\n",
              "4278                                          -1.817440    \n",
              "129                                            0.044505    \n",
              "6524                                          -0.228571    \n",
              "\n",
              "       Operating Gross Margin   Realized Sales Gross Margin  \\\n",
              "4278                -0.714204                     -0.708499   \n",
              "129                  0.230080                      0.231444   \n",
              "6524                 1.307963                      1.310356   \n",
              "\n",
              "       Operating Profit Rate   Pre-tax net Interest Rate  \\\n",
              "4278                0.010581                    0.006105   \n",
              "129                 0.023311                    0.024811   \n",
              "6524                0.019981                    0.026857   \n",
              "\n",
              "       After-tax net Interest Rate  \\\n",
              "4278                      0.007532   \n",
              "129                       0.023268   \n",
              "6524                      0.025749   \n",
              "\n",
              "       Non-industry income and expenditure/revenue  \\\n",
              "4278                                     -0.015445   \n",
              "129                                      -0.008837   \n",
              "6524                                      0.009694   \n",
              "\n",
              "       Continuous interest rate (after tax)  ...   Net Income to Total Assets  \\\n",
              "4278                               0.005708  ...                    -1.821576   \n",
              "129                                0.023289  ...                     0.137170   \n",
              "6524                               0.021848  ...                     0.074873   \n",
              "\n",
              "       Total assets to GNP price   No-credit Interval   Gross Profit to Sales  \\\n",
              "4278                   -0.058489            -0.004815               -0.714278   \n",
              "129                    -0.060016             0.004437                0.230104   \n",
              "6524                   -0.060046             0.000594                1.307882   \n",
              "\n",
              "       Net Income to Stockholder's Equity   Liability to Equity  \\\n",
              "4278                            -0.305582              0.011845   \n",
              "129                              0.047294             -0.209526   \n",
              "6524                             0.032474             -0.287243   \n",
              "\n",
              "       Degree of Financial Leverage (DFL)  \\\n",
              "4278                            -0.060132   \n",
              "129                             -0.042253   \n",
              "6524                            -0.054808   \n",
              "\n",
              "       Interest Coverage Ratio (Interest expense to EBIT)   Net Income Flag  \\\n",
              "4278                                          -0.025639                 0.0   \n",
              "129                                            0.039356                 0.0   \n",
              "6524                                          -0.003405                 0.0   \n",
              "\n",
              "       Equity to Liability  \n",
              "4278             -0.459617  \n",
              "129              -0.054128  \n",
              "6524              0.393208  \n",
              "\n",
              "[3 rows x 95 columns]"
            ],
            "text/html": [
              "\n",
              "  <div id=\"df-8f31fe43-ff32-4eb8-b79b-0e435c18aec6\">\n",
              "    <div class=\"colab-df-container\">\n",
              "      <div>\n",
              "<style scoped>\n",
              "    .dataframe tbody tr th:only-of-type {\n",
              "        vertical-align: middle;\n",
              "    }\n",
              "\n",
              "    .dataframe tbody tr th {\n",
              "        vertical-align: top;\n",
              "    }\n",
              "\n",
              "    .dataframe thead th {\n",
              "        text-align: right;\n",
              "    }\n",
              "</style>\n",
              "<table border=\"1\" class=\"dataframe\">\n",
              "  <thead>\n",
              "    <tr style=\"text-align: right;\">\n",
              "      <th></th>\n",
              "      <th>ROA(C) before interest and depreciation before interest</th>\n",
              "      <th>ROA(A) before interest and % after tax</th>\n",
              "      <th>ROA(B) before interest and depreciation after tax</th>\n",
              "      <th>Operating Gross Margin</th>\n",
              "      <th>Realized Sales Gross Margin</th>\n",
              "      <th>Operating Profit Rate</th>\n",
              "      <th>Pre-tax net Interest Rate</th>\n",
              "      <th>After-tax net Interest Rate</th>\n",
              "      <th>Non-industry income and expenditure/revenue</th>\n",
              "      <th>Continuous interest rate (after tax)</th>\n",
              "      <th>...</th>\n",
              "      <th>Net Income to Total Assets</th>\n",
              "      <th>Total assets to GNP price</th>\n",
              "      <th>No-credit Interval</th>\n",
              "      <th>Gross Profit to Sales</th>\n",
              "      <th>Net Income to Stockholder's Equity</th>\n",
              "      <th>Liability to Equity</th>\n",
              "      <th>Degree of Financial Leverage (DFL)</th>\n",
              "      <th>Interest Coverage Ratio (Interest expense to EBIT)</th>\n",
              "      <th>Net Income Flag</th>\n",
              "      <th>Equity to Liability</th>\n",
              "    </tr>\n",
              "  </thead>\n",
              "  <tbody>\n",
              "    <tr>\n",
              "      <th>4278</th>\n",
              "      <td>-1.653667</td>\n",
              "      <td>-1.806087</td>\n",
              "      <td>-1.817440</td>\n",
              "      <td>-0.714204</td>\n",
              "      <td>-0.708499</td>\n",
              "      <td>0.010581</td>\n",
              "      <td>0.006105</td>\n",
              "      <td>0.007532</td>\n",
              "      <td>-0.015445</td>\n",
              "      <td>0.005708</td>\n",
              "      <td>...</td>\n",
              "      <td>-1.821576</td>\n",
              "      <td>-0.058489</td>\n",
              "      <td>-0.004815</td>\n",
              "      <td>-0.714278</td>\n",
              "      <td>-0.305582</td>\n",
              "      <td>0.011845</td>\n",
              "      <td>-0.060132</td>\n",
              "      <td>-0.025639</td>\n",
              "      <td>0.0</td>\n",
              "      <td>-0.459617</td>\n",
              "    </tr>\n",
              "    <tr>\n",
              "      <th>129</th>\n",
              "      <td>0.024796</td>\n",
              "      <td>0.101190</td>\n",
              "      <td>0.044505</td>\n",
              "      <td>0.230080</td>\n",
              "      <td>0.231444</td>\n",
              "      <td>0.023311</td>\n",
              "      <td>0.024811</td>\n",
              "      <td>0.023268</td>\n",
              "      <td>-0.008837</td>\n",
              "      <td>0.023289</td>\n",
              "      <td>...</td>\n",
              "      <td>0.137170</td>\n",
              "      <td>-0.060016</td>\n",
              "      <td>0.004437</td>\n",
              "      <td>0.230104</td>\n",
              "      <td>0.047294</td>\n",
              "      <td>-0.209526</td>\n",
              "      <td>-0.042253</td>\n",
              "      <td>0.039356</td>\n",
              "      <td>0.0</td>\n",
              "      <td>-0.054128</td>\n",
              "    </tr>\n",
              "    <tr>\n",
              "      <th>6524</th>\n",
              "      <td>-0.261830</td>\n",
              "      <td>0.018323</td>\n",
              "      <td>-0.228571</td>\n",
              "      <td>1.307963</td>\n",
              "      <td>1.310356</td>\n",
              "      <td>0.019981</td>\n",
              "      <td>0.026857</td>\n",
              "      <td>0.025749</td>\n",
              "      <td>0.009694</td>\n",
              "      <td>0.021848</td>\n",
              "      <td>...</td>\n",
              "      <td>0.074873</td>\n",
              "      <td>-0.060046</td>\n",
              "      <td>0.000594</td>\n",
              "      <td>1.307882</td>\n",
              "      <td>0.032474</td>\n",
              "      <td>-0.287243</td>\n",
              "      <td>-0.054808</td>\n",
              "      <td>-0.003405</td>\n",
              "      <td>0.0</td>\n",
              "      <td>0.393208</td>\n",
              "    </tr>\n",
              "  </tbody>\n",
              "</table>\n",
              "<p>3 rows × 95 columns</p>\n",
              "</div>\n",
              "      <button class=\"colab-df-convert\" onclick=\"convertToInteractive('df-8f31fe43-ff32-4eb8-b79b-0e435c18aec6')\"\n",
              "              title=\"Convert this dataframe to an interactive table.\"\n",
              "              style=\"display:none;\">\n",
              "        \n",
              "  <svg xmlns=\"http://www.w3.org/2000/svg\" height=\"24px\"viewBox=\"0 0 24 24\"\n",
              "       width=\"24px\">\n",
              "    <path d=\"M0 0h24v24H0V0z\" fill=\"none\"/>\n",
              "    <path d=\"M18.56 5.44l.94 2.06.94-2.06 2.06-.94-2.06-.94-.94-2.06-.94 2.06-2.06.94zm-11 1L8.5 8.5l.94-2.06 2.06-.94-2.06-.94L8.5 2.5l-.94 2.06-2.06.94zm10 10l.94 2.06.94-2.06 2.06-.94-2.06-.94-.94-2.06-.94 2.06-2.06.94z\"/><path d=\"M17.41 7.96l-1.37-1.37c-.4-.4-.92-.59-1.43-.59-.52 0-1.04.2-1.43.59L10.3 9.45l-7.72 7.72c-.78.78-.78 2.05 0 2.83L4 21.41c.39.39.9.59 1.41.59.51 0 1.02-.2 1.41-.59l7.78-7.78 2.81-2.81c.8-.78.8-2.07 0-2.86zM5.41 20L4 18.59l7.72-7.72 1.47 1.35L5.41 20z\"/>\n",
              "  </svg>\n",
              "      </button>\n",
              "      \n",
              "  <style>\n",
              "    .colab-df-container {\n",
              "      display:flex;\n",
              "      flex-wrap:wrap;\n",
              "      gap: 12px;\n",
              "    }\n",
              "\n",
              "    .colab-df-convert {\n",
              "      background-color: #E8F0FE;\n",
              "      border: none;\n",
              "      border-radius: 50%;\n",
              "      cursor: pointer;\n",
              "      display: none;\n",
              "      fill: #1967D2;\n",
              "      height: 32px;\n",
              "      padding: 0 0 0 0;\n",
              "      width: 32px;\n",
              "    }\n",
              "\n",
              "    .colab-df-convert:hover {\n",
              "      background-color: #E2EBFA;\n",
              "      box-shadow: 0px 1px 2px rgba(60, 64, 67, 0.3), 0px 1px 3px 1px rgba(60, 64, 67, 0.15);\n",
              "      fill: #174EA6;\n",
              "    }\n",
              "\n",
              "    [theme=dark] .colab-df-convert {\n",
              "      background-color: #3B4455;\n",
              "      fill: #D2E3FC;\n",
              "    }\n",
              "\n",
              "    [theme=dark] .colab-df-convert:hover {\n",
              "      background-color: #434B5C;\n",
              "      box-shadow: 0px 1px 3px 1px rgba(0, 0, 0, 0.15);\n",
              "      filter: drop-shadow(0px 1px 2px rgba(0, 0, 0, 0.3));\n",
              "      fill: #FFFFFF;\n",
              "    }\n",
              "  </style>\n",
              "\n",
              "      <script>\n",
              "        const buttonEl =\n",
              "          document.querySelector('#df-8f31fe43-ff32-4eb8-b79b-0e435c18aec6 button.colab-df-convert');\n",
              "        buttonEl.style.display =\n",
              "          google.colab.kernel.accessAllowed ? 'block' : 'none';\n",
              "\n",
              "        async function convertToInteractive(key) {\n",
              "          const element = document.querySelector('#df-8f31fe43-ff32-4eb8-b79b-0e435c18aec6');\n",
              "          const dataTable =\n",
              "            await google.colab.kernel.invokeFunction('convertToInteractive',\n",
              "                                                     [key], {});\n",
              "          if (!dataTable) return;\n",
              "\n",
              "          const docLinkHtml = 'Like what you see? Visit the ' +\n",
              "            '<a target=\"_blank\" href=https://colab.research.google.com/notebooks/data_table.ipynb>data table notebook</a>'\n",
              "            + ' to learn more about interactive tables.';\n",
              "          element.innerHTML = '';\n",
              "          dataTable['output_type'] = 'display_data';\n",
              "          await google.colab.output.renderOutput(dataTable, element);\n",
              "          const docLink = document.createElement('div');\n",
              "          docLink.innerHTML = docLinkHtml;\n",
              "          element.appendChild(docLink);\n",
              "        }\n",
              "      </script>\n",
              "    </div>\n",
              "  </div>\n",
              "  "
            ]
          },
          "metadata": {},
          "execution_count": 19
        }
      ]
    },
    {
      "cell_type": "code",
      "source": [
        "from sklearn.pipeline import Pipeline\n",
        "from sklearn.preprocessing import StandardScaler, FunctionTransformer"
      ],
      "metadata": {
        "id": "JCflJVQGrNAG"
      },
      "execution_count": 20,
      "outputs": []
    },
    {
      "cell_type": "markdown",
      "source": [
        "# Reensambling data for imbalance dataset"
      ],
      "metadata": {
        "id": "uHeTMF2Jrcgr"
      }
    },
    {
      "cell_type": "code",
      "source": [
        "# Stratified Cross Validation Splitting\n",
        "\n",
        "sss = StratifiedKFold(n_splits=5, shuffle=False)\n",
        "\n",
        "for train_index, test_index in sss.split(X_train,y_train):\n",
        "    \n",
        "    print(\"Train:\", train_index, \"Test:\", test_index)\n",
        "    X_train_sm, X_val_sm = X_train.iloc[train_index], X_train.iloc[test_index]\n",
        "    y_train_sm, y_val_sm = y_train.iloc[train_index], y_train.iloc[test_index]\n",
        "\n",
        "# Check the Distribution of the labels\n",
        "\n",
        "\n",
        "# Turn into an array\n",
        "X_train_sm = X_train_sm.values\n",
        "X_val_sm = X_val_sm.values\n",
        "y_train_sm = y_train_sm.values\n",
        "y_val_sm = y_val_sm.values\n",
        "\n",
        "# See if both the train and test label distribution are similarly distributed\n",
        "train_unique_label, train_counts_label = np.unique(y_train_sm, return_counts=True)\n",
        "test_unique_label, test_counts_label = np.unique(y_val_sm, return_counts=True)\n",
        "print('-' * 84)\n",
        "\n",
        "print('Label Distributions: \\n')\n",
        "print(train_counts_label/ len(y_train_sm))\n",
        "print(test_counts_label/ len(y_val_sm))"
      ],
      "metadata": {
        "colab": {
          "base_uri": "https://localhost:8080/"
        },
        "id": "90F4Hzag-Ali",
        "outputId": "c625146a-74e0-4864-8206-3c3be07d4273"
      },
      "execution_count": 21,
      "outputs": [
        {
          "output_type": "stream",
          "name": "stdout",
          "text": [
            "Train: [1150 1152 1168 ... 6134 6135 6136] Test: [   0    1    2 ... 1234 1235 1236]\n",
            "Train: [   0    1    2 ... 6134 6135 6136] Test: [1150 1152 1168 ... 2453 2474 2490]\n",
            "Train: [   0    1    2 ... 6134 6135 6136] Test: [2454 2455 2456 ... 3687 3688 3689]\n",
            "Train: [   0    1    2 ... 6134 6135 6136] Test: [3550 3555 3562 ... 4909 4910 4911]\n",
            "Train: [   0    1    2 ... 4909 4910 4911] Test: [4754 4908 4912 ... 6134 6135 6136]\n",
            "------------------------------------------------------------------------------------\n",
            "Label Distributions: \n",
            "\n",
            "[0.96782077 0.03217923]\n",
            "[0.96740016 0.03259984]\n"
          ]
        }
      ]
    },
    {
      "cell_type": "code",
      "source": [
        "# Function to get the feature importance of the classifier, and plot it\n",
        "def feat_importance_plot(model_trn,x,y,df = None):\n",
        "    \n",
        "    # change xtick font size\n",
        "    plt.rcParams['xtick.labelsize'] = 12\n",
        "    plt.rcParams['ytick.labelsize'] = 12\n",
        "    # top 10 most predictive features\n",
        "    top_10_feat = FeatureImportances(model_trn, relative=False, topn=10,feature_names=df.columns)\n",
        "    # top 10 least predictive features\n",
        "    bottom_10_feat = FeatureImportances(model_trn, relative=False, topn=-10,feature_names=df.columns)\n",
        "    #change the figure size\n",
        "    plt.figure(figsize=(10, 4))\n",
        "    #change x label font size\n",
        "    plt.xlabel('xlabel', fontsize=14)\n",
        "    \n",
        "    \n",
        "    # Fit to get the feature importances\n",
        "    top_10_feat.fit(x, y)\n",
        "    # show the plot\n",
        "    top_10_feat.show()\n",
        "    print('\\n')\n",
        "    plt.figure(figsize=(10, 4))\n",
        "    plt.xlabel('xlabel', fontsize=14)\n",
        "    # Fit to get the feature importances\n",
        "    bottom_10_feat.fit(x, y)\n",
        "    # show the plot\n",
        "    bottom_10_feat.show()\n",
        "    print('\\n')\n",
        "    "
      ],
      "metadata": {
        "id": "CrZzRiZ0utbt"
      },
      "execution_count": 22,
      "outputs": []
    },
    {
      "cell_type": "code",
      "source": [
        "def plot_confusion_matrix(y_true, y_pred, classes, title=None, cmap=plt.cm.Blues):\n",
        "    \"\"\"\n",
        "    This function prints and plots the confusion matrix.\n",
        "    \"\"\"\n",
        "    cm = confusion_matrix(y_true, y_pred)\n",
        "    \n",
        "    plt.imshow(cm, interpolation='nearest', cmap=cmap)\n",
        "    plt.title(title)\n",
        "    plt.colorbar()\n",
        "    tick_marks = np.arange(len(classes))\n",
        "    plt.xticks(tick_marks, classes, rotation=45)\n",
        "    plt.yticks(tick_marks, classes)\n",
        "    \n",
        "    thresh = cm.max() / 2.\n",
        "    for i, j in np.ndindex(cm.shape):\n",
        "        plt.text(j, i, format(cm[i, j], 'd'),\n",
        "                 horizontalalignment=\"center\",\n",
        "                 color=\"white\" if cm[i, j] > thresh else \"black\")\n",
        "    \n",
        "    plt.ylabel('True label')\n",
        "    plt.xlabel('Predicted label')\n",
        "    plt.tight_layout()"
      ],
      "metadata": {
        "id": "eo9osouAz08x"
      },
      "execution_count": 23,
      "outputs": []
    },
    {
      "cell_type": "code",
      "source": [
        "def plot_roc_curve(y_true, y_score, title=None):\n",
        "    fpr, tpr, thresholds = roc_curve(y_true, y_score)\n",
        "    roc_auc = roc_auc_score(y_true, y_score)\n",
        "\n",
        "    plt.plot(fpr, tpr, label='ROC curve (area = %0.2f)' % roc_auc)\n",
        "    plt.plot([0, 1], [0, 1], 'k--')\n",
        "    plt.xlim([0.0, 1.0])\n",
        "    plt.ylim([0.0, 1.05])\n",
        "    plt.xlabel('False Positive Rate')\n",
        "    plt.ylabel('True Positive Rate')\n",
        "    plt.title(title)\n",
        "    plt.legend(loc=\"lower right\")"
      ],
      "metadata": {
        "id": "fead7qZr0bmo"
      },
      "execution_count": 24,
      "outputs": []
    },
    {
      "cell_type": "markdown",
      "source": [
        "# Logistic Regression"
      ],
      "metadata": {
        "id": "DV6VX5jo89OS"
      }
    },
    {
      "cell_type": "markdown",
      "source": [
        "## Train model"
      ],
      "metadata": {
        "id": "2S7cVrztt4rc"
      }
    },
    {
      "cell_type": "code",
      "source": [
        "from imblearn.pipeline import make_pipeline as imbalanced_make_pipeline"
      ],
      "metadata": {
        "id": "UlWT_wdqKm7A"
      },
      "execution_count": 25,
      "outputs": []
    },
    {
      "cell_type": "code",
      "source": [
        "pip install scikit-optimize"
      ],
      "metadata": {
        "colab": {
          "base_uri": "https://localhost:8080/"
        },
        "id": "8Gq1U_wxw91i",
        "outputId": "7e6c688e-690d-4259-fd9d-c7861de48fda"
      },
      "execution_count": 26,
      "outputs": [
        {
          "output_type": "stream",
          "name": "stdout",
          "text": [
            "Looking in indexes: https://pypi.org/simple, https://us-python.pkg.dev/colab-wheels/public/simple/\n",
            "Collecting scikit-optimize\n",
            "  Downloading scikit_optimize-0.9.0-py2.py3-none-any.whl (100 kB)\n",
            "\u001b[2K     \u001b[90m━━━━━━━━━━━━━━━━━━━━━━━━━━━━━━━━━━━━━━\u001b[0m \u001b[32m100.3/100.3 KB\u001b[0m \u001b[31m10.1 MB/s\u001b[0m eta \u001b[36m0:00:00\u001b[0m\n",
            "\u001b[?25hRequirement already satisfied: joblib>=0.11 in /usr/local/lib/python3.8/dist-packages (from scikit-optimize) (1.2.0)\n",
            "Requirement already satisfied: scipy>=0.19.1 in /usr/local/lib/python3.8/dist-packages (from scikit-optimize) (1.7.3)\n",
            "Requirement already satisfied: scikit-learn>=0.20.0 in /usr/local/lib/python3.8/dist-packages (from scikit-optimize) (1.0.2)\n",
            "Requirement already satisfied: numpy>=1.13.3 in /usr/local/lib/python3.8/dist-packages (from scikit-optimize) (1.22.4)\n",
            "Collecting pyaml>=16.9\n",
            "  Downloading pyaml-21.10.1-py2.py3-none-any.whl (24 kB)\n",
            "Requirement already satisfied: PyYAML in /usr/local/lib/python3.8/dist-packages (from pyaml>=16.9->scikit-optimize) (6.0)\n",
            "Requirement already satisfied: threadpoolctl>=2.0.0 in /usr/local/lib/python3.8/dist-packages (from scikit-learn>=0.20.0->scikit-optimize) (3.1.0)\n",
            "Installing collected packages: pyaml, scikit-optimize\n",
            "Successfully installed pyaml-21.10.1 scikit-optimize-0.9.0\n"
          ]
        }
      ]
    },
    {
      "cell_type": "code",
      "source": [
        "from skopt import BayesSearchCV"
      ],
      "metadata": {
        "id": "I-q9t9Pjwobd"
      },
      "execution_count": 27,
      "outputs": []
    },
    {
      "cell_type": "code",
      "source": [
        "# List to append the score and then find the average\n",
        "\n",
        "accuracy_lst_reg = []\n",
        "precision_lst_reg = []\n",
        "recall_lst_reg = []\n",
        "f1_lst_reg = []\n",
        "auc_lst_reg = []\n",
        "\n",
        "log_reg_sm = LogisticRegression()\n",
        "#log_reg_params = {}\n",
        "log_reg_params = {\"penalty\": ['l2'],\n",
        "                  'C': [0.001, 0.01, 0.1, 1, 10, 100, 1000],\n",
        "                  'class_weight': ['balanced',None],\n",
        "                  'solver':['newton-cg', 'lbfgs', 'liblinear', 'sag', 'saga']}\n",
        "\n",
        "rand_log_reg = BayesSearchCV(LogisticRegression(), log_reg_params, n_iter=4)\n",
        "\n",
        "\n",
        "for train, val in sss.split(X_train_sm, y_train_sm):\n",
        "    pipeline_reg = imbalanced_make_pipeline(SMOTE(sampling_strategy='minority'), rand_log_reg) # SMOTE happens during Cross Validation not before..\n",
        "    model_reg = pipeline_reg.fit(X_train_sm[train], y_train_sm[train])\n",
        "    best_est_reg = rand_log_reg.best_estimator_\n",
        "    prediction_reg = best_est_reg.predict(X_train_sm[val])\n",
        "    \n",
        "    accuracy_lst_reg.append(pipeline_reg.score(X_train_sm[val], y_train_sm[val]))\n",
        "    precision_lst_reg.append(precision_score(y_train_sm[val], prediction_reg))\n",
        "    recall_lst_reg.append(recall_score(y_train_sm[val], prediction_reg))\n",
        "    f1_lst_reg.append(f1_score(y_train_sm[val], prediction_reg))\n",
        "    auc_lst_reg.append(roc_auc_score(y_train_sm[val], prediction_reg))\n",
        "\n",
        "\n",
        "print('---' * 45)\n",
        "print('')\n",
        "print('Logistic Regression (SMOTE) results:')\n",
        "print('')\n",
        "print(\"accuracy: {}\".format(np.mean(accuracy_lst_reg)))\n",
        "print(\"precision: {}\".format(np.mean(precision_lst_reg)))\n",
        "print(\"recall: {}\".format(np.mean(recall_lst_reg)))\n",
        "print(\"f1: {}\".format(np.mean(f1_lst_reg)))\n",
        "print('')\n",
        "print('---' * 45)"
      ],
      "metadata": {
        "id": "d-snalljwnmT",
        "colab": {
          "base_uri": "https://localhost:8080/"
        },
        "outputId": "3fbdf770-0040-4570-8ebe-14ac21e6066a"
      },
      "execution_count": 28,
      "outputs": [
        {
          "output_type": "stream",
          "name": "stderr",
          "text": [
            "/usr/local/lib/python3.8/dist-packages/sklearn/linear_model/_logistic.py:814: ConvergenceWarning: lbfgs failed to converge (status=1):\n",
            "STOP: TOTAL NO. of ITERATIONS REACHED LIMIT.\n",
            "\n",
            "Increase the number of iterations (max_iter) or scale the data as shown in:\n",
            "    https://scikit-learn.org/stable/modules/preprocessing.html\n",
            "Please also refer to the documentation for alternative solver options:\n",
            "    https://scikit-learn.org/stable/modules/linear_model.html#logistic-regression\n",
            "  n_iter_i = _check_optimize_result(\n",
            "/usr/local/lib/python3.8/dist-packages/sklearn/linear_model/_logistic.py:814: ConvergenceWarning: lbfgs failed to converge (status=1):\n",
            "STOP: TOTAL NO. of ITERATIONS REACHED LIMIT.\n",
            "\n",
            "Increase the number of iterations (max_iter) or scale the data as shown in:\n",
            "    https://scikit-learn.org/stable/modules/preprocessing.html\n",
            "Please also refer to the documentation for alternative solver options:\n",
            "    https://scikit-learn.org/stable/modules/linear_model.html#logistic-regression\n",
            "  n_iter_i = _check_optimize_result(\n",
            "/usr/local/lib/python3.8/dist-packages/sklearn/linear_model/_logistic.py:814: ConvergenceWarning: lbfgs failed to converge (status=1):\n",
            "STOP: TOTAL NO. of ITERATIONS REACHED LIMIT.\n",
            "\n",
            "Increase the number of iterations (max_iter) or scale the data as shown in:\n",
            "    https://scikit-learn.org/stable/modules/preprocessing.html\n",
            "Please also refer to the documentation for alternative solver options:\n",
            "    https://scikit-learn.org/stable/modules/linear_model.html#logistic-regression\n",
            "  n_iter_i = _check_optimize_result(\n",
            "/usr/local/lib/python3.8/dist-packages/sklearn/linear_model/_logistic.py:814: ConvergenceWarning: lbfgs failed to converge (status=1):\n",
            "STOP: TOTAL NO. of ITERATIONS REACHED LIMIT.\n",
            "\n",
            "Increase the number of iterations (max_iter) or scale the data as shown in:\n",
            "    https://scikit-learn.org/stable/modules/preprocessing.html\n",
            "Please also refer to the documentation for alternative solver options:\n",
            "    https://scikit-learn.org/stable/modules/linear_model.html#logistic-regression\n",
            "  n_iter_i = _check_optimize_result(\n",
            "/usr/local/lib/python3.8/dist-packages/sklearn/linear_model/_logistic.py:814: ConvergenceWarning: lbfgs failed to converge (status=1):\n",
            "STOP: TOTAL NO. of ITERATIONS REACHED LIMIT.\n",
            "\n",
            "Increase the number of iterations (max_iter) or scale the data as shown in:\n",
            "    https://scikit-learn.org/stable/modules/preprocessing.html\n",
            "Please also refer to the documentation for alternative solver options:\n",
            "    https://scikit-learn.org/stable/modules/linear_model.html#logistic-regression\n",
            "  n_iter_i = _check_optimize_result(\n",
            "/usr/local/lib/python3.8/dist-packages/sklearn/linear_model/_sag.py:352: ConvergenceWarning: The max_iter was reached which means the coef_ did not converge\n",
            "  warnings.warn(\n",
            "/usr/local/lib/python3.8/dist-packages/sklearn/linear_model/_sag.py:352: ConvergenceWarning: The max_iter was reached which means the coef_ did not converge\n",
            "  warnings.warn(\n",
            "/usr/local/lib/python3.8/dist-packages/sklearn/linear_model/_sag.py:352: ConvergenceWarning: The max_iter was reached which means the coef_ did not converge\n",
            "  warnings.warn(\n",
            "/usr/local/lib/python3.8/dist-packages/sklearn/linear_model/_sag.py:352: ConvergenceWarning: The max_iter was reached which means the coef_ did not converge\n",
            "  warnings.warn(\n",
            "/usr/local/lib/python3.8/dist-packages/sklearn/linear_model/_sag.py:352: ConvergenceWarning: The max_iter was reached which means the coef_ did not converge\n",
            "  warnings.warn(\n",
            "/usr/local/lib/python3.8/dist-packages/sklearn/linear_model/_sag.py:352: ConvergenceWarning: The max_iter was reached which means the coef_ did not converge\n",
            "  warnings.warn(\n",
            "/usr/local/lib/python3.8/dist-packages/sklearn/linear_model/_sag.py:352: ConvergenceWarning: The max_iter was reached which means the coef_ did not converge\n",
            "  warnings.warn(\n",
            "/usr/local/lib/python3.8/dist-packages/sklearn/linear_model/_sag.py:352: ConvergenceWarning: The max_iter was reached which means the coef_ did not converge\n",
            "  warnings.warn(\n",
            "/usr/local/lib/python3.8/dist-packages/sklearn/linear_model/_sag.py:352: ConvergenceWarning: The max_iter was reached which means the coef_ did not converge\n",
            "  warnings.warn(\n",
            "/usr/local/lib/python3.8/dist-packages/sklearn/linear_model/_sag.py:352: ConvergenceWarning: The max_iter was reached which means the coef_ did not converge\n",
            "  warnings.warn(\n",
            "/usr/local/lib/python3.8/dist-packages/sklearn/linear_model/_sag.py:352: ConvergenceWarning: The max_iter was reached which means the coef_ did not converge\n",
            "  warnings.warn(\n",
            "/usr/local/lib/python3.8/dist-packages/sklearn/linear_model/_sag.py:352: ConvergenceWarning: The max_iter was reached which means the coef_ did not converge\n",
            "  warnings.warn(\n",
            "/usr/local/lib/python3.8/dist-packages/sklearn/linear_model/_sag.py:352: ConvergenceWarning: The max_iter was reached which means the coef_ did not converge\n",
            "  warnings.warn(\n",
            "/usr/local/lib/python3.8/dist-packages/sklearn/linear_model/_sag.py:352: ConvergenceWarning: The max_iter was reached which means the coef_ did not converge\n",
            "  warnings.warn(\n",
            "/usr/local/lib/python3.8/dist-packages/sklearn/linear_model/_sag.py:352: ConvergenceWarning: The max_iter was reached which means the coef_ did not converge\n",
            "  warnings.warn(\n",
            "/usr/local/lib/python3.8/dist-packages/sklearn/linear_model/_sag.py:352: ConvergenceWarning: The max_iter was reached which means the coef_ did not converge\n",
            "  warnings.warn(\n",
            "/usr/local/lib/python3.8/dist-packages/sklearn/linear_model/_sag.py:352: ConvergenceWarning: The max_iter was reached which means the coef_ did not converge\n",
            "  warnings.warn(\n",
            "/usr/local/lib/python3.8/dist-packages/sklearn/linear_model/_sag.py:352: ConvergenceWarning: The max_iter was reached which means the coef_ did not converge\n",
            "  warnings.warn(\n",
            "/usr/local/lib/python3.8/dist-packages/sklearn/linear_model/_sag.py:352: ConvergenceWarning: The max_iter was reached which means the coef_ did not converge\n",
            "  warnings.warn(\n",
            "/usr/local/lib/python3.8/dist-packages/sklearn/linear_model/_sag.py:352: ConvergenceWarning: The max_iter was reached which means the coef_ did not converge\n",
            "  warnings.warn(\n",
            "/usr/local/lib/python3.8/dist-packages/sklearn/linear_model/_sag.py:352: ConvergenceWarning: The max_iter was reached which means the coef_ did not converge\n",
            "  warnings.warn(\n",
            "/usr/local/lib/python3.8/dist-packages/sklearn/linear_model/_sag.py:352: ConvergenceWarning: The max_iter was reached which means the coef_ did not converge\n",
            "  warnings.warn(\n",
            "/usr/local/lib/python3.8/dist-packages/sklearn/linear_model/_sag.py:352: ConvergenceWarning: The max_iter was reached which means the coef_ did not converge\n",
            "  warnings.warn(\n",
            "/usr/local/lib/python3.8/dist-packages/sklearn/linear_model/_sag.py:352: ConvergenceWarning: The max_iter was reached which means the coef_ did not converge\n",
            "  warnings.warn(\n",
            "/usr/local/lib/python3.8/dist-packages/sklearn/linear_model/_sag.py:352: ConvergenceWarning: The max_iter was reached which means the coef_ did not converge\n",
            "  warnings.warn(\n",
            "/usr/local/lib/python3.8/dist-packages/sklearn/linear_model/_sag.py:352: ConvergenceWarning: The max_iter was reached which means the coef_ did not converge\n",
            "  warnings.warn(\n",
            "/usr/local/lib/python3.8/dist-packages/sklearn/linear_model/_sag.py:352: ConvergenceWarning: The max_iter was reached which means the coef_ did not converge\n",
            "  warnings.warn(\n",
            "/usr/local/lib/python3.8/dist-packages/sklearn/linear_model/_sag.py:352: ConvergenceWarning: The max_iter was reached which means the coef_ did not converge\n",
            "  warnings.warn(\n",
            "/usr/local/lib/python3.8/dist-packages/sklearn/linear_model/_sag.py:352: ConvergenceWarning: The max_iter was reached which means the coef_ did not converge\n",
            "  warnings.warn(\n",
            "/usr/local/lib/python3.8/dist-packages/sklearn/linear_model/_sag.py:352: ConvergenceWarning: The max_iter was reached which means the coef_ did not converge\n",
            "  warnings.warn(\n",
            "/usr/local/lib/python3.8/dist-packages/sklearn/linear_model/_sag.py:352: ConvergenceWarning: The max_iter was reached which means the coef_ did not converge\n",
            "  warnings.warn(\n",
            "/usr/local/lib/python3.8/dist-packages/sklearn/linear_model/_sag.py:352: ConvergenceWarning: The max_iter was reached which means the coef_ did not converge\n",
            "  warnings.warn(\n",
            "/usr/local/lib/python3.8/dist-packages/sklearn/linear_model/_sag.py:352: ConvergenceWarning: The max_iter was reached which means the coef_ did not converge\n",
            "  warnings.warn(\n",
            "/usr/local/lib/python3.8/dist-packages/sklearn/linear_model/_sag.py:352: ConvergenceWarning: The max_iter was reached which means the coef_ did not converge\n",
            "  warnings.warn(\n",
            "/usr/local/lib/python3.8/dist-packages/sklearn/linear_model/_sag.py:352: ConvergenceWarning: The max_iter was reached which means the coef_ did not converge\n",
            "  warnings.warn(\n",
            "/usr/local/lib/python3.8/dist-packages/sklearn/linear_model/_sag.py:352: ConvergenceWarning: The max_iter was reached which means the coef_ did not converge\n",
            "  warnings.warn(\n",
            "/usr/local/lib/python3.8/dist-packages/sklearn/linear_model/_sag.py:352: ConvergenceWarning: The max_iter was reached which means the coef_ did not converge\n",
            "  warnings.warn(\n",
            "/usr/local/lib/python3.8/dist-packages/sklearn/linear_model/_sag.py:352: ConvergenceWarning: The max_iter was reached which means the coef_ did not converge\n",
            "  warnings.warn(\n",
            "/usr/local/lib/python3.8/dist-packages/sklearn/linear_model/_sag.py:352: ConvergenceWarning: The max_iter was reached which means the coef_ did not converge\n",
            "  warnings.warn(\n",
            "/usr/local/lib/python3.8/dist-packages/sklearn/linear_model/_sag.py:352: ConvergenceWarning: The max_iter was reached which means the coef_ did not converge\n",
            "  warnings.warn(\n",
            "/usr/local/lib/python3.8/dist-packages/sklearn/linear_model/_logistic.py:814: ConvergenceWarning: lbfgs failed to converge (status=1):\n",
            "STOP: TOTAL NO. of ITERATIONS REACHED LIMIT.\n",
            "\n",
            "Increase the number of iterations (max_iter) or scale the data as shown in:\n",
            "    https://scikit-learn.org/stable/modules/preprocessing.html\n",
            "Please also refer to the documentation for alternative solver options:\n",
            "    https://scikit-learn.org/stable/modules/linear_model.html#logistic-regression\n",
            "  n_iter_i = _check_optimize_result(\n",
            "/usr/local/lib/python3.8/dist-packages/sklearn/linear_model/_logistic.py:814: ConvergenceWarning: lbfgs failed to converge (status=1):\n",
            "STOP: TOTAL NO. of ITERATIONS REACHED LIMIT.\n",
            "\n",
            "Increase the number of iterations (max_iter) or scale the data as shown in:\n",
            "    https://scikit-learn.org/stable/modules/preprocessing.html\n",
            "Please also refer to the documentation for alternative solver options:\n",
            "    https://scikit-learn.org/stable/modules/linear_model.html#logistic-regression\n",
            "  n_iter_i = _check_optimize_result(\n",
            "/usr/local/lib/python3.8/dist-packages/sklearn/linear_model/_logistic.py:814: ConvergenceWarning: lbfgs failed to converge (status=1):\n",
            "STOP: TOTAL NO. of ITERATIONS REACHED LIMIT.\n",
            "\n",
            "Increase the number of iterations (max_iter) or scale the data as shown in:\n",
            "    https://scikit-learn.org/stable/modules/preprocessing.html\n",
            "Please also refer to the documentation for alternative solver options:\n",
            "    https://scikit-learn.org/stable/modules/linear_model.html#logistic-regression\n",
            "  n_iter_i = _check_optimize_result(\n",
            "/usr/local/lib/python3.8/dist-packages/sklearn/linear_model/_logistic.py:814: ConvergenceWarning: lbfgs failed to converge (status=1):\n",
            "STOP: TOTAL NO. of ITERATIONS REACHED LIMIT.\n",
            "\n",
            "Increase the number of iterations (max_iter) or scale the data as shown in:\n",
            "    https://scikit-learn.org/stable/modules/preprocessing.html\n",
            "Please also refer to the documentation for alternative solver options:\n",
            "    https://scikit-learn.org/stable/modules/linear_model.html#logistic-regression\n",
            "  n_iter_i = _check_optimize_result(\n",
            "/usr/local/lib/python3.8/dist-packages/sklearn/linear_model/_logistic.py:814: ConvergenceWarning: lbfgs failed to converge (status=1):\n",
            "STOP: TOTAL NO. of ITERATIONS REACHED LIMIT.\n",
            "\n",
            "Increase the number of iterations (max_iter) or scale the data as shown in:\n",
            "    https://scikit-learn.org/stable/modules/preprocessing.html\n",
            "Please also refer to the documentation for alternative solver options:\n",
            "    https://scikit-learn.org/stable/modules/linear_model.html#logistic-regression\n",
            "  n_iter_i = _check_optimize_result(\n"
          ]
        },
        {
          "output_type": "stream",
          "name": "stdout",
          "text": [
            "---------------------------------------------------------------------------------------------------------------------------------------\n",
            "\n",
            "Logistic Regression (SMOTE) results:\n",
            "\n",
            "accuracy: 0.8861507128309573\n",
            "precision: 0.19198186588616145\n",
            "recall: 0.7850806451612903\n",
            "f1: 0.30792990056236835\n",
            "\n",
            "---------------------------------------------------------------------------------------------------------------------------------------\n"
          ]
        }
      ]
    },
    {
      "cell_type": "code",
      "source": [
        "best_est_reg.get_params()"
      ],
      "metadata": {
        "colab": {
          "base_uri": "https://localhost:8080/"
        },
        "id": "nSGQI6m3LQnQ",
        "outputId": "c8bce6c6-5e8c-48d7-feab-d4dcef010c60"
      },
      "execution_count": 29,
      "outputs": [
        {
          "output_type": "execute_result",
          "data": {
            "text/plain": [
              "{'C': 100.0,\n",
              " 'class_weight': None,\n",
              " 'dual': False,\n",
              " 'fit_intercept': True,\n",
              " 'intercept_scaling': 1,\n",
              " 'l1_ratio': None,\n",
              " 'max_iter': 100,\n",
              " 'multi_class': 'auto',\n",
              " 'n_jobs': None,\n",
              " 'penalty': 'l2',\n",
              " 'random_state': None,\n",
              " 'solver': 'newton-cg',\n",
              " 'tol': 0.0001,\n",
              " 'verbose': 0,\n",
              " 'warm_start': False}"
            ]
          },
          "metadata": {},
          "execution_count": 29
        }
      ]
    },
    {
      "cell_type": "markdown",
      "source": [
        "## Evaluate model"
      ],
      "metadata": {
        "id": "WWAduoJet7hR"
      }
    },
    {
      "cell_type": "code",
      "source": [
        "class_names = ['Stable company', 'Unstable company']"
      ],
      "metadata": {
        "id": "4ejklXECzcs5"
      },
      "execution_count": 30,
      "outputs": []
    },
    {
      "cell_type": "code",
      "source": [
        "pred_reg_sm = best_est_reg.predict(X_val_sm)"
      ],
      "metadata": {
        "id": "ubfnp3jk2fPs"
      },
      "execution_count": 31,
      "outputs": []
    },
    {
      "cell_type": "markdown",
      "source": [
        "### Feature importance"
      ],
      "metadata": {
        "id": "730u2DRYF8q8"
      }
    },
    {
      "cell_type": "code",
      "source": [
        "feat_importance_plot(best_est_reg,X_train,y_train,df)"
      ],
      "metadata": {
        "colab": {
          "base_uri": "https://localhost:8080/",
          "height": 716
        },
        "id": "-AizuikCu9HY",
        "outputId": "bd822ce4-5430-4ab6-f26b-eafc720d7797"
      },
      "execution_count": 32,
      "outputs": [
        {
          "output_type": "stream",
          "name": "stderr",
          "text": [
            "/usr/local/lib/python3.8/dist-packages/yellowbrick/model_selection/importances.py:194: YellowbrickWarning: detected multi-dimensional feature importances but stack=False, using mean to aggregate them.\n",
            "  warnings.warn(\n"
          ]
        },
        {
          "output_type": "display_data",
          "data": {
            "text/plain": [
              "<Figure size 720x288 with 1 Axes>"
            ],
            "image/png": "[encoded data removed]"
          },
          "metadata": {
            "needs_background": "light"
          }
        },
        {
          "output_type": "stream",
          "name": "stdout",
          "text": [
            "\n",
            "\n"
          ]
        },
        {
          "output_type": "stream",
          "name": "stderr",
          "text": [
            "/usr/local/lib/python3.8/dist-packages/yellowbrick/model_selection/importances.py:194: YellowbrickWarning: detected multi-dimensional feature importances but stack=False, using mean to aggregate them.\n",
            "  warnings.warn(\n"
          ]
        },
        {
          "output_type": "display_data",
          "data": {
            "text/plain": [
              "<Figure size 720x288 with 1 Axes>"
            ],
            "image/png": "[encoded data removed]"
          },
          "metadata": {
            "needs_background": "light"
          }
        },
        {
          "output_type": "stream",
          "name": "stdout",
          "text": [
            "\n",
            "\n"
          ]
        }
      ]
    },
    {
      "cell_type": "code",
      "source": [
        "pip install scikit-plot"
      ],
      "metadata": {
        "colab": {
          "base_uri": "https://localhost:8080/"
        },
        "id": "J6hwbQMA1dkL",
        "outputId": "6cf39bf6-6db1-4dcf-8bae-efa23e79f891"
      },
      "execution_count": 33,
      "outputs": [
        {
          "output_type": "stream",
          "name": "stdout",
          "text": [
            "Looking in indexes: https://pypi.org/simple, https://us-python.pkg.dev/colab-wheels/public/simple/\n",
            "Collecting scikit-plot\n",
            "  Downloading scikit_plot-0.3.7-py3-none-any.whl (33 kB)\n",
            "Requirement already satisfied: joblib>=0.10 in /usr/local/lib/python3.8/dist-packages (from scikit-plot) (1.2.0)\n",
            "Requirement already satisfied: scipy>=0.9 in /usr/local/lib/python3.8/dist-packages (from scikit-plot) (1.7.3)\n",
            "Requirement already satisfied: scikit-learn>=0.18 in /usr/local/lib/python3.8/dist-packages (from scikit-plot) (1.0.2)\n",
            "Requirement already satisfied: matplotlib>=1.4.0 in /usr/local/lib/python3.8/dist-packages (from scikit-plot) (3.5.3)\n",
            "Requirement already satisfied: cycler>=0.10 in /usr/local/lib/python3.8/dist-packages (from matplotlib>=1.4.0->scikit-plot) (0.11.0)\n",
            "Requirement already satisfied: fonttools>=4.22.0 in /usr/local/lib/python3.8/dist-packages (from matplotlib>=1.4.0->scikit-plot) (4.38.0)\n",
            "Requirement already satisfied: kiwisolver>=1.0.1 in /usr/local/lib/python3.8/dist-packages (from matplotlib>=1.4.0->scikit-plot) (1.4.4)\n",
            "Requirement already satisfied: pillow>=6.2.0 in /usr/local/lib/python3.8/dist-packages (from matplotlib>=1.4.0->scikit-plot) (7.1.2)\n",
            "Requirement already satisfied: pyparsing>=2.2.1 in /usr/local/lib/python3.8/dist-packages (from matplotlib>=1.4.0->scikit-plot) (3.0.9)\n",
            "Requirement already satisfied: python-dateutil>=2.7 in /usr/local/lib/python3.8/dist-packages (from matplotlib>=1.4.0->scikit-plot) (2.8.2)\n",
            "Requirement already satisfied: packaging>=20.0 in /usr/local/lib/python3.8/dist-packages (from matplotlib>=1.4.0->scikit-plot) (23.0)\n",
            "Requirement already satisfied: numpy>=1.17 in /usr/local/lib/python3.8/dist-packages (from matplotlib>=1.4.0->scikit-plot) (1.22.4)\n",
            "Requirement already satisfied: threadpoolctl>=2.0.0 in /usr/local/lib/python3.8/dist-packages (from scikit-learn>=0.18->scikit-plot) (3.1.0)\n",
            "Requirement already satisfied: six>=1.5 in /usr/local/lib/python3.8/dist-packages (from python-dateutil>=2.7->matplotlib>=1.4.0->scikit-plot) (1.15.0)\n",
            "Installing collected packages: scikit-plot\n",
            "Successfully installed scikit-plot-0.3.7\n"
          ]
        }
      ]
    },
    {
      "cell_type": "code",
      "source": [
        " import scikitplot as skplt"
      ],
      "metadata": {
        "id": "U_VW1mPb1r3R"
      },
      "execution_count": 34,
      "outputs": []
    },
    {
      "cell_type": "markdown",
      "source": [
        "\n",
        "### ROC"
      ],
      "metadata": {
        "id": "ka_hSLsfF_vt"
      }
    },
    {
      "cell_type": "code",
      "source": [
        "# convert predicted probabilities to a 2D array\n",
        "pred_prob = np.column_stack((1 - pred_reg_sm, pred_reg_sm))\n",
        "\n",
        "# plot ROC curve for both classes and micro/macro averages\n",
        "skplt.metrics.plot_roc_curve(y_val_sm, pred_prob, curves=('each_class', 'micro', 'macro'),\n",
        "                             title='ROC Curve for {0}'.format(\"Logistic Regression\"),\n",
        "                             cmap='cool', figsize=(8, 6), text_fontsize='large')\n",
        "plt.grid(False)\n",
        "plt.show()"
      ],
      "metadata": {
        "colab": {
          "base_uri": "https://localhost:8080/",
          "height": 442
        },
        "id": "UOc_fKQ52YTl",
        "outputId": "81098273-6d7c-44ac-f035-7f42ebb4654d"
      },
      "execution_count": 35,
      "outputs": [
        {
          "output_type": "stream",
          "name": "stderr",
          "text": [
            "/usr/local/lib/python3.8/dist-packages/sklearn/utils/deprecation.py:87: FutureWarning: Function plot_roc_curve is deprecated; This will be removed in v0.5.0. Please use scikitplot.metrics.plot_roc instead.\n",
            "  warnings.warn(msg, category=FutureWarning)\n"
          ]
        },
        {
          "output_type": "display_data",
          "data": {
            "text/plain": [
              "<Figure size 576x432 with 1 Axes>"
            ],
            "image/png": "[encoded data removed]"
          },
          "metadata": {
            "needs_background": "light"
          }
        }
      ]
    },
    {
      "cell_type": "markdown",
      "source": [
        "### Confusion matrix"
      ],
      "metadata": {
        "id": "8UZ5rn2zGCNk"
      }
    },
    {
      "cell_type": "code",
      "source": [
        "plot_confusion_matrix(y_val_sm, pred_reg_sm,class_names)"
      ],
      "metadata": {
        "colab": {
          "base_uri": "https://localhost:8080/",
          "height": 297
        },
        "id": "TlGGPfN2zLn8",
        "outputId": "681d78d5-137e-483c-bbea-35c8b8fbeacc"
      },
      "execution_count": 36,
      "outputs": [
        {
          "output_type": "display_data",
          "data": {
            "text/plain": [
              "<Figure size 432x288 with 2 Axes>"
            ],
            "image/png": "[encoded data removed]"
          },
          "metadata": {
            "needs_background": "light"
          }
        }
      ]
    },
    {
      "cell_type": "markdown",
      "source": [
        "### Report"
      ],
      "metadata": {
        "id": "JCQBDZeYGEoV"
      }
    },
    {
      "cell_type": "code",
      "source": [
        "# Printing the classification report\n",
        "\n",
        "label = ['Fin.Stable', 'Fin.Unstable']\n",
        "\n",
        "print(classification_report(y_val_sm, pred_reg_sm, target_names=label))"
      ],
      "metadata": {
        "colab": {
          "base_uri": "https://localhost:8080/"
        },
        "id": "MQcoTf_KLBXj",
        "outputId": "138d4b2a-4f2a-4478-edce-3f9528333b8a"
      },
      "execution_count": 37,
      "outputs": [
        {
          "output_type": "stream",
          "name": "stdout",
          "text": [
            "              precision    recall  f1-score   support\n",
            "\n",
            "  Fin.Stable       0.99      0.90      0.94      1187\n",
            "Fin.Unstable       0.19      0.72      0.30        40\n",
            "\n",
            "    accuracy                           0.89      1227\n",
            "   macro avg       0.59      0.81      0.62      1227\n",
            "weighted avg       0.96      0.89      0.92      1227\n",
            "\n"
          ]
        }
      ]
    },
    {
      "cell_type": "code",
      "source": [
        "test_pred_lr = best_est_reg.predict(X_test)"
      ],
      "metadata": {
        "colab": {
          "base_uri": "https://localhost:8080/"
        },
        "id": "JQmPgY4-LfOE",
        "outputId": "b563bab9-cf44-4a30-a8d4-658e8f635704"
      },
      "execution_count": 38,
      "outputs": [
        {
          "output_type": "stream",
          "name": "stderr",
          "text": [
            "/usr/local/lib/python3.8/dist-packages/sklearn/base.py:443: UserWarning: X has feature names, but LogisticRegression was fitted without feature names\n",
            "  warnings.warn(\n"
          ]
        }
      ]
    },
    {
      "cell_type": "markdown",
      "source": [
        "# KNN"
      ],
      "metadata": {
        "id": "9opuh3jAy-2O"
      }
    },
    {
      "cell_type": "code",
      "source": [
        "from sklearn.neighbors import KNeighborsClassifier"
      ],
      "metadata": {
        "id": "Lv2SJMUhywjq"
      },
      "execution_count": 39,
      "outputs": []
    },
    {
      "cell_type": "markdown",
      "source": [
        "## Train Model"
      ],
      "metadata": {
        "id": "R_P8YvlnEUFc"
      }
    },
    {
      "cell_type": "code",
      "source": [
        "# List to append the score and then find the average\n",
        "\n",
        "accuracy_knn = []\n",
        "precision_knn = []\n",
        "recall_knn = []\n",
        "f1_knn = []\n",
        "auc_knn = []\n",
        "\n",
        "knn = KNeighborsClassifier()\n",
        "#knn_params = {}\n",
        "knn_params = {\"leaf_size\": list(range(1,50)),\n",
        "                  'n_neighbors': list(range(1,30)),\n",
        "                  'p': [1,2]\n",
        "                  }\n",
        "\n",
        "rand_knn = BayesSearchCV(KNeighborsClassifier(), knn_params, n_iter=4)\n",
        "\n",
        "\n",
        "for train, val in sss.split(X_train_sm, y_train_sm):\n",
        "    pipeline_knn = imbalanced_make_pipeline(SMOTE(sampling_strategy='minority'), rand_knn) # SMOTE happens during Cross Validation not before..\n",
        "    model_knn = pipeline_knn.fit(X_train_sm[train], y_train_sm[train])\n",
        "    best_est_knn = rand_knn.best_estimator_\n",
        "    prediction_knn = best_est_knn.predict(X_train_sm[val])\n",
        "    \n",
        "    accuracy_knn.append(pipeline_knn.score(X_train_sm[val], y_train_sm[val]))\n",
        "    precision_knn.append(precision_score(y_train_sm[val], prediction_knn))\n",
        "    recall_knn.append(recall_score(y_train_sm[val], prediction_knn))\n",
        "    f1_knn.append(f1_score(y_train_sm[val], prediction_knn))\n",
        "    auc_knn.append(roc_auc_score(y_train_sm[val], prediction_knn))\n",
        "\n",
        "\n",
        "print('---' * 45)\n",
        "print('')\n",
        "print('KNN (SMOTE) results:')\n",
        "print('')\n",
        "print(\"accuracy: {}\".format(np.mean(accuracy_knn)))\n",
        "print(\"precision: {}\".format(np.mean(precision_knn)))\n",
        "print(\"recall: {}\".format(np.mean(recall_knn)))\n",
        "print(\"f1: {}\".format(np.mean(f1_knn)))\n",
        "print('')\n",
        "print('---' * 45)"
      ],
      "metadata": {
        "colab": {
          "base_uri": "https://localhost:8080/"
        },
        "id": "AVttlN9nzB-t",
        "outputId": "6db0e2aa-6cbf-4ea1-893a-b2946a3c40f5"
      },
      "execution_count": 40,
      "outputs": [
        {
          "output_type": "stream",
          "name": "stdout",
          "text": [
            "---------------------------------------------------------------------------------------------------------------------------------------\n",
            "\n",
            "KNN (SMOTE) results:\n",
            "\n",
            "accuracy: 0.8920570264765784\n",
            "precision: 0.18543269573279703\n",
            "recall: 0.6778225806451613\n",
            "f1: 0.2893258078900339\n",
            "\n",
            "---------------------------------------------------------------------------------------------------------------------------------------\n"
          ]
        }
      ]
    },
    {
      "cell_type": "code",
      "source": [
        "params = best_est_knn.get_params()\n",
        "params"
      ],
      "metadata": {
        "colab": {
          "base_uri": "https://localhost:8080/"
        },
        "id": "pcgMSas20Hpb",
        "outputId": "1015788c-cfe8-4c35-8469-bc45a9ade77b"
      },
      "execution_count": 41,
      "outputs": [
        {
          "output_type": "execute_result",
          "data": {
            "text/plain": [
              "{'algorithm': 'auto',\n",
              " 'leaf_size': 40,\n",
              " 'metric': 'minkowski',\n",
              " 'metric_params': None,\n",
              " 'n_jobs': None,\n",
              " 'n_neighbors': 17,\n",
              " 'p': 1,\n",
              " 'weights': 'uniform'}"
            ]
          },
          "metadata": {},
          "execution_count": 41
        }
      ]
    },
    {
      "cell_type": "markdown",
      "source": [
        "## Evaluate the model"
      ],
      "metadata": {
        "id": "myF3jU3DEWiA"
      }
    },
    {
      "cell_type": "code",
      "source": [
        "pred_knn = best_est_knn.predict(X_val_sm)"
      ],
      "metadata": {
        "id": "dr6bOLmYEtmI"
      },
      "execution_count": 42,
      "outputs": []
    },
    {
      "cell_type": "markdown",
      "source": [
        "### ROC"
      ],
      "metadata": {
        "id": "kt1ssghtGSbc"
      }
    },
    {
      "cell_type": "code",
      "source": [
        "pred_prob_knn = np.column_stack((1 - pred_knn, pred_knn))\n",
        "\n",
        "# plot ROC curve for both classes and micro/macro averages\n",
        "skplt.metrics.plot_roc_curve(y_val_sm, pred_prob_knn, curves=('each_class', 'micro', 'macro'),\n",
        "                             title='ROC Curve for {0}'.format(\"Logistic Regression\"),\n",
        "                             cmap='cool', figsize=(8, 6), text_fontsize='large')\n",
        "plt.grid(False)\n",
        "plt.show()"
      ],
      "metadata": {
        "colab": {
          "base_uri": "https://localhost:8080/",
          "height": 442
        },
        "id": "lcE0VP1iD9Dk",
        "outputId": "b00c67c2-e5e0-4599-c3de-9c045de7cddb"
      },
      "execution_count": 43,
      "outputs": [
        {
          "output_type": "stream",
          "name": "stderr",
          "text": [
            "/usr/local/lib/python3.8/dist-packages/sklearn/utils/deprecation.py:87: FutureWarning: Function plot_roc_curve is deprecated; This will be removed in v0.5.0. Please use scikitplot.metrics.plot_roc instead.\n",
            "  warnings.warn(msg, category=FutureWarning)\n"
          ]
        },
        {
          "output_type": "display_data",
          "data": {
            "text/plain": [
              "<Figure size 576x432 with 1 Axes>"
            ],
            "image/png": "[encoded data removed]"
          },
          "metadata": {
            "needs_background": "light"
          }
        }
      ]
    },
    {
      "cell_type": "markdown",
      "source": [
        "### Confusion Matrix"
      ],
      "metadata": {
        "id": "S4D9agp9GUDG"
      }
    },
    {
      "cell_type": "code",
      "source": [
        "plot_confusion_matrix(y_val_sm, pred_knn,class_names)"
      ],
      "metadata": {
        "colab": {
          "base_uri": "https://localhost:8080/",
          "height": 297
        },
        "id": "fPE1hsyLEMx8",
        "outputId": "e4166bea-c5dc-446d-d955-9e23016f3b7e"
      },
      "execution_count": 44,
      "outputs": [
        {
          "output_type": "display_data",
          "data": {
            "text/plain": [
              "<Figure size 432x288 with 2 Axes>"
            ],
            "image/png": "[encoded data removed]"
          },
          "metadata": {
            "needs_background": "light"
          }
        }
      ]
    },
    {
      "cell_type": "markdown",
      "source": [
        "### Report"
      ],
      "metadata": {
        "id": "kruZgdhEGVy-"
      }
    },
    {
      "cell_type": "code",
      "source": [
        "# Printing the classification report\n",
        "\n",
        "label = ['Fin.Stable', 'Fin.Unstable']\n",
        "pred_knn_sm = best_est_knn.predict(X_val_sm)\n",
        "print(classification_report(y_val_sm, pred_knn_sm, target_names=label))"
      ],
      "metadata": {
        "colab": {
          "base_uri": "https://localhost:8080/"
        },
        "id": "sohp465E0XDQ",
        "outputId": "5f7fd709-0ce4-40c3-f7dc-a6a64e30d658"
      },
      "execution_count": 45,
      "outputs": [
        {
          "output_type": "stream",
          "name": "stdout",
          "text": [
            "              precision    recall  f1-score   support\n",
            "\n",
            "  Fin.Stable       0.99      0.89      0.94      1187\n",
            "Fin.Unstable       0.19      0.78      0.31        40\n",
            "\n",
            "    accuracy                           0.89      1227\n",
            "   macro avg       0.59      0.83      0.62      1227\n",
            "weighted avg       0.97      0.89      0.92      1227\n",
            "\n"
          ]
        }
      ]
    },
    {
      "cell_type": "code",
      "source": [
        "test_pred_knn = best_est_knn.predict(X_test)"
      ],
      "metadata": {
        "colab": {
          "base_uri": "https://localhost:8080/"
        },
        "id": "SRxJhmtU0cS_",
        "outputId": "4bc34545-56aa-49b2-804f-569a7afeeaf6"
      },
      "execution_count": 46,
      "outputs": [
        {
          "output_type": "stream",
          "name": "stderr",
          "text": [
            "/usr/local/lib/python3.8/dist-packages/sklearn/base.py:443: UserWarning: X has feature names, but KNeighborsClassifier was fitted without feature names\n",
            "  warnings.warn(\n"
          ]
        }
      ]
    },
    {
      "cell_type": "markdown",
      "source": [
        "# LightBoosting"
      ],
      "metadata": {
        "id": "N5qYFFSH0yJb"
      }
    },
    {
      "cell_type": "code",
      "source": [
        "import lightgbm as lgb"
      ],
      "metadata": {
        "id": "0eyLLZhw0tpl"
      },
      "execution_count": 47,
      "outputs": []
    },
    {
      "cell_type": "code",
      "source": [
        "clf = lgb.LGBMClassifier()"
      ],
      "metadata": {
        "id": "jI8aIPUU11oS"
      },
      "execution_count": 48,
      "outputs": []
    },
    {
      "cell_type": "markdown",
      "source": [
        "## Train model"
      ],
      "metadata": {
        "id": "iV_-WSY4FGN4"
      }
    },
    {
      "cell_type": "code",
      "source": [
        "from scipy.stats import uniform\n",
        "from scipy.stats import randint as sp_randint\n",
        "from scipy.stats import uniform as sp_uniform"
      ],
      "metadata": {
        "id": "Yv2dp_dI17uF"
      },
      "execution_count": 49,
      "outputs": []
    },
    {
      "cell_type": "code",
      "source": [
        "fit_params={\"early_stopping_rounds\":30, \n",
        "            \"eval_metric\" : 'auc', \n",
        "            \"eval_set\" : [(X_test,y_test)],\n",
        "            'eval_names': ['valid'],\n",
        "            #'callbacks': [lgb.reset_parameter(learning_rate=learning_rate_010_decay_power_099)],\n",
        "            'verbose': 100,\n",
        "            'categorical_feature': 'auto'}"
      ],
      "metadata": {
        "id": "DVdNfUzr5gb8"
      },
      "execution_count": 50,
      "outputs": []
    },
    {
      "cell_type": "code",
      "source": [
        "param_test ={'num_leaves': sp_randint(6, 50), \n",
        "             'min_child_samples': sp_randint(100, 500), \n",
        "             'min_child_weight': [1e-5, 1e-3, 1e-2, 1e-1, 1, 1e1, 1e2, 1e3, 1e4],\n",
        "             'subsample': sp_uniform(loc=0.2, scale=0.8), \n",
        "             'colsample_bytree': sp_uniform(loc=0.4, scale=0.6),\n",
        "             'reg_alpha': [0, 1e-1, 1, 2, 5, 7, 10, 50, 100],\n",
        "             'reg_lambda': [0, 1e-1, 1, 5, 10, 20, 50, 100]}"
      ],
      "metadata": {
        "id": "bC7NlIvM5kbI"
      },
      "execution_count": 51,
      "outputs": []
    },
    {
      "cell_type": "code",
      "source": [
        "n_HP_points_to_test = 4"
      ],
      "metadata": {
        "id": "garMeqXi5lus"
      },
      "execution_count": 52,
      "outputs": []
    },
    {
      "cell_type": "code",
      "source": [
        "clf = lgb.LGBMClassifier(max_depth=-1, random_state=314, silent=True, metric='None', n_jobs=4, n_estimators=100)\n",
        "gs = RandomizedSearchCV(\n",
        "    estimator=clf, param_distributions=param_test, \n",
        "    n_iter=4,\n",
        "    \n",
        "    \n",
        "    random_state=314\n",
        "    )"
      ],
      "metadata": {
        "id": "4bTndJzo5YyP"
      },
      "execution_count": 53,
      "outputs": []
    },
    {
      "cell_type": "code",
      "source": [
        "#gs.fit(X_train, y_train, **fit_params)\n",
        "#print('Best score reached: {} with params: {} '.format(gs.best_score_, gs.best_params_))"
      ],
      "metadata": {
        "id": "5YM4FHyi538V"
      },
      "execution_count": 54,
      "outputs": []
    },
    {
      "cell_type": "code",
      "source": [
        "# List to append the score and then find the average\n",
        "\n",
        "accuracy_clfc = []\n",
        "precision_clfc = []\n",
        "recall_clfc = []\n",
        "f1_clfc = []\n",
        "auc_clfc = []\n",
        "\n",
        "\n",
        "\n",
        "\n",
        "for train, val in sss.split(X_train_sm, y_train_sm):\n",
        "    pipeline_clfc = imbalanced_make_pipeline(SMOTE(sampling_strategy='minority'), gs) # SMOTE happens during Cross Validation not before..\n",
        "    model_clfc = pipeline_clfc.fit(X_train_sm[train], y_train_sm[train])\n",
        "    best_est_clfc = gs.best_estimator_\n",
        "    prediction_clfc = best_est_clfc.predict(X_train_sm[val])\n",
        "    \n",
        "    accuracy_clfc.append(pipeline_clfc.score(X_train_sm[val], y_train_sm[val]))\n",
        "    precision_clfc.append(precision_score(y_train_sm[val], prediction_clfc))\n",
        "    recall_clfc.append(recall_score(y_train_sm[val], prediction_clfc))\n",
        "    f1_clfc.append(f1_score(y_train_sm[val], prediction_clfc))\n",
        "    auc_clfc.append(roc_auc_score(y_train_sm[val], prediction_clfc))\n",
        "\n",
        "\n",
        "print('---' * 45)\n",
        "print('')\n",
        "print('clfc (SMOTE) results:')\n",
        "print('')\n",
        "print(\"accuracy: {}\".format(np.mean(accuracy_clfc)))\n",
        "print(\"precision: {}\".format(np.mean(precision_clfc)))\n",
        "print(\"recall: {}\".format(np.mean(recall_clfc)))\n",
        "print(\"f1: {}\".format(np.mean(f1_clfc)))\n",
        "print('')\n",
        "print('---' * 45)"
      ],
      "metadata": {
        "id": "fHejotVE3IQY",
        "colab": {
          "base_uri": "https://localhost:8080/"
        },
        "outputId": "88f296e8-1a61-4b00-ffd3-31fb65cbb01d"
      },
      "execution_count": 55,
      "outputs": [
        {
          "output_type": "stream",
          "name": "stdout",
          "text": [
            "---------------------------------------------------------------------------------------------------------------------------------------\n",
            "\n",
            "clfc (SMOTE) results:\n",
            "\n",
            "accuracy: 0.9364562118126273\n",
            "precision: 0.28644774602091677\n",
            "recall: 0.6397177419354839\n",
            "f1: 0.39437529357910095\n",
            "\n",
            "---------------------------------------------------------------------------------------------------------------------------------------\n"
          ]
        }
      ]
    },
    {
      "cell_type": "code",
      "source": [
        "best_est_clfc.get_params()"
      ],
      "metadata": {
        "id": "CzybT58i7806",
        "colab": {
          "base_uri": "https://localhost:8080/"
        },
        "outputId": "3c1cd947-d0d1-461f-855b-aa9aa90122ea"
      },
      "execution_count": 56,
      "outputs": [
        {
          "output_type": "execute_result",
          "data": {
            "text/plain": [
              "{'boosting_type': 'gbdt',\n",
              " 'class_weight': None,\n",
              " 'colsample_bytree': 0.9731668400523877,\n",
              " 'importance_type': 'split',\n",
              " 'learning_rate': 0.1,\n",
              " 'max_depth': -1,\n",
              " 'min_child_samples': 171,\n",
              " 'min_child_weight': 1e-05,\n",
              " 'min_split_gain': 0.0,\n",
              " 'n_estimators': 100,\n",
              " 'n_jobs': 4,\n",
              " 'num_leaves': 41,\n",
              " 'objective': None,\n",
              " 'random_state': 314,\n",
              " 'reg_alpha': 10,\n",
              " 'reg_lambda': 100,\n",
              " 'silent': True,\n",
              " 'subsample': 0.5575732396028996,\n",
              " 'subsample_for_bin': 200000,\n",
              " 'subsample_freq': 0,\n",
              " 'metric': 'None'}"
            ]
          },
          "metadata": {},
          "execution_count": 56
        }
      ]
    },
    {
      "cell_type": "markdown",
      "source": [
        "## Evaluate model"
      ],
      "metadata": {
        "id": "AFy3p6aMFJfa"
      }
    },
    {
      "cell_type": "code",
      "source": [
        "pred_clf = best_est_clfc.predict(X_val_sm)"
      ],
      "metadata": {
        "id": "O44L890KFLa6"
      },
      "execution_count": 57,
      "outputs": []
    },
    {
      "cell_type": "markdown",
      "source": [
        "### Feature importance"
      ],
      "metadata": {
        "id": "AGMP8Rd0Ga3g"
      }
    },
    {
      "cell_type": "code",
      "source": [
        "feat_importance_plot(best_est_clfc,X_train,y_train,df)"
      ],
      "metadata": {
        "colab": {
          "base_uri": "https://localhost:8080/",
          "height": 646
        },
        "id": "TABu0MVJFUzV",
        "outputId": "043e05a0-5103-4251-c244-e9874bb74d43"
      },
      "execution_count": 58,
      "outputs": [
        {
          "output_type": "display_data",
          "data": {
            "text/plain": [
              "<Figure size 720x288 with 1 Axes>"
            ],
            "image/png": "[encoded data removed]"
          },
          "metadata": {
            "needs_background": "light"
          }
        },
        {
          "output_type": "stream",
          "name": "stdout",
          "text": [
            "\n",
            "\n"
          ]
        },
        {
          "output_type": "display_data",
          "data": {
            "text/plain": [
              "<Figure size 720x288 with 1 Axes>"
            ],
            "image/png": "[encoded data removed]"
          },
          "metadata": {
            "needs_background": "light"
          }
        },
        {
          "output_type": "stream",
          "name": "stdout",
          "text": [
            "\n",
            "\n"
          ]
        }
      ]
    },
    {
      "cell_type": "markdown",
      "source": [
        "### Roc"
      ],
      "metadata": {
        "id": "7ZG4fqpYGctP"
      }
    },
    {
      "cell_type": "code",
      "source": [
        "# convert predicted probabilities to a 2D array\n",
        "pred_clfc = np.column_stack((1 - pred_clf, pred_clf))\n",
        "\n",
        "# plot ROC curve for both classes and micro/macro averages\n",
        "skplt.metrics.plot_roc_curve(y_val_sm, pred_clfc, curves=('each_class', 'micro', 'macro'),\n",
        "                             title='ROC Curve for {0}'.format(\"Logistic Regression\"),\n",
        "                             cmap='cool', figsize=(8, 6), text_fontsize='large')\n",
        "plt.grid(False)\n",
        "plt.show()"
      ],
      "metadata": {
        "colab": {
          "base_uri": "https://localhost:8080/",
          "height": 442
        },
        "id": "DFcQyFmeFbRF",
        "outputId": "771fa5dc-6e12-4529-a144-3b94e2988c69"
      },
      "execution_count": 59,
      "outputs": [
        {
          "output_type": "stream",
          "name": "stderr",
          "text": [
            "/usr/local/lib/python3.8/dist-packages/sklearn/utils/deprecation.py:87: FutureWarning: Function plot_roc_curve is deprecated; This will be removed in v0.5.0. Please use scikitplot.metrics.plot_roc instead.\n",
            "  warnings.warn(msg, category=FutureWarning)\n"
          ]
        },
        {
          "output_type": "display_data",
          "data": {
            "text/plain": [
              "<Figure size 576x432 with 1 Axes>"
            ],
            "image/png": "[encoded data removed]"
          },
          "metadata": {
            "needs_background": "light"
          }
        }
      ]
    },
    {
      "cell_type": "markdown",
      "source": [
        "### Confusion matrix"
      ],
      "metadata": {
        "id": "V87kHvBXGePo"
      }
    },
    {
      "cell_type": "code",
      "source": [
        "plot_confusion_matrix(y_val_sm, pred_clf,class_names)"
      ],
      "metadata": {
        "colab": {
          "base_uri": "https://localhost:8080/",
          "height": 297
        },
        "id": "srwi-2YoFycd",
        "outputId": "409a04db-739d-4ea6-e5a1-5e85ff1847b7"
      },
      "execution_count": 60,
      "outputs": [
        {
          "output_type": "display_data",
          "data": {
            "text/plain": [
              "<Figure size 432x288 with 2 Axes>"
            ],
            "image/png": "[encoded data removed]"
          },
          "metadata": {
            "needs_background": "light"
          }
        }
      ]
    },
    {
      "cell_type": "markdown",
      "source": [
        "### Report"
      ],
      "metadata": {
        "id": "6n883hU7GgLe"
      }
    },
    {
      "cell_type": "code",
      "source": [
        "# Printing the classification report\n",
        "\n",
        "label = ['Fin.Stable', 'Fin.Unstable']\n",
        "\n",
        "print(classification_report(y_val_sm, pred_clf, target_names=label))"
      ],
      "metadata": {
        "colab": {
          "base_uri": "https://localhost:8080/"
        },
        "id": "5NP9Meds7-_G",
        "outputId": "a0093f38-ab52-4cd2-9e55-f582ead398a9"
      },
      "execution_count": 61,
      "outputs": [
        {
          "output_type": "stream",
          "name": "stdout",
          "text": [
            "              precision    recall  f1-score   support\n",
            "\n",
            "  Fin.Stable       0.99      0.95      0.97      1187\n",
            "Fin.Unstable       0.32      0.62      0.42        40\n",
            "\n",
            "    accuracy                           0.94      1227\n",
            "   macro avg       0.65      0.79      0.70      1227\n",
            "weighted avg       0.97      0.94      0.95      1227\n",
            "\n"
          ]
        }
      ]
    },
    {
      "cell_type": "markdown",
      "source": [
        "# Ensamble"
      ],
      "metadata": {
        "id": "rPV6A2ihBlZT"
      }
    },
    {
      "cell_type": "code",
      "source": [
        "from sklearn.linear_model import SGDClassifier, LogisticRegression\n",
        "from sklearn.svm import SVC\n",
        "from sklearn.tree import DecisionTreeClassifier\n",
        "from sklearn.ensemble import RandomForestClassifier, GradientBoostingClassifier, BaggingClassifier, AdaBoostClassifier, ExtraTreesClassifier\n",
        "from sklearn.naive_bayes import GaussianNB\n",
        "from sklearn.neighbors import KNeighborsClassifier\n",
        "from sklearn.discriminant_analysis import LinearDiscriminantAnalysis"
      ],
      "metadata": {
        "id": "DA7eakCwBzyU"
      },
      "execution_count": 64,
      "outputs": []
    },
    {
      "cell_type": "code",
      "source": [
        "from sklearn.neural_network import MLPClassifier"
      ],
      "metadata": {
        "id": "xvuliZRvB3RJ"
      },
      "execution_count": 66,
      "outputs": []
    },
    {
      "cell_type": "code",
      "source": [
        "classifiers = {\n",
        "    'sgd':SGDClassifier(random_state=42,loss='perceptron'),\n",
        "    'logistic_regression':LogisticRegression(random_state=42,max_iter=1000),\n",
        "    'support_vector_machine':SVC(random_state=42,probability=True),\n",
        "    'decision_tree':DecisionTreeClassifier(random_state=42),\n",
        "    'random_forest':RandomForestClassifier(random_state=42),\n",
        "    'gaussian_naive_bayes':GaussianNB(),\n",
        "    'k_nearest_neighbors':KNeighborsClassifier(),\n",
        "    'gradient_boosting':GradientBoostingClassifier(random_state=42),\n",
        "    'linear_discriminant_analysis':LinearDiscriminantAnalysis(),\n",
        "    'bagging':BaggingClassifier(random_state=42),\n",
        "    'neural_network':MLPClassifier(random_state=42,max_iter=1000),\n",
        "    'adaboost':AdaBoostClassifier(random_state=42),\n",
        "    'extra_trees':ExtraTreesClassifier(random_state=42),\n",
        "    }"
      ],
      "metadata": {
        "id": "Yq3Bx5J0Bvr6"
      },
      "execution_count": 67,
      "outputs": []
    },
    {
      "cell_type": "code",
      "source": [
        "from sklearn.ensemble import GradientBoostingClassifier, VotingClassifier"
      ],
      "metadata": {
        "id": "9oV2fGYYC2xQ"
      },
      "execution_count": 75,
      "outputs": []
    },
    {
      "cell_type": "code",
      "source": [
        "voting = VotingClassifier(estimators=[\n",
        "          ('sgd',SGDClassifier(random_state=42,loss='perceptron')),\n",
        "            ('logistic_regression',LogisticRegression(random_state=42,max_iter=1000)),\n",
        "            ('support_vector_machine',SVC(random_state=42,probability=True)),\n",
        "            ('decision_tree',DecisionTreeClassifier(random_state=42)),\n",
        "            ('random_forest',RandomForestClassifier(random_state=42)),\n",
        "            ('gaussian_naive_bayes',GaussianNB()),\n",
        "            ('k_nearest_neighbors',KNeighborsClassifier()),\n",
        "            ('gradient_boosting',GradientBoostingClassifier(random_state=42)),\n",
        "            ('linear_discriminant_analysis',LinearDiscriminantAnalysis()),\n",
        "            ('bagging',BaggingClassifier(random_state=42)),\n",
        "            ('neural_network',MLPClassifier(random_state=42,max_iter=1000)),\n",
        "            ('adaboost',AdaBoostClassifier(random_state=42)),\n",
        "            ('extra_trees',ExtraTreesClassifier(random_state=42)) ],\n",
        "           voting='hard')"
      ],
      "metadata": {
        "id": "-Z-noP95Bmyp"
      },
      "execution_count": 76,
      "outputs": []
    },
    {
      "cell_type": "code",
      "source": [
        "classifiers=  [SGDClassifier(random_state=42,loss='perceptron'),LogisticRegression(random_state=42,max_iter=1000),SVC(random_state=42,probability=True),DecisionTreeClassifier(random_state=42),RandomForestClassifier(random_state=42),GaussianNB(),KNeighborsClassifier(),GradientBoostingClassifier(random_state=42),LinearDiscriminantAnalysis(),BaggingClassifier(random_state=42),MLPClassifier(random_state=42,max_iter=1000),AdaBoostClassifier(random_state=42),ExtraTreesClassifier(random_state=42),voting]"
      ],
      "metadata": {
        "id": "fe-23CZREUkh"
      },
      "execution_count": 80,
      "outputs": []
    },
    {
      "cell_type": "code",
      "source": [
        "from sklearn.model_selection import cross_val_score"
      ],
      "metadata": {
        "id": "ci63NXGbG37f"
      },
      "execution_count": 89,
      "outputs": []
    },
    {
      "cell_type": "code",
      "source": [
        "voting = VotingClassifier(estimators=[('Logistic',best_est_reg),\n",
        "            ('KNN',best_est_knn),\n",
        "            ('CLF',best_est_clfc),\n",
        "            ('gradient_boosting',GradientBoostingClassifier(random_state=42)),\n",
        "            ('bagging',BaggingClassifier(random_state=42)),\n",
        "            ('random_forest',RandomForestClassifier(random_state=42)),\n",
        "            ('neural_network',MLPClassifier(random_state=42,max_iter=1000)),\n",
        "            ('adaboost',AdaBoostClassifier(random_state=42))],\n",
        "            voting='hard')"
      ],
      "metadata": {
        "id": "V92WBkJMILVa"
      },
      "execution_count": 107,
      "outputs": []
    },
    {
      "cell_type": "code",
      "source": [
        "accuracy_voting = []\n",
        "precision_voting = []\n",
        "recall_voting = []\n",
        "f1_voting = []\n",
        "auc_voting = []\n",
        "\n",
        "\n",
        "\n",
        "\n",
        "for train, val in sss.split(X_train_sm, y_train_sm):\n",
        "    pipeline_voting = imbalanced_make_pipeline(SMOTE(sampling_strategy='minority'), voting) # SMOTE happens during Cross Validation not before..\n",
        "    model_voting = pipeline_voting.fit(X_train_sm[train], y_train_sm[train])\n",
        "    \n",
        "    prediction_voting = pipeline_voting.predict(X_train_sm[val])\n",
        "    \n",
        "    accuracy_voting.append(pipeline_voting.score(X_train_sm[val], y_train_sm[val]))\n",
        "    precision_voting.append(precision_score(y_train_sm[val], prediction_voting))\n",
        "    recall_voting.append(recall_score(y_train_sm[val], prediction_voting))\n",
        "    f1_voting.append(f1_score(y_train_sm[val], prediction_voting))\n",
        "    auc_voting.append(roc_auc_score(y_train_sm[val], prediction_voting))\n",
        "\n",
        "\n",
        "print('---' * 45)\n",
        "print('')\n",
        "print('clfc (SMOTE) results:')\n",
        "print('')\n",
        "print(\"accuracy: {}\".format(np.mean(accuracy_clfc)))\n",
        "print(\"precision: {}\".format(np.mean(precision_clfc)))\n",
        "print(\"recall: {}\".format(np.mean(recall_clfc)))\n",
        "print(\"f1: {}\".format(np.mean(f1_clfc)))\n",
        "print('')\n",
        "print('---' * 45)"
      ],
      "metadata": {
        "colab": {
          "base_uri": "https://localhost:8080/"
        },
        "id": "Oz0KLpYFJPzt",
        "outputId": "b785d2c2-23dd-4ebc-f8aa-3b731b138e6f"
      },
      "execution_count": 108,
      "outputs": [
        {
          "output_type": "stream",
          "name": "stdout",
          "text": [
            "---------------------------------------------------------------------------------------------------------------------------------------\n",
            "\n",
            "clfc (SMOTE) results:\n",
            "\n",
            "accuracy: 0.9364562118126273\n",
            "precision: 0.28644774602091677\n",
            "recall: 0.6397177419354839\n",
            "f1: 0.39437529357910095\n",
            "\n",
            "---------------------------------------------------------------------------------------------------------------------------------------\n"
          ]
        }
      ]
    },
    {
      "cell_type": "code",
      "source": [
        "pred = pipeline_voting.predict(X_test)"
      ],
      "metadata": {
        "colab": {
          "base_uri": "https://localhost:8080/"
        },
        "id": "AmuZYw3ZFS89",
        "outputId": "6eb91ef5-eb4c-4c17-a549-f76c9d0a0add"
      },
      "execution_count": 109,
      "outputs": [
        {
          "output_type": "stream",
          "name": "stderr",
          "text": [
            "/usr/local/lib/python3.8/dist-packages/sklearn/base.py:443: UserWarning: X has feature names, but LogisticRegression was fitted without feature names\n",
            "  warnings.warn(\n",
            "/usr/local/lib/python3.8/dist-packages/sklearn/base.py:443: UserWarning: X has feature names, but KNeighborsClassifier was fitted without feature names\n",
            "  warnings.warn(\n",
            "/usr/local/lib/python3.8/dist-packages/sklearn/base.py:443: UserWarning: X has feature names, but GradientBoostingClassifier was fitted without feature names\n",
            "  warnings.warn(\n",
            "/usr/local/lib/python3.8/dist-packages/sklearn/base.py:443: UserWarning: X has feature names, but BaggingClassifier was fitted without feature names\n",
            "  warnings.warn(\n",
            "/usr/local/lib/python3.8/dist-packages/sklearn/base.py:443: UserWarning: X has feature names, but RandomForestClassifier was fitted without feature names\n",
            "  warnings.warn(\n",
            "/usr/local/lib/python3.8/dist-packages/sklearn/base.py:443: UserWarning: X has feature names, but MLPClassifier was fitted without feature names\n",
            "  warnings.warn(\n",
            "/usr/local/lib/python3.8/dist-packages/sklearn/base.py:443: UserWarning: X has feature names, but AdaBoostClassifier was fitted without feature names\n",
            "  warnings.warn(\n"
          ]
        }
      ]
    },
    {
      "cell_type": "markdown",
      "source": [
        "# Testing"
      ],
      "metadata": {
        "id": "q_zoYGNDHhvU"
      }
    },
    {
      "cell_type": "code",
      "source": [
        "test_pred_lr = best_est_reg.predict(X_test)\n",
        "test_pred_knn = best_est_knn.predict(X_test)\n",
        "test_pred_clf = best_est_clfc.predict(X_test) \n"
      ],
      "metadata": {
        "colab": {
          "base_uri": "https://localhost:8080/"
        },
        "id": "5f69IVNDHjIZ",
        "outputId": "bcdc72f8-34fc-454c-8ca9-887b0967b1e3"
      },
      "execution_count": 62,
      "outputs": [
        {
          "output_type": "stream",
          "name": "stderr",
          "text": [
            "/usr/local/lib/python3.8/dist-packages/sklearn/base.py:443: UserWarning: X has feature names, but LogisticRegression was fitted without feature names\n",
            "  warnings.warn(\n",
            "/usr/local/lib/python3.8/dist-packages/sklearn/base.py:443: UserWarning: X has feature names, but KNeighborsClassifier was fitted without feature names\n",
            "  warnings.warn(\n"
          ]
        }
      ]
    },
    {
      "cell_type": "code",
      "source": [
        "y_val_sm.shape"
      ],
      "metadata": {
        "colab": {
          "base_uri": "https://localhost:8080/"
        },
        "id": "s5xWZ3C6P_-c",
        "outputId": "b91eeb3c-3276-4c30-b63c-475587046d14"
      },
      "execution_count": 123,
      "outputs": [
        {
          "output_type": "execute_result",
          "data": {
            "text/plain": [
              "(1227,)"
            ]
          },
          "metadata": {},
          "execution_count": 123
        }
      ]
    },
    {
      "cell_type": "code",
      "source": [
        "pred_voting = pipeline_voting.predict(X_val_sm)"
      ],
      "metadata": {
        "id": "sPdkalmIQaWo"
      },
      "execution_count": 124,
      "outputs": []
    },
    {
      "cell_type": "code",
      "source": [
        "from sklearn.metrics import roc_curve\n",
        "\n",
        "log_fpr, log_tpr, log_thresold = roc_curve(y_val_sm, pred_reg_sm)\n",
        "knn_fpr, knn_tpr, knn_threshold = roc_curve(y_val_sm, pred_knn)\n",
        "clf_fpr, clf_tpr, clf_thresold = roc_curve(y_val_sm, pred_clf)\n",
        "voting_fpr, voting_tpr, voting_thresold = roc_curve(y_val_sm, pred_voting)\n",
        "\n",
        "\n",
        "def graph_roc_curve_multiple(log_fpr, log_tpr, knn_fpr, knn_tpr,clf_fpr, clf_tpr,voting_fpr, voting_tpr):\n",
        "    plt.figure(figsize=(20,8))\n",
        "    plt.title('ROC Curve', fontsize=14)\n",
        "    plt.plot(log_fpr, log_tpr, label='Logistic Regression Classifier Score: {:.4f}'.format(roc_auc_score(y_val_sm, pred_reg_sm)))\n",
        "    plt.plot(clf_fpr, clf_tpr, label='clf Classifier Score: {:.4f}'.format(roc_auc_score(y_val_sm, pred_knn)))\n",
        "    plt.plot(voting_fpr, voting_tpr, label='voting Classifier Score: {:.4f}'.format(roc_auc_score(y_val_sm, pred_voting)))\n",
        "    plt.plot(knn_fpr, knn_tpr, label='KNN Classifier Score: {:.4f}'.format(roc_auc_score(y_val_sm, pred_knn)))\n",
        "    plt.plot([0, 1], [0, 1], 'k--')\n",
        "    plt.axis([-0.01, 1, 0, 1])\n",
        "    plt.xlabel('False Positive Rate', fontsize=13)\n",
        "    plt.ylabel('True Positive Rate', fontsize=13)\n",
        "    plt.annotate('Minimum ROC Score of 50% \\n (This is the minimum score to get)', xy=(0.5, 0.5), xytext=(0.6, 0.3),\n",
        "                arrowprops=dict(facecolor='#6E726D', shrink=0.05),\n",
        "                )\n",
        "    plt.legend()\n",
        "    \n",
        "graph_roc_curve_multiple(log_fpr, log_tpr, knn_fpr, knn_tpr,clf_fpr, clf_tpr,voting_fpr, voting_tpr)\n",
        "plt.show()"
      ],
      "metadata": {
        "colab": {
          "base_uri": "https://localhost:8080/",
          "height": 518
        },
        "id": "sLEHaN9JPZ-j",
        "outputId": "dd66c890-00e6-49c0-c270-a78a588014b9"
      },
      "execution_count": 126,
      "outputs": [
        {
          "output_type": "display_data",
          "data": {
            "text/plain": [
              "<Figure size 1440x576 with 1 Axes>"
            ],
            "image/png": "[encoded data removed]"
          },
          "metadata": {
            "needs_background": "light"
          }
        }
      ]
    },
    {
      "cell_type": "code",
      "source": [
        "# Plotting confusion matrix for each classifier\n",
        "\n",
        "conf_mx0 = confusion_matrix(y_test,test_pred_lr)\n",
        "conf_mx1 = confusion_matrix(y_test,test_pred_knn)\n",
        "conf_mx2 = confusion_matrix(y_test,test_pred_clf)\n",
        "conf_mx3 = confusion_matrix(y_test,pred)\n",
        "\n",
        "heat_cm0 = pd.DataFrame(conf_mx0, columns=np.unique(y_test), index = np.unique(y_test))\n",
        "heat_cm0.index.name = 'Actual'\n",
        "heat_cm0.columns.name = 'Predicted'\n",
        "\n",
        "heat_cm1 = pd.DataFrame(conf_mx1, columns=np.unique(y_test), index = np.unique(y_test))\n",
        "heat_cm1.index.name = 'Actual'\n",
        "heat_cm1.columns.name = 'Predicted'\n",
        "\n",
        "heat_cm2 = pd.DataFrame(conf_mx2, columns=np.unique(y_test), index = np.unique(y_test))\n",
        "heat_cm2.index.name = 'Actual'\n",
        "heat_cm2.columns.name = 'Predicted'\n",
        "\n",
        "heat_cm3 = pd.DataFrame(conf_mx3, columns=np.unique(y_test), index = np.unique(y_test))\n",
        "heat_cm3.index.name = 'Actual'\n",
        "heat_cm3.columns.name = 'Predicted'\n",
        "\n",
        "f, ax = plt.subplots(1, 4, figsize=(15,8))\n",
        "f.subplots_adjust(left=None, bottom=None, right= 2, top=None, wspace=None, hspace= None)\n",
        "\n",
        "sns.heatmap(heat_cm0, cmap=\"Blues\", annot=True, annot_kws={\"size\": 16},fmt='g', ax = ax[0])\n",
        "ax[0].set_title('Logistic Regression', fontsize = 20)\n",
        "sns.heatmap(heat_cm1, cmap=\"Blues\", annot=True, annot_kws={\"size\": 16},fmt='g', ax = ax[1])\n",
        "ax[1].set_title('KNN Classifier', fontsize = 20)\n",
        "sns.heatmap(heat_cm2, cmap=\"Blues\", annot=True, annot_kws={\"size\": 16},fmt='g', ax = ax[2])\n",
        "ax[2].set_title('CLF Classifier', fontsize = 20)\n",
        "sns.heatmap(heat_cm3, cmap=\"Blues\", annot=True, annot_kws={\"size\": 16},fmt='g', ax = ax[3])\n",
        "ax[3].set_title('Voting Classifier', fontsize = 20)\n",
        "\n",
        "plt.show()"
      ],
      "metadata": {
        "colab": {
          "base_uri": "https://localhost:8080/",
          "height": 436
        },
        "id": "Msk-jNvdHtkU",
        "outputId": "9fad583e-a617-4ed3-d0eb-27522490cf77"
      },
      "execution_count": 110,
      "outputs": [
        {
          "output_type": "display_data",
          "data": {
            "text/plain": [
              "<Figure size 1080x576 with 8 Axes>"
            ],
            "image/png": "[encoded data removed]"
          },
          "metadata": {
            "needs_background": "light"
          }
        }
      ]
    },
    {
      "cell_type": "code",
      "source": [
        "print(classification_report(y_test, test_pred_lr, target_names=label))"
      ],
      "metadata": {
        "colab": {
          "base_uri": "https://localhost:8080/"
        },
        "id": "-Vceg32gIPIp",
        "outputId": "e324a77e-6671-4f05-8768-2270e9789df4"
      },
      "execution_count": 111,
      "outputs": [
        {
          "output_type": "stream",
          "name": "stdout",
          "text": [
            "              precision    recall  f1-score   support\n",
            "\n",
            "  Fin.Stable       0.99      0.89      0.94       660\n",
            "Fin.Unstable       0.18      0.73      0.29        22\n",
            "\n",
            "    accuracy                           0.89       682\n",
            "   macro avg       0.59      0.81      0.61       682\n",
            "weighted avg       0.96      0.89      0.92       682\n",
            "\n"
          ]
        }
      ]
    },
    {
      "cell_type": "code",
      "source": [
        "print(classification_report(y_test, test_pred_knn, target_names=label))"
      ],
      "metadata": {
        "colab": {
          "base_uri": "https://localhost:8080/"
        },
        "id": "VaX2ePkIIQd8",
        "outputId": "285e5d77-6208-475f-e794-40cc78d84d10"
      },
      "execution_count": 112,
      "outputs": [
        {
          "output_type": "stream",
          "name": "stdout",
          "text": [
            "              precision    recall  f1-score   support\n",
            "\n",
            "  Fin.Stable       0.99      0.88      0.93       660\n",
            "Fin.Unstable       0.15      0.64      0.25        22\n",
            "\n",
            "    accuracy                           0.88       682\n",
            "   macro avg       0.57      0.76      0.59       682\n",
            "weighted avg       0.96      0.88      0.91       682\n",
            "\n"
          ]
        }
      ]
    },
    {
      "cell_type": "code",
      "source": [
        "print(classification_report(y_test, test_pred_clf, target_names=label))"
      ],
      "metadata": {
        "colab": {
          "base_uri": "https://localhost:8080/"
        },
        "id": "zaKY0lt3ISe9",
        "outputId": "1fff2a44-8ffc-45e4-ac29-823b4ba7d60d"
      },
      "execution_count": 113,
      "outputs": [
        {
          "output_type": "stream",
          "name": "stdout",
          "text": [
            "              precision    recall  f1-score   support\n",
            "\n",
            "  Fin.Stable       0.99      0.95      0.97       660\n",
            "Fin.Unstable       0.31      0.73      0.44        22\n",
            "\n",
            "    accuracy                           0.94       682\n",
            "   macro avg       0.65      0.84      0.70       682\n",
            "weighted avg       0.97      0.94      0.95       682\n",
            "\n"
          ]
        }
      ]
    },
    {
      "cell_type": "code",
      "source": [
        "print(classification_report(y_test, pred, target_names=label))"
      ],
      "metadata": {
        "colab": {
          "base_uri": "https://localhost:8080/"
        },
        "id": "mpoN_YpyO8lV",
        "outputId": "c68addc7-429b-4d72-891a-729419dd52c2"
      },
      "execution_count": 114,
      "outputs": [
        {
          "output_type": "stream",
          "name": "stdout",
          "text": [
            "              precision    recall  f1-score   support\n",
            "\n",
            "  Fin.Stable       0.99      0.96      0.98       660\n",
            "Fin.Unstable       0.38      0.68      0.48        22\n",
            "\n",
            "    accuracy                           0.95       682\n",
            "   macro avg       0.68      0.82      0.73       682\n",
            "weighted avg       0.97      0.95      0.96       682\n",
            "\n"
          ]
        }
      ]
    },
    {
      "cell_type": "code",
      "source": [
        "n_correct = sum(pred == y_test)"
      ],
      "metadata": {
        "id": "UBVJW9VIJpGb"
      },
      "execution_count": 120,
      "outputs": []
    },
    {
      "cell_type": "code",
      "source": [
        "print(n_correct/len(test_pred_clf))"
      ],
      "metadata": {
        "colab": {
          "base_uri": "https://localhost:8080/"
        },
        "id": "HkiyZAsMJwmS",
        "outputId": "6df0729b-c659-41cd-d5c1-f320fe97fae7"
      },
      "execution_count": 121,
      "outputs": [
        {
          "output_type": "stream",
          "name": "stdout",
          "text": [
            "0.9530791788856305\n"
          ]
        }
      ]
    },
    {
      "cell_type": "code",
      "source": [],
      "metadata": {
        "id": "hmYl_RMMPUzs"
      },
      "execution_count": null,
      "outputs": []
    }
  ]
}