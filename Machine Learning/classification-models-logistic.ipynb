{
 "cells": [
  {
   "cell_type": "markdown",
   "id": "0deadd8c",
   "metadata": {
    "papermill": {
     "duration": 0.019246,
     "end_time": "2022-08-14T14:25:08.822313",
     "exception": false,
     "start_time": "2022-08-14T14:25:08.803067",
     "status": "completed"
    },
    "tags": []
   },
   "source": [
    "# Librerias"
   ]
  },
  {
   "cell_type": "code",
   "execution_count": 1,
   "id": "36f179cf",
   "metadata": {
    "_cell_guid": "b1076dfc-b9ad-4769-8c92-a6c4dae69d19",
    "_uuid": "8f2839f25d086af736a60e9eeb907d3b93b6e0e5",
    "execution": {
     "iopub.execute_input": "2022-08-14T14:25:08.861854Z",
     "iopub.status.busy": "2022-08-14T14:25:08.861218Z",
     "iopub.status.idle": "2022-08-14T14:25:10.628121Z",
     "shell.execute_reply": "2022-08-14T14:25:10.626890Z"
    },
    "papermill": {
     "duration": 1.789665,
     "end_time": "2022-08-14T14:25:10.631440",
     "exception": false,
     "start_time": "2022-08-14T14:25:08.841775",
     "status": "completed"
    },
    "tags": []
   },
   "outputs": [
    {
     "name": "stdout",
     "output_type": "stream",
     "text": [
      "/kaggle/input/employee-attrition-for-healthcare/watson_healthcare_modified.csv\n"
     ]
    }
   ],
   "source": [
    "# This Python 3 environment comes with many helpful analytics libraries installed\n",
    "# It is defined by the kaggle/python Docker image: https://github.com/kaggle/docker-python\n",
    "# For example, here's several helpful packages to load\n",
    "import numpy as np # linear algebra\n",
    "import pandas as pd # data processing, CSV file I/O (e.g. pd.read_csv)\n",
    "import matplotlib.pyplot as plt # data visualization\n",
    "import seaborn as sns # statistical data visualization\n",
    "%matplotlib inline\n",
    "\n",
    "from category_encoders import OneHotEncoder\n",
    "from sklearn.preprocessing import LabelEncoder\n",
    "from sklearn.model_selection import train_test_split\n",
    "from sklearn.preprocessing import StandardScaler, MinMaxScaler\n",
    "\n",
    "from sklearn.linear_model import LogisticRegression\n",
    "\n",
    "# Input data files are available in the read-only \"../input/\" directory\n",
    "# For example, running this (by clicking run or pressing Shift+Enter) will list all files under the input directory\n",
    "\n",
    "import os\n",
    "for dirname, _, filenames in os.walk('/kaggle/input'):\n",
    "    for filename in filenames:\n",
    "        print(os.path.join(dirname, filename))\n",
    "\n",
    "# You can write up to 20GB to the current directory (/kaggle/working/) that gets preserved as output when you create a version using \"Save & Run All\" \n",
    "# You can also write temporary files to /kaggle/temp/, but they won't be saved outside of the current session"
   ]
  },
  {
   "cell_type": "markdown",
   "id": "0f9c621e",
   "metadata": {
    "papermill": {
     "duration": 0.016074,
     "end_time": "2022-08-14T14:25:10.665366",
     "exception": false,
     "start_time": "2022-08-14T14:25:10.649292",
     "status": "completed"
    },
    "tags": []
   },
   "source": [
    "# Data"
   ]
  },
  {
   "cell_type": "code",
   "execution_count": 2,
   "id": "db6fc8ca",
   "metadata": {
    "execution": {
     "iopub.execute_input": "2022-08-14T14:25:10.700285Z",
     "iopub.status.busy": "2022-08-14T14:25:10.699813Z",
     "iopub.status.idle": "2022-08-14T14:25:10.761232Z",
     "shell.execute_reply": "2022-08-14T14:25:10.760047Z"
    },
    "papermill": {
     "duration": 0.082114,
     "end_time": "2022-08-14T14:25:10.763908",
     "exception": false,
     "start_time": "2022-08-14T14:25:10.681794",
     "status": "completed"
    },
    "tags": []
   },
   "outputs": [
    {
     "data": {
      "text/html": [
       "<div>\n",
       "<style scoped>\n",
       "    .dataframe tbody tr th:only-of-type {\n",
       "        vertical-align: middle;\n",
       "    }\n",
       "\n",
       "    .dataframe tbody tr th {\n",
       "        vertical-align: top;\n",
       "    }\n",
       "\n",
       "    .dataframe thead th {\n",
       "        text-align: right;\n",
       "    }\n",
       "</style>\n",
       "<table border=\"1\" class=\"dataframe\">\n",
       "  <thead>\n",
       "    <tr style=\"text-align: right;\">\n",
       "      <th></th>\n",
       "      <th>EmployeeID</th>\n",
       "      <th>Age</th>\n",
       "      <th>Attrition</th>\n",
       "      <th>BusinessTravel</th>\n",
       "      <th>DailyRate</th>\n",
       "      <th>Department</th>\n",
       "      <th>DistanceFromHome</th>\n",
       "      <th>Education</th>\n",
       "      <th>EducationField</th>\n",
       "      <th>EmployeeCount</th>\n",
       "      <th>...</th>\n",
       "      <th>RelationshipSatisfaction</th>\n",
       "      <th>StandardHours</th>\n",
       "      <th>Shift</th>\n",
       "      <th>TotalWorkingYears</th>\n",
       "      <th>TrainingTimesLastYear</th>\n",
       "      <th>WorkLifeBalance</th>\n",
       "      <th>YearsAtCompany</th>\n",
       "      <th>YearsInCurrentRole</th>\n",
       "      <th>YearsSinceLastPromotion</th>\n",
       "      <th>YearsWithCurrManager</th>\n",
       "    </tr>\n",
       "  </thead>\n",
       "  <tbody>\n",
       "    <tr>\n",
       "      <th>0</th>\n",
       "      <td>1313919</td>\n",
       "      <td>41</td>\n",
       "      <td>No</td>\n",
       "      <td>Travel_Rarely</td>\n",
       "      <td>1102</td>\n",
       "      <td>Cardiology</td>\n",
       "      <td>1</td>\n",
       "      <td>2</td>\n",
       "      <td>Life Sciences</td>\n",
       "      <td>1</td>\n",
       "      <td>...</td>\n",
       "      <td>1</td>\n",
       "      <td>80</td>\n",
       "      <td>0</td>\n",
       "      <td>8</td>\n",
       "      <td>0</td>\n",
       "      <td>1</td>\n",
       "      <td>6</td>\n",
       "      <td>4</td>\n",
       "      <td>0</td>\n",
       "      <td>5</td>\n",
       "    </tr>\n",
       "    <tr>\n",
       "      <th>1</th>\n",
       "      <td>1200302</td>\n",
       "      <td>49</td>\n",
       "      <td>No</td>\n",
       "      <td>Travel_Frequently</td>\n",
       "      <td>279</td>\n",
       "      <td>Maternity</td>\n",
       "      <td>8</td>\n",
       "      <td>1</td>\n",
       "      <td>Life Sciences</td>\n",
       "      <td>1</td>\n",
       "      <td>...</td>\n",
       "      <td>4</td>\n",
       "      <td>80</td>\n",
       "      <td>1</td>\n",
       "      <td>10</td>\n",
       "      <td>3</td>\n",
       "      <td>3</td>\n",
       "      <td>10</td>\n",
       "      <td>7</td>\n",
       "      <td>1</td>\n",
       "      <td>7</td>\n",
       "    </tr>\n",
       "    <tr>\n",
       "      <th>2</th>\n",
       "      <td>1060315</td>\n",
       "      <td>37</td>\n",
       "      <td>Yes</td>\n",
       "      <td>Travel_Rarely</td>\n",
       "      <td>1373</td>\n",
       "      <td>Maternity</td>\n",
       "      <td>2</td>\n",
       "      <td>2</td>\n",
       "      <td>Other</td>\n",
       "      <td>1</td>\n",
       "      <td>...</td>\n",
       "      <td>2</td>\n",
       "      <td>80</td>\n",
       "      <td>0</td>\n",
       "      <td>7</td>\n",
       "      <td>3</td>\n",
       "      <td>3</td>\n",
       "      <td>0</td>\n",
       "      <td>0</td>\n",
       "      <td>0</td>\n",
       "      <td>0</td>\n",
       "    </tr>\n",
       "    <tr>\n",
       "      <th>3</th>\n",
       "      <td>1272912</td>\n",
       "      <td>33</td>\n",
       "      <td>No</td>\n",
       "      <td>Travel_Frequently</td>\n",
       "      <td>1392</td>\n",
       "      <td>Maternity</td>\n",
       "      <td>3</td>\n",
       "      <td>4</td>\n",
       "      <td>Life Sciences</td>\n",
       "      <td>1</td>\n",
       "      <td>...</td>\n",
       "      <td>3</td>\n",
       "      <td>80</td>\n",
       "      <td>0</td>\n",
       "      <td>8</td>\n",
       "      <td>3</td>\n",
       "      <td>3</td>\n",
       "      <td>8</td>\n",
       "      <td>7</td>\n",
       "      <td>3</td>\n",
       "      <td>0</td>\n",
       "    </tr>\n",
       "    <tr>\n",
       "      <th>4</th>\n",
       "      <td>1414939</td>\n",
       "      <td>27</td>\n",
       "      <td>No</td>\n",
       "      <td>Travel_Rarely</td>\n",
       "      <td>591</td>\n",
       "      <td>Maternity</td>\n",
       "      <td>2</td>\n",
       "      <td>1</td>\n",
       "      <td>Medical</td>\n",
       "      <td>1</td>\n",
       "      <td>...</td>\n",
       "      <td>4</td>\n",
       "      <td>80</td>\n",
       "      <td>1</td>\n",
       "      <td>6</td>\n",
       "      <td>3</td>\n",
       "      <td>3</td>\n",
       "      <td>2</td>\n",
       "      <td>2</td>\n",
       "      <td>2</td>\n",
       "      <td>2</td>\n",
       "    </tr>\n",
       "    <tr>\n",
       "      <th>...</th>\n",
       "      <td>...</td>\n",
       "      <td>...</td>\n",
       "      <td>...</td>\n",
       "      <td>...</td>\n",
       "      <td>...</td>\n",
       "      <td>...</td>\n",
       "      <td>...</td>\n",
       "      <td>...</td>\n",
       "      <td>...</td>\n",
       "      <td>...</td>\n",
       "      <td>...</td>\n",
       "      <td>...</td>\n",
       "      <td>...</td>\n",
       "      <td>...</td>\n",
       "      <td>...</td>\n",
       "      <td>...</td>\n",
       "      <td>...</td>\n",
       "      <td>...</td>\n",
       "      <td>...</td>\n",
       "      <td>...</td>\n",
       "      <td>...</td>\n",
       "    </tr>\n",
       "    <tr>\n",
       "      <th>1671</th>\n",
       "      <td>1117656</td>\n",
       "      <td>26</td>\n",
       "      <td>Yes</td>\n",
       "      <td>Travel_Rarely</td>\n",
       "      <td>471</td>\n",
       "      <td>Neurology</td>\n",
       "      <td>24</td>\n",
       "      <td>3</td>\n",
       "      <td>Technical Degree</td>\n",
       "      <td>1</td>\n",
       "      <td>...</td>\n",
       "      <td>2</td>\n",
       "      <td>80</td>\n",
       "      <td>0</td>\n",
       "      <td>1</td>\n",
       "      <td>3</td>\n",
       "      <td>1</td>\n",
       "      <td>1</td>\n",
       "      <td>0</td>\n",
       "      <td>0</td>\n",
       "      <td>0</td>\n",
       "    </tr>\n",
       "    <tr>\n",
       "      <th>1672</th>\n",
       "      <td>1152327</td>\n",
       "      <td>46</td>\n",
       "      <td>No</td>\n",
       "      <td>Travel_Rarely</td>\n",
       "      <td>1125</td>\n",
       "      <td>Cardiology</td>\n",
       "      <td>10</td>\n",
       "      <td>3</td>\n",
       "      <td>Marketing</td>\n",
       "      <td>1</td>\n",
       "      <td>...</td>\n",
       "      <td>3</td>\n",
       "      <td>80</td>\n",
       "      <td>1</td>\n",
       "      <td>15</td>\n",
       "      <td>3</td>\n",
       "      <td>3</td>\n",
       "      <td>3</td>\n",
       "      <td>2</td>\n",
       "      <td>1</td>\n",
       "      <td>2</td>\n",
       "    </tr>\n",
       "    <tr>\n",
       "      <th>1673</th>\n",
       "      <td>1812428</td>\n",
       "      <td>20</td>\n",
       "      <td>No</td>\n",
       "      <td>Travel_Rarely</td>\n",
       "      <td>959</td>\n",
       "      <td>Maternity</td>\n",
       "      <td>1</td>\n",
       "      <td>3</td>\n",
       "      <td>Life Sciences</td>\n",
       "      <td>1</td>\n",
       "      <td>...</td>\n",
       "      <td>4</td>\n",
       "      <td>80</td>\n",
       "      <td>0</td>\n",
       "      <td>1</td>\n",
       "      <td>0</td>\n",
       "      <td>4</td>\n",
       "      <td>1</td>\n",
       "      <td>0</td>\n",
       "      <td>0</td>\n",
       "      <td>0</td>\n",
       "    </tr>\n",
       "    <tr>\n",
       "      <th>1674</th>\n",
       "      <td>1812429</td>\n",
       "      <td>39</td>\n",
       "      <td>No</td>\n",
       "      <td>Travel_Rarely</td>\n",
       "      <td>466</td>\n",
       "      <td>Neurology</td>\n",
       "      <td>1</td>\n",
       "      <td>1</td>\n",
       "      <td>Life Sciences</td>\n",
       "      <td>1</td>\n",
       "      <td>...</td>\n",
       "      <td>3</td>\n",
       "      <td>80</td>\n",
       "      <td>1</td>\n",
       "      <td>21</td>\n",
       "      <td>3</td>\n",
       "      <td>3</td>\n",
       "      <td>21</td>\n",
       "      <td>6</td>\n",
       "      <td>11</td>\n",
       "      <td>8</td>\n",
       "    </tr>\n",
       "    <tr>\n",
       "      <th>1675</th>\n",
       "      <td>1152329</td>\n",
       "      <td>27</td>\n",
       "      <td>No</td>\n",
       "      <td>Travel_Rarely</td>\n",
       "      <td>511</td>\n",
       "      <td>Cardiology</td>\n",
       "      <td>2</td>\n",
       "      <td>2</td>\n",
       "      <td>Medical</td>\n",
       "      <td>1</td>\n",
       "      <td>...</td>\n",
       "      <td>2</td>\n",
       "      <td>80</td>\n",
       "      <td>0</td>\n",
       "      <td>9</td>\n",
       "      <td>5</td>\n",
       "      <td>2</td>\n",
       "      <td>8</td>\n",
       "      <td>7</td>\n",
       "      <td>0</td>\n",
       "      <td>7</td>\n",
       "    </tr>\n",
       "  </tbody>\n",
       "</table>\n",
       "<p>1676 rows × 35 columns</p>\n",
       "</div>"
      ],
      "text/plain": [
       "      EmployeeID  Age Attrition     BusinessTravel  DailyRate  Department  \\\n",
       "0        1313919   41        No      Travel_Rarely       1102  Cardiology   \n",
       "1        1200302   49        No  Travel_Frequently        279   Maternity   \n",
       "2        1060315   37       Yes      Travel_Rarely       1373   Maternity   \n",
       "3        1272912   33        No  Travel_Frequently       1392   Maternity   \n",
       "4        1414939   27        No      Travel_Rarely        591   Maternity   \n",
       "...          ...  ...       ...                ...        ...         ...   \n",
       "1671     1117656   26       Yes      Travel_Rarely        471   Neurology   \n",
       "1672     1152327   46        No      Travel_Rarely       1125  Cardiology   \n",
       "1673     1812428   20        No      Travel_Rarely        959   Maternity   \n",
       "1674     1812429   39        No      Travel_Rarely        466   Neurology   \n",
       "1675     1152329   27        No      Travel_Rarely        511  Cardiology   \n",
       "\n",
       "      DistanceFromHome  Education    EducationField  EmployeeCount  ...  \\\n",
       "0                    1          2     Life Sciences              1  ...   \n",
       "1                    8          1     Life Sciences              1  ...   \n",
       "2                    2          2             Other              1  ...   \n",
       "3                    3          4     Life Sciences              1  ...   \n",
       "4                    2          1           Medical              1  ...   \n",
       "...                ...        ...               ...            ...  ...   \n",
       "1671                24          3  Technical Degree              1  ...   \n",
       "1672                10          3         Marketing              1  ...   \n",
       "1673                 1          3     Life Sciences              1  ...   \n",
       "1674                 1          1     Life Sciences              1  ...   \n",
       "1675                 2          2           Medical              1  ...   \n",
       "\n",
       "      RelationshipSatisfaction StandardHours  Shift  TotalWorkingYears  \\\n",
       "0                            1            80      0                  8   \n",
       "1                            4            80      1                 10   \n",
       "2                            2            80      0                  7   \n",
       "3                            3            80      0                  8   \n",
       "4                            4            80      1                  6   \n",
       "...                        ...           ...    ...                ...   \n",
       "1671                         2            80      0                  1   \n",
       "1672                         3            80      1                 15   \n",
       "1673                         4            80      0                  1   \n",
       "1674                         3            80      1                 21   \n",
       "1675                         2            80      0                  9   \n",
       "\n",
       "      TrainingTimesLastYear WorkLifeBalance  YearsAtCompany  \\\n",
       "0                         0               1               6   \n",
       "1                         3               3              10   \n",
       "2                         3               3               0   \n",
       "3                         3               3               8   \n",
       "4                         3               3               2   \n",
       "...                     ...             ...             ...   \n",
       "1671                      3               1               1   \n",
       "1672                      3               3               3   \n",
       "1673                      0               4               1   \n",
       "1674                      3               3              21   \n",
       "1675                      5               2               8   \n",
       "\n",
       "     YearsInCurrentRole  YearsSinceLastPromotion  YearsWithCurrManager  \n",
       "0                     4                        0                     5  \n",
       "1                     7                        1                     7  \n",
       "2                     0                        0                     0  \n",
       "3                     7                        3                     0  \n",
       "4                     2                        2                     2  \n",
       "...                 ...                      ...                   ...  \n",
       "1671                  0                        0                     0  \n",
       "1672                  2                        1                     2  \n",
       "1673                  0                        0                     0  \n",
       "1674                  6                       11                     8  \n",
       "1675                  7                        0                     7  \n",
       "\n",
       "[1676 rows x 35 columns]"
      ]
     },
     "execution_count": 2,
     "metadata": {},
     "output_type": "execute_result"
    }
   ],
   "source": [
    "data = pd.read_csv('../input/employee-attrition-for-healthcare/watson_healthcare_modified.csv')\n",
    "data"
   ]
  },
  {
   "cell_type": "code",
   "execution_count": 3,
   "id": "49065503",
   "metadata": {
    "execution": {
     "iopub.execute_input": "2022-08-14T14:25:10.800951Z",
     "iopub.status.busy": "2022-08-14T14:25:10.800557Z",
     "iopub.status.idle": "2022-08-14T14:25:10.828110Z",
     "shell.execute_reply": "2022-08-14T14:25:10.826580Z"
    },
    "papermill": {
     "duration": 0.048955,
     "end_time": "2022-08-14T14:25:10.830513",
     "exception": false,
     "start_time": "2022-08-14T14:25:10.781558",
     "status": "completed"
    },
    "tags": []
   },
   "outputs": [
    {
     "name": "stdout",
     "output_type": "stream",
     "text": [
      "<class 'pandas.core.frame.DataFrame'>\n",
      "RangeIndex: 1676 entries, 0 to 1675\n",
      "Data columns (total 35 columns):\n",
      " #   Column                    Non-Null Count  Dtype \n",
      "---  ------                    --------------  ----- \n",
      " 0   EmployeeID                1676 non-null   int64 \n",
      " 1   Age                       1676 non-null   int64 \n",
      " 2   Attrition                 1676 non-null   object\n",
      " 3   BusinessTravel            1676 non-null   object\n",
      " 4   DailyRate                 1676 non-null   int64 \n",
      " 5   Department                1676 non-null   object\n",
      " 6   DistanceFromHome          1676 non-null   int64 \n",
      " 7   Education                 1676 non-null   int64 \n",
      " 8   EducationField            1676 non-null   object\n",
      " 9   EmployeeCount             1676 non-null   int64 \n",
      " 10  EnvironmentSatisfaction   1676 non-null   int64 \n",
      " 11  Gender                    1676 non-null   object\n",
      " 12  HourlyRate                1676 non-null   int64 \n",
      " 13  JobInvolvement            1676 non-null   int64 \n",
      " 14  JobLevel                  1676 non-null   int64 \n",
      " 15  JobRole                   1676 non-null   object\n",
      " 16  JobSatisfaction           1676 non-null   int64 \n",
      " 17  MaritalStatus             1676 non-null   object\n",
      " 18  MonthlyIncome             1676 non-null   int64 \n",
      " 19  MonthlyRate               1676 non-null   int64 \n",
      " 20  NumCompaniesWorked        1676 non-null   int64 \n",
      " 21  Over18                    1676 non-null   object\n",
      " 22  OverTime                  1676 non-null   object\n",
      " 23  PercentSalaryHike         1676 non-null   int64 \n",
      " 24  PerformanceRating         1676 non-null   int64 \n",
      " 25  RelationshipSatisfaction  1676 non-null   int64 \n",
      " 26  StandardHours             1676 non-null   int64 \n",
      " 27  Shift                     1676 non-null   int64 \n",
      " 28  TotalWorkingYears         1676 non-null   int64 \n",
      " 29  TrainingTimesLastYear     1676 non-null   int64 \n",
      " 30  WorkLifeBalance           1676 non-null   int64 \n",
      " 31  YearsAtCompany            1676 non-null   int64 \n",
      " 32  YearsInCurrentRole        1676 non-null   int64 \n",
      " 33  YearsSinceLastPromotion   1676 non-null   int64 \n",
      " 34  YearsWithCurrManager      1676 non-null   int64 \n",
      "dtypes: int64(26), object(9)\n",
      "memory usage: 458.4+ KB\n"
     ]
    }
   ],
   "source": [
    "data.info()"
   ]
  },
  {
   "cell_type": "code",
   "execution_count": 4,
   "id": "3dbbcc35",
   "metadata": {
    "execution": {
     "iopub.execute_input": "2022-08-14T14:25:10.867036Z",
     "iopub.status.busy": "2022-08-14T14:25:10.866618Z",
     "iopub.status.idle": "2022-08-14T14:25:10.873342Z",
     "shell.execute_reply": "2022-08-14T14:25:10.872168Z"
    },
    "papermill": {
     "duration": 0.02786,
     "end_time": "2022-08-14T14:25:10.875785",
     "exception": false,
     "start_time": "2022-08-14T14:25:10.847925",
     "status": "completed"
    },
    "tags": []
   },
   "outputs": [],
   "source": [
    "data = data.drop(['EmployeeID'], axis = 1)"
   ]
  },
  {
   "cell_type": "code",
   "execution_count": 5,
   "id": "b32a7c97",
   "metadata": {
    "execution": {
     "iopub.execute_input": "2022-08-14T14:25:10.912280Z",
     "iopub.status.busy": "2022-08-14T14:25:10.911847Z",
     "iopub.status.idle": "2022-08-14T14:25:10.921095Z",
     "shell.execute_reply": "2022-08-14T14:25:10.919839Z"
    },
    "papermill": {
     "duration": 0.030256,
     "end_time": "2022-08-14T14:25:10.923277",
     "exception": false,
     "start_time": "2022-08-14T14:25:10.893021",
     "status": "completed"
    },
    "tags": []
   },
   "outputs": [
    {
     "data": {
      "text/plain": [
       "No     1477\n",
       "Yes     199\n",
       "Name: Attrition, dtype: int64"
      ]
     },
     "execution_count": 5,
     "metadata": {},
     "output_type": "execute_result"
    }
   ],
   "source": [
    "data['Attrition'].value_counts()"
   ]
  },
  {
   "cell_type": "code",
   "execution_count": 6,
   "id": "585fd5f3",
   "metadata": {
    "execution": {
     "iopub.execute_input": "2022-08-14T14:25:10.959963Z",
     "iopub.status.busy": "2022-08-14T14:25:10.959554Z",
     "iopub.status.idle": "2022-08-14T14:25:11.168961Z",
     "shell.execute_reply": "2022-08-14T14:25:11.167799Z"
    },
    "papermill": {
     "duration": 0.230687,
     "end_time": "2022-08-14T14:25:11.171428",
     "exception": false,
     "start_time": "2022-08-14T14:25:10.940741",
     "status": "completed"
    },
    "tags": []
   },
   "outputs": [
    {
     "name": "stderr",
     "output_type": "stream",
     "text": [
      "/opt/conda/lib/python3.7/site-packages/seaborn/_decorators.py:43: FutureWarning: Pass the following variable as a keyword arg: x. From version 0.12, the only valid positional argument will be `data`, and passing other arguments without an explicit keyword will result in an error or misinterpretation.\n",
      "  FutureWarning\n"
     ]
    },
    {
     "data": {
      "text/plain": [
       "<AxesSubplot:xlabel='Attrition', ylabel='count'>"
      ]
     },
     "execution_count": 6,
     "metadata": {},
     "output_type": "execute_result"
    },
    {
     "data": {
      "image/png": "[encoded data removed]",
      "text/plain": [
       "<Figure size 432x288 with 1 Axes>"
      ]
     },
     "metadata": {
      "needs_background": "light"
     },
     "output_type": "display_data"
    }
   ],
   "source": [
    "sns.countplot(data['Attrition'], label = 'Count')"
   ]
  },
  {
   "cell_type": "markdown",
   "id": "6a58313e",
   "metadata": {
    "papermill": {
     "duration": 0.017643,
     "end_time": "2022-08-14T14:25:11.206883",
     "exception": false,
     "start_time": "2022-08-14T14:25:11.189240",
     "status": "completed"
    },
    "tags": []
   },
   "source": [
    "# Categoricals"
   ]
  },
  {
   "cell_type": "code",
   "execution_count": 7,
   "id": "b0ef74d9",
   "metadata": {
    "execution": {
     "iopub.execute_input": "2022-08-14T14:25:11.245219Z",
     "iopub.status.busy": "2022-08-14T14:25:11.244274Z",
     "iopub.status.idle": "2022-08-14T14:25:11.252418Z",
     "shell.execute_reply": "2022-08-14T14:25:11.251108Z"
    },
    "papermill": {
     "duration": 0.029648,
     "end_time": "2022-08-14T14:25:11.254834",
     "exception": false,
     "start_time": "2022-08-14T14:25:11.225186",
     "status": "completed"
    },
    "tags": []
   },
   "outputs": [
    {
     "name": "stdout",
     "output_type": "stream",
     "text": [
      "There are 9 categorical variables\n",
      "\n",
      "The categorical variables are : ['Attrition', 'BusinessTravel', 'Department', 'EducationField', 'Gender', 'JobRole', 'MaritalStatus', 'Over18', 'OverTime']\n"
     ]
    }
   ],
   "source": [
    "# find categorical variables\n",
    "\n",
    "categorical = [var for var in data.columns if data[var].dtype=='O']\n",
    "\n",
    "print('There are {} categorical variables\\n'.format(len(categorical)))\n",
    "\n",
    "print('The categorical variables are :', categorical)"
   ]
  },
  {
   "cell_type": "code",
   "execution_count": 8,
   "id": "99562f2f",
   "metadata": {
    "execution": {
     "iopub.execute_input": "2022-08-14T14:25:11.292693Z",
     "iopub.status.busy": "2022-08-14T14:25:11.291978Z",
     "iopub.status.idle": "2022-08-14T14:25:11.306001Z",
     "shell.execute_reply": "2022-08-14T14:25:11.304682Z"
    },
    "papermill": {
     "duration": 0.036128,
     "end_time": "2022-08-14T14:25:11.308905",
     "exception": false,
     "start_time": "2022-08-14T14:25:11.272777",
     "status": "completed"
    },
    "tags": []
   },
   "outputs": [
    {
     "name": "stdout",
     "output_type": "stream",
     "text": [
      "No     1477\n",
      "Yes     199\n",
      "Name: Attrition, dtype: int64\n",
      "Travel_Rarely        1184\n",
      "Travel_Frequently     320\n",
      "Non-Travel            172\n",
      "Name: BusinessTravel, dtype: int64\n",
      "Maternity     796\n",
      "Cardiology    531\n",
      "Neurology     349\n",
      "Name: Department, dtype: int64\n",
      "Life Sciences       697\n",
      "Medical             524\n",
      "Marketing           189\n",
      "Technical Degree    149\n",
      "Other                88\n",
      "Human Resources      29\n",
      "Name: EducationField, dtype: int64\n",
      "Male      998\n",
      "Female    678\n",
      "Name: Gender, dtype: int64\n",
      "Nurse             822\n",
      "Other             534\n",
      "Therapist         189\n",
      "Administrative    115\n",
      "Admin              16\n",
      "Name: JobRole, dtype: int64\n",
      "Married     777\n",
      "Single      522\n",
      "Divorced    377\n",
      "Name: MaritalStatus, dtype: int64\n",
      "Y    1676\n",
      "Name: Over18, dtype: int64\n",
      "No     1200\n",
      "Yes     476\n",
      "Name: OverTime, dtype: int64\n"
     ]
    }
   ],
   "source": [
    "for var in categorical: \n",
    "    \n",
    "    print(data[var].value_counts())"
   ]
  },
  {
   "cell_type": "markdown",
   "id": "f463b70a",
   "metadata": {
    "papermill": {
     "duration": 0.017759,
     "end_time": "2022-08-14T14:25:11.345427",
     "exception": false,
     "start_time": "2022-08-14T14:25:11.327668",
     "status": "completed"
    },
    "tags": []
   },
   "source": [
    "# Numerical"
   ]
  },
  {
   "cell_type": "code",
   "execution_count": 9,
   "id": "677eab61",
   "metadata": {
    "execution": {
     "iopub.execute_input": "2022-08-14T14:25:11.383616Z",
     "iopub.status.busy": "2022-08-14T14:25:11.382931Z",
     "iopub.status.idle": "2022-08-14T14:25:11.388966Z",
     "shell.execute_reply": "2022-08-14T14:25:11.387953Z"
    },
    "papermill": {
     "duration": 0.027589,
     "end_time": "2022-08-14T14:25:11.390953",
     "exception": false,
     "start_time": "2022-08-14T14:25:11.363364",
     "status": "completed"
    },
    "tags": []
   },
   "outputs": [
    {
     "name": "stdout",
     "output_type": "stream",
     "text": [
      "There are 25 numerical variables\n",
      "\n",
      "The numerical variables are : ['Age', 'DailyRate', 'DistanceFromHome', 'Education', 'EmployeeCount', 'EnvironmentSatisfaction', 'HourlyRate', 'JobInvolvement', 'JobLevel', 'JobSatisfaction', 'MonthlyIncome', 'MonthlyRate', 'NumCompaniesWorked', 'PercentSalaryHike', 'PerformanceRating', 'RelationshipSatisfaction', 'StandardHours', 'Shift', 'TotalWorkingYears', 'TrainingTimesLastYear', 'WorkLifeBalance', 'YearsAtCompany', 'YearsInCurrentRole', 'YearsSinceLastPromotion', 'YearsWithCurrManager']\n"
     ]
    }
   ],
   "source": [
    "numerical = [var for var in data.columns if data[var].dtype!='O']\n",
    "\n",
    "print('There are {} numerical variables\\n'.format(len(numerical)))\n",
    "\n",
    "print('The numerical variables are :', numerical)"
   ]
  },
  {
   "cell_type": "code",
   "execution_count": 10,
   "id": "f30c8c92",
   "metadata": {
    "execution": {
     "iopub.execute_input": "2022-08-14T14:25:11.428888Z",
     "iopub.status.busy": "2022-08-14T14:25:11.428251Z",
     "iopub.status.idle": "2022-08-14T14:25:11.445970Z",
     "shell.execute_reply": "2022-08-14T14:25:11.445136Z"
    },
    "papermill": {
     "duration": 0.039333,
     "end_time": "2022-08-14T14:25:11.448212",
     "exception": false,
     "start_time": "2022-08-14T14:25:11.408879",
     "status": "completed"
    },
    "tags": []
   },
   "outputs": [
    {
     "data": {
      "text/html": [
       "<div>\n",
       "<style scoped>\n",
       "    .dataframe tbody tr th:only-of-type {\n",
       "        vertical-align: middle;\n",
       "    }\n",
       "\n",
       "    .dataframe tbody tr th {\n",
       "        vertical-align: top;\n",
       "    }\n",
       "\n",
       "    .dataframe thead th {\n",
       "        text-align: right;\n",
       "    }\n",
       "</style>\n",
       "<table border=\"1\" class=\"dataframe\">\n",
       "  <thead>\n",
       "    <tr style=\"text-align: right;\">\n",
       "      <th></th>\n",
       "      <th>Age</th>\n",
       "      <th>DailyRate</th>\n",
       "      <th>DistanceFromHome</th>\n",
       "      <th>Education</th>\n",
       "      <th>EmployeeCount</th>\n",
       "      <th>EnvironmentSatisfaction</th>\n",
       "      <th>HourlyRate</th>\n",
       "      <th>JobInvolvement</th>\n",
       "      <th>JobLevel</th>\n",
       "      <th>JobSatisfaction</th>\n",
       "      <th>...</th>\n",
       "      <th>RelationshipSatisfaction</th>\n",
       "      <th>StandardHours</th>\n",
       "      <th>Shift</th>\n",
       "      <th>TotalWorkingYears</th>\n",
       "      <th>TrainingTimesLastYear</th>\n",
       "      <th>WorkLifeBalance</th>\n",
       "      <th>YearsAtCompany</th>\n",
       "      <th>YearsInCurrentRole</th>\n",
       "      <th>YearsSinceLastPromotion</th>\n",
       "      <th>YearsWithCurrManager</th>\n",
       "    </tr>\n",
       "  </thead>\n",
       "  <tbody>\n",
       "    <tr>\n",
       "      <th>0</th>\n",
       "      <td>41</td>\n",
       "      <td>1102</td>\n",
       "      <td>1</td>\n",
       "      <td>2</td>\n",
       "      <td>1</td>\n",
       "      <td>2</td>\n",
       "      <td>94</td>\n",
       "      <td>3</td>\n",
       "      <td>2</td>\n",
       "      <td>4</td>\n",
       "      <td>...</td>\n",
       "      <td>1</td>\n",
       "      <td>80</td>\n",
       "      <td>0</td>\n",
       "      <td>8</td>\n",
       "      <td>0</td>\n",
       "      <td>1</td>\n",
       "      <td>6</td>\n",
       "      <td>4</td>\n",
       "      <td>0</td>\n",
       "      <td>5</td>\n",
       "    </tr>\n",
       "    <tr>\n",
       "      <th>1</th>\n",
       "      <td>49</td>\n",
       "      <td>279</td>\n",
       "      <td>8</td>\n",
       "      <td>1</td>\n",
       "      <td>1</td>\n",
       "      <td>3</td>\n",
       "      <td>61</td>\n",
       "      <td>2</td>\n",
       "      <td>2</td>\n",
       "      <td>2</td>\n",
       "      <td>...</td>\n",
       "      <td>4</td>\n",
       "      <td>80</td>\n",
       "      <td>1</td>\n",
       "      <td>10</td>\n",
       "      <td>3</td>\n",
       "      <td>3</td>\n",
       "      <td>10</td>\n",
       "      <td>7</td>\n",
       "      <td>1</td>\n",
       "      <td>7</td>\n",
       "    </tr>\n",
       "    <tr>\n",
       "      <th>2</th>\n",
       "      <td>37</td>\n",
       "      <td>1373</td>\n",
       "      <td>2</td>\n",
       "      <td>2</td>\n",
       "      <td>1</td>\n",
       "      <td>4</td>\n",
       "      <td>92</td>\n",
       "      <td>2</td>\n",
       "      <td>1</td>\n",
       "      <td>3</td>\n",
       "      <td>...</td>\n",
       "      <td>2</td>\n",
       "      <td>80</td>\n",
       "      <td>0</td>\n",
       "      <td>7</td>\n",
       "      <td>3</td>\n",
       "      <td>3</td>\n",
       "      <td>0</td>\n",
       "      <td>0</td>\n",
       "      <td>0</td>\n",
       "      <td>0</td>\n",
       "    </tr>\n",
       "    <tr>\n",
       "      <th>3</th>\n",
       "      <td>33</td>\n",
       "      <td>1392</td>\n",
       "      <td>3</td>\n",
       "      <td>4</td>\n",
       "      <td>1</td>\n",
       "      <td>4</td>\n",
       "      <td>56</td>\n",
       "      <td>3</td>\n",
       "      <td>1</td>\n",
       "      <td>3</td>\n",
       "      <td>...</td>\n",
       "      <td>3</td>\n",
       "      <td>80</td>\n",
       "      <td>0</td>\n",
       "      <td>8</td>\n",
       "      <td>3</td>\n",
       "      <td>3</td>\n",
       "      <td>8</td>\n",
       "      <td>7</td>\n",
       "      <td>3</td>\n",
       "      <td>0</td>\n",
       "    </tr>\n",
       "    <tr>\n",
       "      <th>4</th>\n",
       "      <td>27</td>\n",
       "      <td>591</td>\n",
       "      <td>2</td>\n",
       "      <td>1</td>\n",
       "      <td>1</td>\n",
       "      <td>1</td>\n",
       "      <td>40</td>\n",
       "      <td>3</td>\n",
       "      <td>1</td>\n",
       "      <td>2</td>\n",
       "      <td>...</td>\n",
       "      <td>4</td>\n",
       "      <td>80</td>\n",
       "      <td>1</td>\n",
       "      <td>6</td>\n",
       "      <td>3</td>\n",
       "      <td>3</td>\n",
       "      <td>2</td>\n",
       "      <td>2</td>\n",
       "      <td>2</td>\n",
       "      <td>2</td>\n",
       "    </tr>\n",
       "  </tbody>\n",
       "</table>\n",
       "<p>5 rows × 25 columns</p>\n",
       "</div>"
      ],
      "text/plain": [
       "   Age  DailyRate  DistanceFromHome  Education  EmployeeCount  \\\n",
       "0   41       1102                 1          2              1   \n",
       "1   49        279                 8          1              1   \n",
       "2   37       1373                 2          2              1   \n",
       "3   33       1392                 3          4              1   \n",
       "4   27        591                 2          1              1   \n",
       "\n",
       "   EnvironmentSatisfaction  HourlyRate  JobInvolvement  JobLevel  \\\n",
       "0                        2          94               3         2   \n",
       "1                        3          61               2         2   \n",
       "2                        4          92               2         1   \n",
       "3                        4          56               3         1   \n",
       "4                        1          40               3         1   \n",
       "\n",
       "   JobSatisfaction  ...  RelationshipSatisfaction  StandardHours  Shift  \\\n",
       "0                4  ...                         1             80      0   \n",
       "1                2  ...                         4             80      1   \n",
       "2                3  ...                         2             80      0   \n",
       "3                3  ...                         3             80      0   \n",
       "4                2  ...                         4             80      1   \n",
       "\n",
       "   TotalWorkingYears  TrainingTimesLastYear  WorkLifeBalance  YearsAtCompany  \\\n",
       "0                  8                      0                1               6   \n",
       "1                 10                      3                3              10   \n",
       "2                  7                      3                3               0   \n",
       "3                  8                      3                3               8   \n",
       "4                  6                      3                3               2   \n",
       "\n",
       "   YearsInCurrentRole  YearsSinceLastPromotion  YearsWithCurrManager  \n",
       "0                   4                        0                     5  \n",
       "1                   7                        1                     7  \n",
       "2                   0                        0                     0  \n",
       "3                   7                        3                     0  \n",
       "4                   2                        2                     2  \n",
       "\n",
       "[5 rows x 25 columns]"
      ]
     },
     "execution_count": 10,
     "metadata": {},
     "output_type": "execute_result"
    }
   ],
   "source": [
    "data[numerical].head()"
   ]
  },
  {
   "cell_type": "code",
   "execution_count": 11,
   "id": "3a2de490",
   "metadata": {
    "execution": {
     "iopub.execute_input": "2022-08-14T14:25:11.487315Z",
     "iopub.status.busy": "2022-08-14T14:25:11.486876Z",
     "iopub.status.idle": "2022-08-14T14:25:11.565776Z",
     "shell.execute_reply": "2022-08-14T14:25:11.563877Z"
    },
    "papermill": {
     "duration": 0.101855,
     "end_time": "2022-08-14T14:25:11.568650",
     "exception": false,
     "start_time": "2022-08-14T14:25:11.466795",
     "status": "completed"
    },
    "tags": []
   },
   "outputs": [
    {
     "name": "stdout",
     "output_type": "stream",
     "text": [
      "          Age  DailyRate  DistanceFromHome  Education  EmployeeCount  \\\n",
      "count  1676.0     1676.0            1676.0     1676.0         1676.0   \n",
      "mean     37.0      801.0               9.0        3.0            1.0   \n",
      "std       9.0      402.0               8.0        1.0            0.0   \n",
      "min      18.0      102.0               1.0        1.0            1.0   \n",
      "25%      30.0      465.0               2.0        2.0            1.0   \n",
      "50%      36.0      796.0               7.0        3.0            1.0   \n",
      "75%      43.0     1157.0              14.0        4.0            1.0   \n",
      "max      60.0     1499.0              29.0        5.0            1.0   \n",
      "\n",
      "       EnvironmentSatisfaction  HourlyRate  JobInvolvement  JobLevel  \\\n",
      "count                   1676.0      1676.0          1676.0    1676.0   \n",
      "mean                       3.0        65.0             3.0       2.0   \n",
      "std                        1.0        20.0             1.0       1.0   \n",
      "min                        1.0        30.0             1.0       1.0   \n",
      "25%                        2.0        48.0             2.0       1.0   \n",
      "50%                        3.0        66.0             3.0       2.0   \n",
      "75%                        4.0        83.0             3.0       3.0   \n",
      "max                        4.0       100.0             4.0       5.0   \n",
      "\n",
      "       JobSatisfaction  ...  RelationshipSatisfaction  StandardHours   Shift  \\\n",
      "count           1676.0  ...                    1676.0         1676.0  1676.0   \n",
      "mean               3.0  ...                       3.0           80.0     1.0   \n",
      "std                1.0  ...                       1.0            0.0     1.0   \n",
      "min                1.0  ...                       1.0           80.0     0.0   \n",
      "25%                2.0  ...                       2.0           80.0     0.0   \n",
      "50%                3.0  ...                       3.0           80.0     1.0   \n",
      "75%                4.0  ...                       4.0           80.0     1.0   \n",
      "max                4.0  ...                       4.0           80.0     3.0   \n",
      "\n",
      "       TotalWorkingYears  TrainingTimesLastYear  WorkLifeBalance  \\\n",
      "count             1676.0                 1676.0           1676.0   \n",
      "mean                11.0                    3.0              3.0   \n",
      "std                  8.0                    1.0              1.0   \n",
      "min                  0.0                    0.0              1.0   \n",
      "25%                  6.0                    2.0              2.0   \n",
      "50%                 10.0                    3.0              3.0   \n",
      "75%                 15.0                    3.0              3.0   \n",
      "max                 40.0                    6.0              4.0   \n",
      "\n",
      "       YearsAtCompany  YearsInCurrentRole  YearsSinceLastPromotion  \\\n",
      "count          1676.0              1676.0                   1676.0   \n",
      "mean              7.0                 4.0                      2.0   \n",
      "std               6.0                 4.0                      3.0   \n",
      "min               0.0                 0.0                      0.0   \n",
      "25%               3.0                 2.0                      0.0   \n",
      "50%               5.0                 3.0                      1.0   \n",
      "75%              10.0                 7.0                      3.0   \n",
      "max              40.0                18.0                     15.0   \n",
      "\n",
      "       YearsWithCurrManager  \n",
      "count                1676.0  \n",
      "mean                    4.0  \n",
      "std                     4.0  \n",
      "min                     0.0  \n",
      "25%                     2.0  \n",
      "50%                     3.0  \n",
      "75%                     7.0  \n",
      "max                    17.0  \n",
      "\n",
      "[8 rows x 25 columns] 2\n"
     ]
    }
   ],
   "source": [
    "print(round(data[numerical].describe()),2)"
   ]
  },
  {
   "cell_type": "markdown",
   "id": "5ac0e8a6",
   "metadata": {
    "papermill": {
     "duration": 0.018425,
     "end_time": "2022-08-14T14:25:11.606164",
     "exception": false,
     "start_time": "2022-08-14T14:25:11.587739",
     "status": "completed"
    },
    "tags": []
   },
   "source": [
    "## Drop std = 0"
   ]
  },
  {
   "cell_type": "code",
   "execution_count": 12,
   "id": "731b6d04",
   "metadata": {
    "execution": {
     "iopub.execute_input": "2022-08-14T14:25:11.645469Z",
     "iopub.status.busy": "2022-08-14T14:25:11.644371Z",
     "iopub.status.idle": "2022-08-14T14:25:11.648926Z",
     "shell.execute_reply": "2022-08-14T14:25:11.648133Z"
    },
    "papermill": {
     "duration": 0.026584,
     "end_time": "2022-08-14T14:25:11.651280",
     "exception": false,
     "start_time": "2022-08-14T14:25:11.624696",
     "status": "completed"
    },
    "tags": []
   },
   "outputs": [],
   "source": [
    "threshold = 0.2"
   ]
  },
  {
   "cell_type": "code",
   "execution_count": 13,
   "id": "9c52c502",
   "metadata": {
    "execution": {
     "iopub.execute_input": "2022-08-14T14:25:11.691006Z",
     "iopub.status.busy": "2022-08-14T14:25:11.690158Z",
     "iopub.status.idle": "2022-08-14T14:25:11.707084Z",
     "shell.execute_reply": "2022-08-14T14:25:11.706058Z"
    },
    "papermill": {
     "duration": 0.039926,
     "end_time": "2022-08-14T14:25:11.709767",
     "exception": false,
     "start_time": "2022-08-14T14:25:11.669841",
     "status": "completed"
    },
    "tags": []
   },
   "outputs": [
    {
     "name": "stderr",
     "output_type": "stream",
     "text": [
      "/opt/conda/lib/python3.7/site-packages/ipykernel_launcher.py:1: FutureWarning: Dropping of nuisance columns in DataFrame reductions (with 'numeric_only=None') is deprecated; in a future version this will raise TypeError.  Select only valid columns before calling the reduction.\n",
      "  \"\"\"Entry point for launching an IPython kernel.\n"
     ]
    }
   ],
   "source": [
    "data = data.drop(data.std()[data.std() < threshold].index.values, axis=1)"
   ]
  },
  {
   "cell_type": "code",
   "execution_count": 14,
   "id": "50b2d9ba",
   "metadata": {
    "execution": {
     "iopub.execute_input": "2022-08-14T14:25:11.749929Z",
     "iopub.status.busy": "2022-08-14T14:25:11.749281Z",
     "iopub.status.idle": "2022-08-14T14:25:11.775788Z",
     "shell.execute_reply": "2022-08-14T14:25:11.774932Z"
    },
    "papermill": {
     "duration": 0.049065,
     "end_time": "2022-08-14T14:25:11.778067",
     "exception": false,
     "start_time": "2022-08-14T14:25:11.729002",
     "status": "completed"
    },
    "tags": []
   },
   "outputs": [
    {
     "data": {
      "text/html": [
       "<div>\n",
       "<style scoped>\n",
       "    .dataframe tbody tr th:only-of-type {\n",
       "        vertical-align: middle;\n",
       "    }\n",
       "\n",
       "    .dataframe tbody tr th {\n",
       "        vertical-align: top;\n",
       "    }\n",
       "\n",
       "    .dataframe thead th {\n",
       "        text-align: right;\n",
       "    }\n",
       "</style>\n",
       "<table border=\"1\" class=\"dataframe\">\n",
       "  <thead>\n",
       "    <tr style=\"text-align: right;\">\n",
       "      <th></th>\n",
       "      <th>Age</th>\n",
       "      <th>Attrition</th>\n",
       "      <th>BusinessTravel</th>\n",
       "      <th>DailyRate</th>\n",
       "      <th>Department</th>\n",
       "      <th>DistanceFromHome</th>\n",
       "      <th>Education</th>\n",
       "      <th>EducationField</th>\n",
       "      <th>EnvironmentSatisfaction</th>\n",
       "      <th>Gender</th>\n",
       "      <th>...</th>\n",
       "      <th>PerformanceRating</th>\n",
       "      <th>RelationshipSatisfaction</th>\n",
       "      <th>Shift</th>\n",
       "      <th>TotalWorkingYears</th>\n",
       "      <th>TrainingTimesLastYear</th>\n",
       "      <th>WorkLifeBalance</th>\n",
       "      <th>YearsAtCompany</th>\n",
       "      <th>YearsInCurrentRole</th>\n",
       "      <th>YearsSinceLastPromotion</th>\n",
       "      <th>YearsWithCurrManager</th>\n",
       "    </tr>\n",
       "  </thead>\n",
       "  <tbody>\n",
       "    <tr>\n",
       "      <th>0</th>\n",
       "      <td>41</td>\n",
       "      <td>No</td>\n",
       "      <td>Travel_Rarely</td>\n",
       "      <td>1102</td>\n",
       "      <td>Cardiology</td>\n",
       "      <td>1</td>\n",
       "      <td>2</td>\n",
       "      <td>Life Sciences</td>\n",
       "      <td>2</td>\n",
       "      <td>Female</td>\n",
       "      <td>...</td>\n",
       "      <td>3</td>\n",
       "      <td>1</td>\n",
       "      <td>0</td>\n",
       "      <td>8</td>\n",
       "      <td>0</td>\n",
       "      <td>1</td>\n",
       "      <td>6</td>\n",
       "      <td>4</td>\n",
       "      <td>0</td>\n",
       "      <td>5</td>\n",
       "    </tr>\n",
       "    <tr>\n",
       "      <th>1</th>\n",
       "      <td>49</td>\n",
       "      <td>No</td>\n",
       "      <td>Travel_Frequently</td>\n",
       "      <td>279</td>\n",
       "      <td>Maternity</td>\n",
       "      <td>8</td>\n",
       "      <td>1</td>\n",
       "      <td>Life Sciences</td>\n",
       "      <td>3</td>\n",
       "      <td>Male</td>\n",
       "      <td>...</td>\n",
       "      <td>4</td>\n",
       "      <td>4</td>\n",
       "      <td>1</td>\n",
       "      <td>10</td>\n",
       "      <td>3</td>\n",
       "      <td>3</td>\n",
       "      <td>10</td>\n",
       "      <td>7</td>\n",
       "      <td>1</td>\n",
       "      <td>7</td>\n",
       "    </tr>\n",
       "    <tr>\n",
       "      <th>2</th>\n",
       "      <td>37</td>\n",
       "      <td>Yes</td>\n",
       "      <td>Travel_Rarely</td>\n",
       "      <td>1373</td>\n",
       "      <td>Maternity</td>\n",
       "      <td>2</td>\n",
       "      <td>2</td>\n",
       "      <td>Other</td>\n",
       "      <td>4</td>\n",
       "      <td>Male</td>\n",
       "      <td>...</td>\n",
       "      <td>3</td>\n",
       "      <td>2</td>\n",
       "      <td>0</td>\n",
       "      <td>7</td>\n",
       "      <td>3</td>\n",
       "      <td>3</td>\n",
       "      <td>0</td>\n",
       "      <td>0</td>\n",
       "      <td>0</td>\n",
       "      <td>0</td>\n",
       "    </tr>\n",
       "    <tr>\n",
       "      <th>3</th>\n",
       "      <td>33</td>\n",
       "      <td>No</td>\n",
       "      <td>Travel_Frequently</td>\n",
       "      <td>1392</td>\n",
       "      <td>Maternity</td>\n",
       "      <td>3</td>\n",
       "      <td>4</td>\n",
       "      <td>Life Sciences</td>\n",
       "      <td>4</td>\n",
       "      <td>Female</td>\n",
       "      <td>...</td>\n",
       "      <td>3</td>\n",
       "      <td>3</td>\n",
       "      <td>0</td>\n",
       "      <td>8</td>\n",
       "      <td>3</td>\n",
       "      <td>3</td>\n",
       "      <td>8</td>\n",
       "      <td>7</td>\n",
       "      <td>3</td>\n",
       "      <td>0</td>\n",
       "    </tr>\n",
       "    <tr>\n",
       "      <th>4</th>\n",
       "      <td>27</td>\n",
       "      <td>No</td>\n",
       "      <td>Travel_Rarely</td>\n",
       "      <td>591</td>\n",
       "      <td>Maternity</td>\n",
       "      <td>2</td>\n",
       "      <td>1</td>\n",
       "      <td>Medical</td>\n",
       "      <td>1</td>\n",
       "      <td>Male</td>\n",
       "      <td>...</td>\n",
       "      <td>3</td>\n",
       "      <td>4</td>\n",
       "      <td>1</td>\n",
       "      <td>6</td>\n",
       "      <td>3</td>\n",
       "      <td>3</td>\n",
       "      <td>2</td>\n",
       "      <td>2</td>\n",
       "      <td>2</td>\n",
       "      <td>2</td>\n",
       "    </tr>\n",
       "    <tr>\n",
       "      <th>...</th>\n",
       "      <td>...</td>\n",
       "      <td>...</td>\n",
       "      <td>...</td>\n",
       "      <td>...</td>\n",
       "      <td>...</td>\n",
       "      <td>...</td>\n",
       "      <td>...</td>\n",
       "      <td>...</td>\n",
       "      <td>...</td>\n",
       "      <td>...</td>\n",
       "      <td>...</td>\n",
       "      <td>...</td>\n",
       "      <td>...</td>\n",
       "      <td>...</td>\n",
       "      <td>...</td>\n",
       "      <td>...</td>\n",
       "      <td>...</td>\n",
       "      <td>...</td>\n",
       "      <td>...</td>\n",
       "      <td>...</td>\n",
       "      <td>...</td>\n",
       "    </tr>\n",
       "    <tr>\n",
       "      <th>1671</th>\n",
       "      <td>26</td>\n",
       "      <td>Yes</td>\n",
       "      <td>Travel_Rarely</td>\n",
       "      <td>471</td>\n",
       "      <td>Neurology</td>\n",
       "      <td>24</td>\n",
       "      <td>3</td>\n",
       "      <td>Technical Degree</td>\n",
       "      <td>3</td>\n",
       "      <td>Male</td>\n",
       "      <td>...</td>\n",
       "      <td>3</td>\n",
       "      <td>2</td>\n",
       "      <td>0</td>\n",
       "      <td>1</td>\n",
       "      <td>3</td>\n",
       "      <td>1</td>\n",
       "      <td>1</td>\n",
       "      <td>0</td>\n",
       "      <td>0</td>\n",
       "      <td>0</td>\n",
       "    </tr>\n",
       "    <tr>\n",
       "      <th>1672</th>\n",
       "      <td>46</td>\n",
       "      <td>No</td>\n",
       "      <td>Travel_Rarely</td>\n",
       "      <td>1125</td>\n",
       "      <td>Cardiology</td>\n",
       "      <td>10</td>\n",
       "      <td>3</td>\n",
       "      <td>Marketing</td>\n",
       "      <td>3</td>\n",
       "      <td>Female</td>\n",
       "      <td>...</td>\n",
       "      <td>3</td>\n",
       "      <td>3</td>\n",
       "      <td>1</td>\n",
       "      <td>15</td>\n",
       "      <td>3</td>\n",
       "      <td>3</td>\n",
       "      <td>3</td>\n",
       "      <td>2</td>\n",
       "      <td>1</td>\n",
       "      <td>2</td>\n",
       "    </tr>\n",
       "    <tr>\n",
       "      <th>1673</th>\n",
       "      <td>20</td>\n",
       "      <td>No</td>\n",
       "      <td>Travel_Rarely</td>\n",
       "      <td>959</td>\n",
       "      <td>Maternity</td>\n",
       "      <td>1</td>\n",
       "      <td>3</td>\n",
       "      <td>Life Sciences</td>\n",
       "      <td>4</td>\n",
       "      <td>Female</td>\n",
       "      <td>...</td>\n",
       "      <td>3</td>\n",
       "      <td>4</td>\n",
       "      <td>0</td>\n",
       "      <td>1</td>\n",
       "      <td>0</td>\n",
       "      <td>4</td>\n",
       "      <td>1</td>\n",
       "      <td>0</td>\n",
       "      <td>0</td>\n",
       "      <td>0</td>\n",
       "    </tr>\n",
       "    <tr>\n",
       "      <th>1674</th>\n",
       "      <td>39</td>\n",
       "      <td>No</td>\n",
       "      <td>Travel_Rarely</td>\n",
       "      <td>466</td>\n",
       "      <td>Neurology</td>\n",
       "      <td>1</td>\n",
       "      <td>1</td>\n",
       "      <td>Life Sciences</td>\n",
       "      <td>4</td>\n",
       "      <td>Female</td>\n",
       "      <td>...</td>\n",
       "      <td>3</td>\n",
       "      <td>3</td>\n",
       "      <td>1</td>\n",
       "      <td>21</td>\n",
       "      <td>3</td>\n",
       "      <td>3</td>\n",
       "      <td>21</td>\n",
       "      <td>6</td>\n",
       "      <td>11</td>\n",
       "      <td>8</td>\n",
       "    </tr>\n",
       "    <tr>\n",
       "      <th>1675</th>\n",
       "      <td>27</td>\n",
       "      <td>No</td>\n",
       "      <td>Travel_Rarely</td>\n",
       "      <td>511</td>\n",
       "      <td>Cardiology</td>\n",
       "      <td>2</td>\n",
       "      <td>2</td>\n",
       "      <td>Medical</td>\n",
       "      <td>1</td>\n",
       "      <td>Female</td>\n",
       "      <td>...</td>\n",
       "      <td>3</td>\n",
       "      <td>2</td>\n",
       "      <td>0</td>\n",
       "      <td>9</td>\n",
       "      <td>5</td>\n",
       "      <td>2</td>\n",
       "      <td>8</td>\n",
       "      <td>7</td>\n",
       "      <td>0</td>\n",
       "      <td>7</td>\n",
       "    </tr>\n",
       "  </tbody>\n",
       "</table>\n",
       "<p>1676 rows × 32 columns</p>\n",
       "</div>"
      ],
      "text/plain": [
       "      Age Attrition     BusinessTravel  DailyRate  Department  \\\n",
       "0      41        No      Travel_Rarely       1102  Cardiology   \n",
       "1      49        No  Travel_Frequently        279   Maternity   \n",
       "2      37       Yes      Travel_Rarely       1373   Maternity   \n",
       "3      33        No  Travel_Frequently       1392   Maternity   \n",
       "4      27        No      Travel_Rarely        591   Maternity   \n",
       "...   ...       ...                ...        ...         ...   \n",
       "1671   26       Yes      Travel_Rarely        471   Neurology   \n",
       "1672   46        No      Travel_Rarely       1125  Cardiology   \n",
       "1673   20        No      Travel_Rarely        959   Maternity   \n",
       "1674   39        No      Travel_Rarely        466   Neurology   \n",
       "1675   27        No      Travel_Rarely        511  Cardiology   \n",
       "\n",
       "      DistanceFromHome  Education    EducationField  EnvironmentSatisfaction  \\\n",
       "0                    1          2     Life Sciences                        2   \n",
       "1                    8          1     Life Sciences                        3   \n",
       "2                    2          2             Other                        4   \n",
       "3                    3          4     Life Sciences                        4   \n",
       "4                    2          1           Medical                        1   \n",
       "...                ...        ...               ...                      ...   \n",
       "1671                24          3  Technical Degree                        3   \n",
       "1672                10          3         Marketing                        3   \n",
       "1673                 1          3     Life Sciences                        4   \n",
       "1674                 1          1     Life Sciences                        4   \n",
       "1675                 2          2           Medical                        1   \n",
       "\n",
       "      Gender  ...  PerformanceRating  RelationshipSatisfaction  Shift  \\\n",
       "0     Female  ...                  3                         1      0   \n",
       "1       Male  ...                  4                         4      1   \n",
       "2       Male  ...                  3                         2      0   \n",
       "3     Female  ...                  3                         3      0   \n",
       "4       Male  ...                  3                         4      1   \n",
       "...      ...  ...                ...                       ...    ...   \n",
       "1671    Male  ...                  3                         2      0   \n",
       "1672  Female  ...                  3                         3      1   \n",
       "1673  Female  ...                  3                         4      0   \n",
       "1674  Female  ...                  3                         3      1   \n",
       "1675  Female  ...                  3                         2      0   \n",
       "\n",
       "     TotalWorkingYears  TrainingTimesLastYear WorkLifeBalance  YearsAtCompany  \\\n",
       "0                    8                      0               1               6   \n",
       "1                   10                      3               3              10   \n",
       "2                    7                      3               3               0   \n",
       "3                    8                      3               3               8   \n",
       "4                    6                      3               3               2   \n",
       "...                ...                    ...             ...             ...   \n",
       "1671                 1                      3               1               1   \n",
       "1672                15                      3               3               3   \n",
       "1673                 1                      0               4               1   \n",
       "1674                21                      3               3              21   \n",
       "1675                 9                      5               2               8   \n",
       "\n",
       "      YearsInCurrentRole  YearsSinceLastPromotion YearsWithCurrManager  \n",
       "0                      4                        0                    5  \n",
       "1                      7                        1                    7  \n",
       "2                      0                        0                    0  \n",
       "3                      7                        3                    0  \n",
       "4                      2                        2                    2  \n",
       "...                  ...                      ...                  ...  \n",
       "1671                   0                        0                    0  \n",
       "1672                   2                        1                    2  \n",
       "1673                   0                        0                    0  \n",
       "1674                   6                       11                    8  \n",
       "1675                   7                        0                    7  \n",
       "\n",
       "[1676 rows x 32 columns]"
      ]
     },
     "execution_count": 14,
     "metadata": {},
     "output_type": "execute_result"
    }
   ],
   "source": [
    "data"
   ]
  },
  {
   "cell_type": "markdown",
   "id": "eda02007",
   "metadata": {
    "papermill": {
     "duration": 0.019155,
     "end_time": "2022-08-14T14:25:11.816764",
     "exception": false,
     "start_time": "2022-08-14T14:25:11.797609",
     "status": "completed"
    },
    "tags": []
   },
   "source": [
    "## Outliers?"
   ]
  },
  {
   "cell_type": "code",
   "execution_count": 15,
   "id": "bbe15df9",
   "metadata": {
    "execution": {
     "iopub.execute_input": "2022-08-14T14:25:11.857849Z",
     "iopub.status.busy": "2022-08-14T14:25:11.857108Z",
     "iopub.status.idle": "2022-08-14T14:25:12.164462Z",
     "shell.execute_reply": "2022-08-14T14:25:12.163057Z"
    },
    "papermill": {
     "duration": 0.330735,
     "end_time": "2022-08-14T14:25:12.167066",
     "exception": false,
     "start_time": "2022-08-14T14:25:11.836331",
     "status": "completed"
    },
    "tags": []
   },
   "outputs": [
    {
     "data": {
      "text/plain": [
       "Text(0, 0.5, 'HourlyRate')"
      ]
     },
     "execution_count": 15,
     "metadata": {},
     "output_type": "execute_result"
    },
    {
     "data": {
      "image/png": "[encoded data removed]",
      "text/plain": [
       "<Figure size 1080x720 with 2 Axes>"
      ]
     },
     "metadata": {
      "needs_background": "light"
     },
     "output_type": "display_data"
    }
   ],
   "source": [
    "\n",
    "plt.figure(figsize=(15,10))\n",
    "\n",
    "\n",
    "plt.subplot(2, 2, 1)\n",
    "fig = data.boxplot(column='DailyRate')\n",
    "fig.set_title('')\n",
    "fig.set_ylabel('DailyRate')\n",
    "\n",
    "\n",
    "plt.subplot(2, 2, 2)\n",
    "fig = data.boxplot(column='HourlyRate')\n",
    "fig.set_title('')\n",
    "fig.set_ylabel('HourlyRate')\n",
    "\n",
    "\n"
   ]
  },
  {
   "cell_type": "markdown",
   "id": "ce8f58d8",
   "metadata": {
    "papermill": {
     "duration": 0.019227,
     "end_time": "2022-08-14T14:25:12.206016",
     "exception": false,
     "start_time": "2022-08-14T14:25:12.186789",
     "status": "completed"
    },
    "tags": []
   },
   "source": [
    "# Get dummies"
   ]
  },
  {
   "cell_type": "code",
   "execution_count": 16,
   "id": "8b25a424",
   "metadata": {
    "execution": {
     "iopub.execute_input": "2022-08-14T14:25:12.247139Z",
     "iopub.status.busy": "2022-08-14T14:25:12.246715Z",
     "iopub.status.idle": "2022-08-14T14:25:12.252111Z",
     "shell.execute_reply": "2022-08-14T14:25:12.250880Z"
    },
    "papermill": {
     "duration": 0.028558,
     "end_time": "2022-08-14T14:25:12.254214",
     "exception": false,
     "start_time": "2022-08-14T14:25:12.225656",
     "status": "completed"
    },
    "tags": []
   },
   "outputs": [],
   "source": [
    "data0 = data.copy()"
   ]
  },
  {
   "cell_type": "code",
   "execution_count": 17,
   "id": "2ba07ae6",
   "metadata": {
    "execution": {
     "iopub.execute_input": "2022-08-14T14:25:12.295947Z",
     "iopub.status.busy": "2022-08-14T14:25:12.294956Z",
     "iopub.status.idle": "2022-08-14T14:25:12.312498Z",
     "shell.execute_reply": "2022-08-14T14:25:12.311314Z"
    },
    "papermill": {
     "duration": 0.040913,
     "end_time": "2022-08-14T14:25:12.314893",
     "exception": false,
     "start_time": "2022-08-14T14:25:12.273980",
     "status": "completed"
    },
    "tags": []
   },
   "outputs": [],
   "source": [
    "data0 = pd.get_dummies(data0, drop_first = True)"
   ]
  },
  {
   "cell_type": "code",
   "execution_count": 18,
   "id": "42c96a02",
   "metadata": {
    "execution": {
     "iopub.execute_input": "2022-08-14T14:25:12.356782Z",
     "iopub.status.busy": "2022-08-14T14:25:12.356120Z",
     "iopub.status.idle": "2022-08-14T14:25:12.378305Z",
     "shell.execute_reply": "2022-08-14T14:25:12.377299Z"
    },
    "papermill": {
     "duration": 0.045932,
     "end_time": "2022-08-14T14:25:12.380579",
     "exception": false,
     "start_time": "2022-08-14T14:25:12.334647",
     "status": "completed"
    },
    "tags": []
   },
   "outputs": [
    {
     "data": {
      "text/html": [
       "<div>\n",
       "<style scoped>\n",
       "    .dataframe tbody tr th:only-of-type {\n",
       "        vertical-align: middle;\n",
       "    }\n",
       "\n",
       "    .dataframe tbody tr th {\n",
       "        vertical-align: top;\n",
       "    }\n",
       "\n",
       "    .dataframe thead th {\n",
       "        text-align: right;\n",
       "    }\n",
       "</style>\n",
       "<table border=\"1\" class=\"dataframe\">\n",
       "  <thead>\n",
       "    <tr style=\"text-align: right;\">\n",
       "      <th></th>\n",
       "      <th>Age</th>\n",
       "      <th>DailyRate</th>\n",
       "      <th>DistanceFromHome</th>\n",
       "      <th>Education</th>\n",
       "      <th>EnvironmentSatisfaction</th>\n",
       "      <th>HourlyRate</th>\n",
       "      <th>JobInvolvement</th>\n",
       "      <th>JobLevel</th>\n",
       "      <th>JobSatisfaction</th>\n",
       "      <th>MonthlyIncome</th>\n",
       "      <th>...</th>\n",
       "      <th>EducationField_Other</th>\n",
       "      <th>EducationField_Technical Degree</th>\n",
       "      <th>Gender_Male</th>\n",
       "      <th>JobRole_Administrative</th>\n",
       "      <th>JobRole_Nurse</th>\n",
       "      <th>JobRole_Other</th>\n",
       "      <th>JobRole_Therapist</th>\n",
       "      <th>MaritalStatus_Married</th>\n",
       "      <th>MaritalStatus_Single</th>\n",
       "      <th>OverTime_Yes</th>\n",
       "    </tr>\n",
       "  </thead>\n",
       "  <tbody>\n",
       "    <tr>\n",
       "      <th>0</th>\n",
       "      <td>41</td>\n",
       "      <td>1102</td>\n",
       "      <td>1</td>\n",
       "      <td>2</td>\n",
       "      <td>2</td>\n",
       "      <td>94</td>\n",
       "      <td>3</td>\n",
       "      <td>2</td>\n",
       "      <td>4</td>\n",
       "      <td>5993</td>\n",
       "      <td>...</td>\n",
       "      <td>0</td>\n",
       "      <td>0</td>\n",
       "      <td>0</td>\n",
       "      <td>0</td>\n",
       "      <td>1</td>\n",
       "      <td>0</td>\n",
       "      <td>0</td>\n",
       "      <td>0</td>\n",
       "      <td>1</td>\n",
       "      <td>1</td>\n",
       "    </tr>\n",
       "    <tr>\n",
       "      <th>1</th>\n",
       "      <td>49</td>\n",
       "      <td>279</td>\n",
       "      <td>8</td>\n",
       "      <td>1</td>\n",
       "      <td>3</td>\n",
       "      <td>61</td>\n",
       "      <td>2</td>\n",
       "      <td>2</td>\n",
       "      <td>2</td>\n",
       "      <td>5130</td>\n",
       "      <td>...</td>\n",
       "      <td>0</td>\n",
       "      <td>0</td>\n",
       "      <td>1</td>\n",
       "      <td>0</td>\n",
       "      <td>0</td>\n",
       "      <td>1</td>\n",
       "      <td>0</td>\n",
       "      <td>1</td>\n",
       "      <td>0</td>\n",
       "      <td>0</td>\n",
       "    </tr>\n",
       "    <tr>\n",
       "      <th>2</th>\n",
       "      <td>37</td>\n",
       "      <td>1373</td>\n",
       "      <td>2</td>\n",
       "      <td>2</td>\n",
       "      <td>4</td>\n",
       "      <td>92</td>\n",
       "      <td>2</td>\n",
       "      <td>1</td>\n",
       "      <td>3</td>\n",
       "      <td>2090</td>\n",
       "      <td>...</td>\n",
       "      <td>1</td>\n",
       "      <td>0</td>\n",
       "      <td>1</td>\n",
       "      <td>0</td>\n",
       "      <td>1</td>\n",
       "      <td>0</td>\n",
       "      <td>0</td>\n",
       "      <td>0</td>\n",
       "      <td>1</td>\n",
       "      <td>1</td>\n",
       "    </tr>\n",
       "    <tr>\n",
       "      <th>3</th>\n",
       "      <td>33</td>\n",
       "      <td>1392</td>\n",
       "      <td>3</td>\n",
       "      <td>4</td>\n",
       "      <td>4</td>\n",
       "      <td>56</td>\n",
       "      <td>3</td>\n",
       "      <td>1</td>\n",
       "      <td>3</td>\n",
       "      <td>2909</td>\n",
       "      <td>...</td>\n",
       "      <td>0</td>\n",
       "      <td>0</td>\n",
       "      <td>0</td>\n",
       "      <td>0</td>\n",
       "      <td>0</td>\n",
       "      <td>1</td>\n",
       "      <td>0</td>\n",
       "      <td>1</td>\n",
       "      <td>0</td>\n",
       "      <td>1</td>\n",
       "    </tr>\n",
       "    <tr>\n",
       "      <th>4</th>\n",
       "      <td>27</td>\n",
       "      <td>591</td>\n",
       "      <td>2</td>\n",
       "      <td>1</td>\n",
       "      <td>1</td>\n",
       "      <td>40</td>\n",
       "      <td>3</td>\n",
       "      <td>1</td>\n",
       "      <td>2</td>\n",
       "      <td>3468</td>\n",
       "      <td>...</td>\n",
       "      <td>0</td>\n",
       "      <td>0</td>\n",
       "      <td>1</td>\n",
       "      <td>0</td>\n",
       "      <td>1</td>\n",
       "      <td>0</td>\n",
       "      <td>0</td>\n",
       "      <td>1</td>\n",
       "      <td>0</td>\n",
       "      <td>0</td>\n",
       "    </tr>\n",
       "    <tr>\n",
       "      <th>...</th>\n",
       "      <td>...</td>\n",
       "      <td>...</td>\n",
       "      <td>...</td>\n",
       "      <td>...</td>\n",
       "      <td>...</td>\n",
       "      <td>...</td>\n",
       "      <td>...</td>\n",
       "      <td>...</td>\n",
       "      <td>...</td>\n",
       "      <td>...</td>\n",
       "      <td>...</td>\n",
       "      <td>...</td>\n",
       "      <td>...</td>\n",
       "      <td>...</td>\n",
       "      <td>...</td>\n",
       "      <td>...</td>\n",
       "      <td>...</td>\n",
       "      <td>...</td>\n",
       "      <td>...</td>\n",
       "      <td>...</td>\n",
       "      <td>...</td>\n",
       "    </tr>\n",
       "    <tr>\n",
       "      <th>1671</th>\n",
       "      <td>26</td>\n",
       "      <td>471</td>\n",
       "      <td>24</td>\n",
       "      <td>3</td>\n",
       "      <td>3</td>\n",
       "      <td>66</td>\n",
       "      <td>1</td>\n",
       "      <td>1</td>\n",
       "      <td>4</td>\n",
       "      <td>2340</td>\n",
       "      <td>...</td>\n",
       "      <td>0</td>\n",
       "      <td>1</td>\n",
       "      <td>1</td>\n",
       "      <td>0</td>\n",
       "      <td>1</td>\n",
       "      <td>0</td>\n",
       "      <td>0</td>\n",
       "      <td>0</td>\n",
       "      <td>1</td>\n",
       "      <td>1</td>\n",
       "    </tr>\n",
       "    <tr>\n",
       "      <th>1672</th>\n",
       "      <td>46</td>\n",
       "      <td>1125</td>\n",
       "      <td>10</td>\n",
       "      <td>3</td>\n",
       "      <td>3</td>\n",
       "      <td>94</td>\n",
       "      <td>2</td>\n",
       "      <td>3</td>\n",
       "      <td>4</td>\n",
       "      <td>9071</td>\n",
       "      <td>...</td>\n",
       "      <td>0</td>\n",
       "      <td>0</td>\n",
       "      <td>0</td>\n",
       "      <td>0</td>\n",
       "      <td>1</td>\n",
       "      <td>0</td>\n",
       "      <td>0</td>\n",
       "      <td>1</td>\n",
       "      <td>0</td>\n",
       "      <td>1</td>\n",
       "    </tr>\n",
       "    <tr>\n",
       "      <th>1673</th>\n",
       "      <td>20</td>\n",
       "      <td>959</td>\n",
       "      <td>1</td>\n",
       "      <td>3</td>\n",
       "      <td>4</td>\n",
       "      <td>83</td>\n",
       "      <td>2</td>\n",
       "      <td>1</td>\n",
       "      <td>2</td>\n",
       "      <td>2836</td>\n",
       "      <td>...</td>\n",
       "      <td>0</td>\n",
       "      <td>0</td>\n",
       "      <td>0</td>\n",
       "      <td>0</td>\n",
       "      <td>0</td>\n",
       "      <td>1</td>\n",
       "      <td>0</td>\n",
       "      <td>0</td>\n",
       "      <td>1</td>\n",
       "      <td>0</td>\n",
       "    </tr>\n",
       "    <tr>\n",
       "      <th>1674</th>\n",
       "      <td>39</td>\n",
       "      <td>466</td>\n",
       "      <td>1</td>\n",
       "      <td>1</td>\n",
       "      <td>4</td>\n",
       "      <td>65</td>\n",
       "      <td>2</td>\n",
       "      <td>4</td>\n",
       "      <td>4</td>\n",
       "      <td>12742</td>\n",
       "      <td>...</td>\n",
       "      <td>0</td>\n",
       "      <td>0</td>\n",
       "      <td>0</td>\n",
       "      <td>0</td>\n",
       "      <td>0</td>\n",
       "      <td>0</td>\n",
       "      <td>1</td>\n",
       "      <td>1</td>\n",
       "      <td>0</td>\n",
       "      <td>0</td>\n",
       "    </tr>\n",
       "    <tr>\n",
       "      <th>1675</th>\n",
       "      <td>27</td>\n",
       "      <td>511</td>\n",
       "      <td>2</td>\n",
       "      <td>2</td>\n",
       "      <td>1</td>\n",
       "      <td>89</td>\n",
       "      <td>4</td>\n",
       "      <td>2</td>\n",
       "      <td>3</td>\n",
       "      <td>6500</td>\n",
       "      <td>...</td>\n",
       "      <td>0</td>\n",
       "      <td>0</td>\n",
       "      <td>0</td>\n",
       "      <td>0</td>\n",
       "      <td>1</td>\n",
       "      <td>0</td>\n",
       "      <td>0</td>\n",
       "      <td>0</td>\n",
       "      <td>1</td>\n",
       "      <td>0</td>\n",
       "    </tr>\n",
       "  </tbody>\n",
       "</table>\n",
       "<p>1676 rows × 41 columns</p>\n",
       "</div>"
      ],
      "text/plain": [
       "      Age  DailyRate  DistanceFromHome  Education  EnvironmentSatisfaction  \\\n",
       "0      41       1102                 1          2                        2   \n",
       "1      49        279                 8          1                        3   \n",
       "2      37       1373                 2          2                        4   \n",
       "3      33       1392                 3          4                        4   \n",
       "4      27        591                 2          1                        1   \n",
       "...   ...        ...               ...        ...                      ...   \n",
       "1671   26        471                24          3                        3   \n",
       "1672   46       1125                10          3                        3   \n",
       "1673   20        959                 1          3                        4   \n",
       "1674   39        466                 1          1                        4   \n",
       "1675   27        511                 2          2                        1   \n",
       "\n",
       "      HourlyRate  JobInvolvement  JobLevel  JobSatisfaction  MonthlyIncome  \\\n",
       "0             94               3         2                4           5993   \n",
       "1             61               2         2                2           5130   \n",
       "2             92               2         1                3           2090   \n",
       "3             56               3         1                3           2909   \n",
       "4             40               3         1                2           3468   \n",
       "...          ...             ...       ...              ...            ...   \n",
       "1671          66               1         1                4           2340   \n",
       "1672          94               2         3                4           9071   \n",
       "1673          83               2         1                2           2836   \n",
       "1674          65               2         4                4          12742   \n",
       "1675          89               4         2                3           6500   \n",
       "\n",
       "      ...  EducationField_Other  EducationField_Technical Degree  Gender_Male  \\\n",
       "0     ...                     0                                0            0   \n",
       "1     ...                     0                                0            1   \n",
       "2     ...                     1                                0            1   \n",
       "3     ...                     0                                0            0   \n",
       "4     ...                     0                                0            1   \n",
       "...   ...                   ...                              ...          ...   \n",
       "1671  ...                     0                                1            1   \n",
       "1672  ...                     0                                0            0   \n",
       "1673  ...                     0                                0            0   \n",
       "1674  ...                     0                                0            0   \n",
       "1675  ...                     0                                0            0   \n",
       "\n",
       "      JobRole_Administrative  JobRole_Nurse  JobRole_Other  JobRole_Therapist  \\\n",
       "0                          0              1              0                  0   \n",
       "1                          0              0              1                  0   \n",
       "2                          0              1              0                  0   \n",
       "3                          0              0              1                  0   \n",
       "4                          0              1              0                  0   \n",
       "...                      ...            ...            ...                ...   \n",
       "1671                       0              1              0                  0   \n",
       "1672                       0              1              0                  0   \n",
       "1673                       0              0              1                  0   \n",
       "1674                       0              0              0                  1   \n",
       "1675                       0              1              0                  0   \n",
       "\n",
       "      MaritalStatus_Married  MaritalStatus_Single  OverTime_Yes  \n",
       "0                         0                     1             1  \n",
       "1                         1                     0             0  \n",
       "2                         0                     1             1  \n",
       "3                         1                     0             1  \n",
       "4                         1                     0             0  \n",
       "...                     ...                   ...           ...  \n",
       "1671                      0                     1             1  \n",
       "1672                      1                     0             1  \n",
       "1673                      0                     1             0  \n",
       "1674                      1                     0             0  \n",
       "1675                      0                     1             0  \n",
       "\n",
       "[1676 rows x 41 columns]"
      ]
     },
     "execution_count": 18,
     "metadata": {},
     "output_type": "execute_result"
    }
   ],
   "source": [
    "data0"
   ]
  },
  {
   "cell_type": "code",
   "execution_count": 19,
   "id": "7839e9ae",
   "metadata": {
    "execution": {
     "iopub.execute_input": "2022-08-14T14:25:12.423299Z",
     "iopub.status.busy": "2022-08-14T14:25:12.422790Z",
     "iopub.status.idle": "2022-08-14T14:25:12.439416Z",
     "shell.execute_reply": "2022-08-14T14:25:12.438454Z"
    },
    "papermill": {
     "duration": 0.041547,
     "end_time": "2022-08-14T14:25:12.442438",
     "exception": false,
     "start_time": "2022-08-14T14:25:12.400891",
     "status": "completed"
    },
    "tags": []
   },
   "outputs": [
    {
     "name": "stdout",
     "output_type": "stream",
     "text": [
      "<class 'pandas.core.frame.DataFrame'>\n",
      "RangeIndex: 1676 entries, 0 to 1675\n",
      "Data columns (total 41 columns):\n",
      " #   Column                            Non-Null Count  Dtype\n",
      "---  ------                            --------------  -----\n",
      " 0   Age                               1676 non-null   int64\n",
      " 1   DailyRate                         1676 non-null   int64\n",
      " 2   DistanceFromHome                  1676 non-null   int64\n",
      " 3   Education                         1676 non-null   int64\n",
      " 4   EnvironmentSatisfaction           1676 non-null   int64\n",
      " 5   HourlyRate                        1676 non-null   int64\n",
      " 6   JobInvolvement                    1676 non-null   int64\n",
      " 7   JobLevel                          1676 non-null   int64\n",
      " 8   JobSatisfaction                   1676 non-null   int64\n",
      " 9   MonthlyIncome                     1676 non-null   int64\n",
      " 10  MonthlyRate                       1676 non-null   int64\n",
      " 11  NumCompaniesWorked                1676 non-null   int64\n",
      " 12  PercentSalaryHike                 1676 non-null   int64\n",
      " 13  PerformanceRating                 1676 non-null   int64\n",
      " 14  RelationshipSatisfaction          1676 non-null   int64\n",
      " 15  Shift                             1676 non-null   int64\n",
      " 16  TotalWorkingYears                 1676 non-null   int64\n",
      " 17  TrainingTimesLastYear             1676 non-null   int64\n",
      " 18  WorkLifeBalance                   1676 non-null   int64\n",
      " 19  YearsAtCompany                    1676 non-null   int64\n",
      " 20  YearsInCurrentRole                1676 non-null   int64\n",
      " 21  YearsSinceLastPromotion           1676 non-null   int64\n",
      " 22  YearsWithCurrManager              1676 non-null   int64\n",
      " 23  Attrition_Yes                     1676 non-null   uint8\n",
      " 24  BusinessTravel_Travel_Frequently  1676 non-null   uint8\n",
      " 25  BusinessTravel_Travel_Rarely      1676 non-null   uint8\n",
      " 26  Department_Maternity              1676 non-null   uint8\n",
      " 27  Department_Neurology              1676 non-null   uint8\n",
      " 28  EducationField_Life Sciences      1676 non-null   uint8\n",
      " 29  EducationField_Marketing          1676 non-null   uint8\n",
      " 30  EducationField_Medical            1676 non-null   uint8\n",
      " 31  EducationField_Other              1676 non-null   uint8\n",
      " 32  EducationField_Technical Degree   1676 non-null   uint8\n",
      " 33  Gender_Male                       1676 non-null   uint8\n",
      " 34  JobRole_Administrative            1676 non-null   uint8\n",
      " 35  JobRole_Nurse                     1676 non-null   uint8\n",
      " 36  JobRole_Other                     1676 non-null   uint8\n",
      " 37  JobRole_Therapist                 1676 non-null   uint8\n",
      " 38  MaritalStatus_Married             1676 non-null   uint8\n",
      " 39  MaritalStatus_Single              1676 non-null   uint8\n",
      " 40  OverTime_Yes                      1676 non-null   uint8\n",
      "dtypes: int64(23), uint8(18)\n",
      "memory usage: 330.7 KB\n"
     ]
    }
   ],
   "source": [
    "data0.info()"
   ]
  },
  {
   "cell_type": "code",
   "execution_count": 20,
   "id": "fea385b7",
   "metadata": {
    "execution": {
     "iopub.execute_input": "2022-08-14T14:25:12.486994Z",
     "iopub.status.busy": "2022-08-14T14:25:12.486228Z",
     "iopub.status.idle": "2022-08-14T14:25:12.595799Z",
     "shell.execute_reply": "2022-08-14T14:25:12.594837Z"
    },
    "papermill": {
     "duration": 0.134339,
     "end_time": "2022-08-14T14:25:12.598630",
     "exception": false,
     "start_time": "2022-08-14T14:25:12.464291",
     "status": "completed"
    },
    "tags": []
   },
   "outputs": [
    {
     "data": {
      "text/html": [
       "<div>\n",
       "<style scoped>\n",
       "    .dataframe tbody tr th:only-of-type {\n",
       "        vertical-align: middle;\n",
       "    }\n",
       "\n",
       "    .dataframe tbody tr th {\n",
       "        vertical-align: top;\n",
       "    }\n",
       "\n",
       "    .dataframe thead th {\n",
       "        text-align: right;\n",
       "    }\n",
       "</style>\n",
       "<table border=\"1\" class=\"dataframe\">\n",
       "  <thead>\n",
       "    <tr style=\"text-align: right;\">\n",
       "      <th></th>\n",
       "      <th>Age</th>\n",
       "      <th>DailyRate</th>\n",
       "      <th>DistanceFromHome</th>\n",
       "      <th>Education</th>\n",
       "      <th>EnvironmentSatisfaction</th>\n",
       "      <th>HourlyRate</th>\n",
       "      <th>JobInvolvement</th>\n",
       "      <th>JobLevel</th>\n",
       "      <th>JobSatisfaction</th>\n",
       "      <th>MonthlyIncome</th>\n",
       "      <th>...</th>\n",
       "      <th>EducationField_Other</th>\n",
       "      <th>EducationField_Technical Degree</th>\n",
       "      <th>Gender_Male</th>\n",
       "      <th>JobRole_Administrative</th>\n",
       "      <th>JobRole_Nurse</th>\n",
       "      <th>JobRole_Other</th>\n",
       "      <th>JobRole_Therapist</th>\n",
       "      <th>MaritalStatus_Married</th>\n",
       "      <th>MaritalStatus_Single</th>\n",
       "      <th>OverTime_Yes</th>\n",
       "    </tr>\n",
       "  </thead>\n",
       "  <tbody>\n",
       "    <tr>\n",
       "      <th>count</th>\n",
       "      <td>1676.000000</td>\n",
       "      <td>1676.000000</td>\n",
       "      <td>1676.000000</td>\n",
       "      <td>1676.000000</td>\n",
       "      <td>1676.000000</td>\n",
       "      <td>1676.000000</td>\n",
       "      <td>1676.000000</td>\n",
       "      <td>1676.000000</td>\n",
       "      <td>1676.000000</td>\n",
       "      <td>1676.000000</td>\n",
       "      <td>...</td>\n",
       "      <td>1676.000000</td>\n",
       "      <td>1676.000000</td>\n",
       "      <td>1676.000000</td>\n",
       "      <td>1676.000000</td>\n",
       "      <td>1676.000000</td>\n",
       "      <td>1676.000000</td>\n",
       "      <td>1676.000000</td>\n",
       "      <td>1676.000000</td>\n",
       "      <td>1676.000000</td>\n",
       "      <td>1676.000000</td>\n",
       "    </tr>\n",
       "    <tr>\n",
       "      <th>mean</th>\n",
       "      <td>36.866348</td>\n",
       "      <td>800.557876</td>\n",
       "      <td>9.221957</td>\n",
       "      <td>2.907518</td>\n",
       "      <td>2.714797</td>\n",
       "      <td>65.470167</td>\n",
       "      <td>2.724940</td>\n",
       "      <td>2.066826</td>\n",
       "      <td>2.738663</td>\n",
       "      <td>6516.512530</td>\n",
       "      <td>...</td>\n",
       "      <td>0.052506</td>\n",
       "      <td>0.088902</td>\n",
       "      <td>0.595465</td>\n",
       "      <td>0.068616</td>\n",
       "      <td>0.490453</td>\n",
       "      <td>0.318616</td>\n",
       "      <td>0.112768</td>\n",
       "      <td>0.463604</td>\n",
       "      <td>0.311456</td>\n",
       "      <td>0.284010</td>\n",
       "    </tr>\n",
       "    <tr>\n",
       "      <th>std</th>\n",
       "      <td>9.129126</td>\n",
       "      <td>401.594438</td>\n",
       "      <td>8.158118</td>\n",
       "      <td>1.025835</td>\n",
       "      <td>1.097534</td>\n",
       "      <td>20.207572</td>\n",
       "      <td>0.714121</td>\n",
       "      <td>1.113423</td>\n",
       "      <td>1.104005</td>\n",
       "      <td>4728.456618</td>\n",
       "      <td>...</td>\n",
       "      <td>0.223112</td>\n",
       "      <td>0.284687</td>\n",
       "      <td>0.490948</td>\n",
       "      <td>0.252875</td>\n",
       "      <td>0.500058</td>\n",
       "      <td>0.466079</td>\n",
       "      <td>0.316404</td>\n",
       "      <td>0.498822</td>\n",
       "      <td>0.463227</td>\n",
       "      <td>0.451076</td>\n",
       "    </tr>\n",
       "    <tr>\n",
       "      <th>min</th>\n",
       "      <td>18.000000</td>\n",
       "      <td>102.000000</td>\n",
       "      <td>1.000000</td>\n",
       "      <td>1.000000</td>\n",
       "      <td>1.000000</td>\n",
       "      <td>30.000000</td>\n",
       "      <td>1.000000</td>\n",
       "      <td>1.000000</td>\n",
       "      <td>1.000000</td>\n",
       "      <td>1009.000000</td>\n",
       "      <td>...</td>\n",
       "      <td>0.000000</td>\n",
       "      <td>0.000000</td>\n",
       "      <td>0.000000</td>\n",
       "      <td>0.000000</td>\n",
       "      <td>0.000000</td>\n",
       "      <td>0.000000</td>\n",
       "      <td>0.000000</td>\n",
       "      <td>0.000000</td>\n",
       "      <td>0.000000</td>\n",
       "      <td>0.000000</td>\n",
       "    </tr>\n",
       "    <tr>\n",
       "      <th>25%</th>\n",
       "      <td>30.000000</td>\n",
       "      <td>465.000000</td>\n",
       "      <td>2.000000</td>\n",
       "      <td>2.000000</td>\n",
       "      <td>2.000000</td>\n",
       "      <td>48.000000</td>\n",
       "      <td>2.000000</td>\n",
       "      <td>1.000000</td>\n",
       "      <td>2.000000</td>\n",
       "      <td>2928.250000</td>\n",
       "      <td>...</td>\n",
       "      <td>0.000000</td>\n",
       "      <td>0.000000</td>\n",
       "      <td>0.000000</td>\n",
       "      <td>0.000000</td>\n",
       "      <td>0.000000</td>\n",
       "      <td>0.000000</td>\n",
       "      <td>0.000000</td>\n",
       "      <td>0.000000</td>\n",
       "      <td>0.000000</td>\n",
       "      <td>0.000000</td>\n",
       "    </tr>\n",
       "    <tr>\n",
       "      <th>50%</th>\n",
       "      <td>36.000000</td>\n",
       "      <td>796.500000</td>\n",
       "      <td>7.000000</td>\n",
       "      <td>3.000000</td>\n",
       "      <td>3.000000</td>\n",
       "      <td>65.500000</td>\n",
       "      <td>3.000000</td>\n",
       "      <td>2.000000</td>\n",
       "      <td>3.000000</td>\n",
       "      <td>4899.000000</td>\n",
       "      <td>...</td>\n",
       "      <td>0.000000</td>\n",
       "      <td>0.000000</td>\n",
       "      <td>1.000000</td>\n",
       "      <td>0.000000</td>\n",
       "      <td>0.000000</td>\n",
       "      <td>0.000000</td>\n",
       "      <td>0.000000</td>\n",
       "      <td>0.000000</td>\n",
       "      <td>0.000000</td>\n",
       "      <td>0.000000</td>\n",
       "    </tr>\n",
       "    <tr>\n",
       "      <th>75%</th>\n",
       "      <td>43.000000</td>\n",
       "      <td>1157.000000</td>\n",
       "      <td>14.000000</td>\n",
       "      <td>4.000000</td>\n",
       "      <td>4.000000</td>\n",
       "      <td>83.000000</td>\n",
       "      <td>3.000000</td>\n",
       "      <td>3.000000</td>\n",
       "      <td>4.000000</td>\n",
       "      <td>8380.250000</td>\n",
       "      <td>...</td>\n",
       "      <td>0.000000</td>\n",
       "      <td>0.000000</td>\n",
       "      <td>1.000000</td>\n",
       "      <td>0.000000</td>\n",
       "      <td>1.000000</td>\n",
       "      <td>1.000000</td>\n",
       "      <td>0.000000</td>\n",
       "      <td>1.000000</td>\n",
       "      <td>1.000000</td>\n",
       "      <td>1.000000</td>\n",
       "    </tr>\n",
       "    <tr>\n",
       "      <th>max</th>\n",
       "      <td>60.000000</td>\n",
       "      <td>1499.000000</td>\n",
       "      <td>29.000000</td>\n",
       "      <td>5.000000</td>\n",
       "      <td>4.000000</td>\n",
       "      <td>100.000000</td>\n",
       "      <td>4.000000</td>\n",
       "      <td>5.000000</td>\n",
       "      <td>4.000000</td>\n",
       "      <td>19999.000000</td>\n",
       "      <td>...</td>\n",
       "      <td>1.000000</td>\n",
       "      <td>1.000000</td>\n",
       "      <td>1.000000</td>\n",
       "      <td>1.000000</td>\n",
       "      <td>1.000000</td>\n",
       "      <td>1.000000</td>\n",
       "      <td>1.000000</td>\n",
       "      <td>1.000000</td>\n",
       "      <td>1.000000</td>\n",
       "      <td>1.000000</td>\n",
       "    </tr>\n",
       "  </tbody>\n",
       "</table>\n",
       "<p>8 rows × 41 columns</p>\n",
       "</div>"
      ],
      "text/plain": [
       "               Age    DailyRate  DistanceFromHome    Education  \\\n",
       "count  1676.000000  1676.000000       1676.000000  1676.000000   \n",
       "mean     36.866348   800.557876          9.221957     2.907518   \n",
       "std       9.129126   401.594438          8.158118     1.025835   \n",
       "min      18.000000   102.000000          1.000000     1.000000   \n",
       "25%      30.000000   465.000000          2.000000     2.000000   \n",
       "50%      36.000000   796.500000          7.000000     3.000000   \n",
       "75%      43.000000  1157.000000         14.000000     4.000000   \n",
       "max      60.000000  1499.000000         29.000000     5.000000   \n",
       "\n",
       "       EnvironmentSatisfaction   HourlyRate  JobInvolvement     JobLevel  \\\n",
       "count              1676.000000  1676.000000     1676.000000  1676.000000   \n",
       "mean                  2.714797    65.470167        2.724940     2.066826   \n",
       "std                   1.097534    20.207572        0.714121     1.113423   \n",
       "min                   1.000000    30.000000        1.000000     1.000000   \n",
       "25%                   2.000000    48.000000        2.000000     1.000000   \n",
       "50%                   3.000000    65.500000        3.000000     2.000000   \n",
       "75%                   4.000000    83.000000        3.000000     3.000000   \n",
       "max                   4.000000   100.000000        4.000000     5.000000   \n",
       "\n",
       "       JobSatisfaction  MonthlyIncome  ...  EducationField_Other  \\\n",
       "count      1676.000000    1676.000000  ...           1676.000000   \n",
       "mean          2.738663    6516.512530  ...              0.052506   \n",
       "std           1.104005    4728.456618  ...              0.223112   \n",
       "min           1.000000    1009.000000  ...              0.000000   \n",
       "25%           2.000000    2928.250000  ...              0.000000   \n",
       "50%           3.000000    4899.000000  ...              0.000000   \n",
       "75%           4.000000    8380.250000  ...              0.000000   \n",
       "max           4.000000   19999.000000  ...              1.000000   \n",
       "\n",
       "       EducationField_Technical Degree  Gender_Male  JobRole_Administrative  \\\n",
       "count                      1676.000000  1676.000000             1676.000000   \n",
       "mean                          0.088902     0.595465                0.068616   \n",
       "std                           0.284687     0.490948                0.252875   \n",
       "min                           0.000000     0.000000                0.000000   \n",
       "25%                           0.000000     0.000000                0.000000   \n",
       "50%                           0.000000     1.000000                0.000000   \n",
       "75%                           0.000000     1.000000                0.000000   \n",
       "max                           1.000000     1.000000                1.000000   \n",
       "\n",
       "       JobRole_Nurse  JobRole_Other  JobRole_Therapist  MaritalStatus_Married  \\\n",
       "count    1676.000000    1676.000000        1676.000000            1676.000000   \n",
       "mean        0.490453       0.318616           0.112768               0.463604   \n",
       "std         0.500058       0.466079           0.316404               0.498822   \n",
       "min         0.000000       0.000000           0.000000               0.000000   \n",
       "25%         0.000000       0.000000           0.000000               0.000000   \n",
       "50%         0.000000       0.000000           0.000000               0.000000   \n",
       "75%         1.000000       1.000000           0.000000               1.000000   \n",
       "max         1.000000       1.000000           1.000000               1.000000   \n",
       "\n",
       "       MaritalStatus_Single  OverTime_Yes  \n",
       "count           1676.000000   1676.000000  \n",
       "mean               0.311456      0.284010  \n",
       "std                0.463227      0.451076  \n",
       "min                0.000000      0.000000  \n",
       "25%                0.000000      0.000000  \n",
       "50%                0.000000      0.000000  \n",
       "75%                1.000000      1.000000  \n",
       "max                1.000000      1.000000  \n",
       "\n",
       "[8 rows x 41 columns]"
      ]
     },
     "execution_count": 20,
     "metadata": {},
     "output_type": "execute_result"
    }
   ],
   "source": [
    "data0.describe()"
   ]
  },
  {
   "cell_type": "code",
   "execution_count": 21,
   "id": "75a01081",
   "metadata": {
    "execution": {
     "iopub.execute_input": "2022-08-14T14:25:12.643206Z",
     "iopub.status.busy": "2022-08-14T14:25:12.642762Z",
     "iopub.status.idle": "2022-08-14T14:25:12.668485Z",
     "shell.execute_reply": "2022-08-14T14:25:12.667142Z"
    },
    "papermill": {
     "duration": 0.050833,
     "end_time": "2022-08-14T14:25:12.671024",
     "exception": false,
     "start_time": "2022-08-14T14:25:12.620191",
     "status": "completed"
    },
    "tags": []
   },
   "outputs": [
    {
     "data": {
      "text/plain": [
       "<bound method NDFrame._add_numeric_operations.<locals>.max of Age                                -0.239984\n",
       "TotalWorkingYears                  -0.234182\n",
       "YearsInCurrentRole                 -0.207891\n",
       "JobLevel                           -0.207634\n",
       "YearsAtCompany                     -0.201373\n",
       "YearsWithCurrManager               -0.201087\n",
       "MonthlyIncome                      -0.193527\n",
       "JobInvolvement                     -0.166036\n",
       "Shift                              -0.158322\n",
       "MaritalStatus_Married              -0.115616\n",
       "JobRole_Therapist                  -0.107536\n",
       "EnvironmentSatisfaction            -0.101278\n",
       "JobRole_Administrative             -0.092332\n",
       "WorkLifeBalance                    -0.090513\n",
       "YearsSinceLastPromotion            -0.086207\n",
       "JobSatisfaction                    -0.081881\n",
       "Department_Neurology               -0.065589\n",
       "BusinessTravel_Travel_Rarely       -0.059064\n",
       "TrainingTimesLastYear              -0.054836\n",
       "DailyRate                          -0.053892\n",
       "EducationField_Medical             -0.044632\n",
       "Education                          -0.038843\n",
       "HourlyRate                         -0.036300\n",
       "Gender_Male                        -0.020661\n",
       "RelationshipSatisfaction           -0.020462\n",
       "EducationField_Other               -0.020250\n",
       "PercentSalaryHike                   0.002943\n",
       "EducationField_Life Sciences        0.004647\n",
       "PerformanceRating                   0.010728\n",
       "Department_Maternity                0.012879\n",
       "NumCompaniesWorked                  0.017279\n",
       "EducationField_Technical Degree     0.027923\n",
       "EducationField_Marketing            0.032417\n",
       "JobRole_Nurse                       0.034682\n",
       "MonthlyRate                         0.045744\n",
       "BusinessTravel_Travel_Frequently    0.089190\n",
       "JobRole_Other                       0.093408\n",
       "DistanceFromHome                    0.105580\n",
       "MaritalStatus_Single                0.207201\n",
       "OverTime_Yes                        0.337383\n",
       "Attrition_Yes                       1.000000\n",
       "dtype: float64>"
      ]
     },
     "execution_count": 21,
     "metadata": {},
     "output_type": "execute_result"
    }
   ],
   "source": [
    "data0.corrwith(data0['Attrition_Yes']).sort_values().max"
   ]
  },
  {
   "cell_type": "markdown",
   "id": "06e37ff9",
   "metadata": {
    "papermill": {
     "duration": 0.02106,
     "end_time": "2022-08-14T14:25:12.713158",
     "exception": false,
     "start_time": "2022-08-14T14:25:12.692098",
     "status": "completed"
    },
    "tags": []
   },
   "source": [
    "# Dividir test and train"
   ]
  },
  {
   "cell_type": "code",
   "execution_count": 22,
   "id": "23ae755d",
   "metadata": {
    "execution": {
     "iopub.execute_input": "2022-08-14T14:25:12.757324Z",
     "iopub.status.busy": "2022-08-14T14:25:12.756504Z",
     "iopub.status.idle": "2022-08-14T14:25:12.762061Z",
     "shell.execute_reply": "2022-08-14T14:25:12.761177Z"
    },
    "papermill": {
     "duration": 0.03068,
     "end_time": "2022-08-14T14:25:12.764472",
     "exception": false,
     "start_time": "2022-08-14T14:25:12.733792",
     "status": "completed"
    },
    "tags": []
   },
   "outputs": [],
   "source": [
    "data1 = data0.copy()"
   ]
  },
  {
   "cell_type": "code",
   "execution_count": 23,
   "id": "e5e8f35a",
   "metadata": {
    "execution": {
     "iopub.execute_input": "2022-08-14T14:25:12.808067Z",
     "iopub.status.busy": "2022-08-14T14:25:12.807273Z",
     "iopub.status.idle": "2022-08-14T14:25:12.813884Z",
     "shell.execute_reply": "2022-08-14T14:25:12.813025Z"
    },
    "papermill": {
     "duration": 0.031132,
     "end_time": "2022-08-14T14:25:12.816300",
     "exception": false,
     "start_time": "2022-08-14T14:25:12.785168",
     "status": "completed"
    },
    "tags": []
   },
   "outputs": [],
   "source": [
    "y = data1['Attrition_Yes']\n",
    "X = data1.drop(['Attrition_Yes'],axis = 1)"
   ]
  },
  {
   "cell_type": "code",
   "execution_count": 24,
   "id": "95e98db0",
   "metadata": {
    "execution": {
     "iopub.execute_input": "2022-08-14T14:25:12.860251Z",
     "iopub.status.busy": "2022-08-14T14:25:12.859434Z",
     "iopub.status.idle": "2022-08-14T14:25:12.867397Z",
     "shell.execute_reply": "2022-08-14T14:25:12.866489Z"
    },
    "papermill": {
     "duration": 0.03287,
     "end_time": "2022-08-14T14:25:12.869903",
     "exception": false,
     "start_time": "2022-08-14T14:25:12.837033",
     "status": "completed"
    },
    "tags": []
   },
   "outputs": [],
   "source": [
    "from sklearn.model_selection import train_test_split\n",
    "\n",
    "X_train, X_test, y_train, y_test = train_test_split(X, y, test_size = 0.2, random_state = 0)"
   ]
  },
  {
   "cell_type": "markdown",
   "id": "73709f19",
   "metadata": {
    "papermill": {
     "duration": 0.020442,
     "end_time": "2022-08-14T14:25:12.911043",
     "exception": false,
     "start_time": "2022-08-14T14:25:12.890601",
     "status": "completed"
    },
    "tags": []
   },
   "source": [
    "# Escalar datos"
   ]
  },
  {
   "cell_type": "code",
   "execution_count": 25,
   "id": "cdd66e89",
   "metadata": {
    "execution": {
     "iopub.execute_input": "2022-08-14T14:25:12.954790Z",
     "iopub.status.busy": "2022-08-14T14:25:12.953702Z",
     "iopub.status.idle": "2022-08-14T14:25:12.967665Z",
     "shell.execute_reply": "2022-08-14T14:25:12.966770Z"
    },
    "papermill": {
     "duration": 0.038513,
     "end_time": "2022-08-14T14:25:12.970234",
     "exception": false,
     "start_time": "2022-08-14T14:25:12.931721",
     "status": "completed"
    },
    "tags": []
   },
   "outputs": [],
   "source": [
    "from sklearn.preprocessing import StandardScaler\n",
    "sc = StandardScaler()\n",
    "X_train = sc.fit_transform(X_train)\n",
    "X_test = sc.transform(X_test)"
   ]
  },
  {
   "cell_type": "markdown",
   "id": "b277c4cf",
   "metadata": {
    "papermill": {
     "duration": 0.020736,
     "end_time": "2022-08-14T14:25:13.011732",
     "exception": false,
     "start_time": "2022-08-14T14:25:12.990996",
     "status": "completed"
    },
    "tags": []
   },
   "source": [
    "# Modelos"
   ]
  },
  {
   "cell_type": "code",
   "execution_count": 26,
   "id": "410813fe",
   "metadata": {
    "execution": {
     "iopub.execute_input": "2022-08-14T14:25:13.056229Z",
     "iopub.status.busy": "2022-08-14T14:25:13.055405Z",
     "iopub.status.idle": "2022-08-14T14:25:13.067676Z",
     "shell.execute_reply": "2022-08-14T14:25:13.066808Z"
    },
    "papermill": {
     "duration": 0.037246,
     "end_time": "2022-08-14T14:25:13.070224",
     "exception": false,
     "start_time": "2022-08-14T14:25:13.032978",
     "status": "completed"
    },
    "tags": []
   },
   "outputs": [],
   "source": [
    "def models(X_train,Y_train):\n",
    "  \n",
    "  #Using Logistic Regression \n",
    "  from sklearn.linear_model import LogisticRegression\n",
    "  log = LogisticRegression(random_state = 0)\n",
    "  log.fit(X_train, Y_train)\n",
    "  \n",
    "  #Using KNeighborsClassifier \n",
    "  from sklearn.neighbors import KNeighborsClassifier\n",
    "  knn = KNeighborsClassifier(n_neighbors = 5, metric = 'minkowski', p = 2)\n",
    "  knn.fit(X_train, Y_train)\n",
    "\n",
    "  #Using SVC linear\n",
    "  from sklearn.svm import SVC\n",
    "  svc_lin = SVC(kernel = 'linear', random_state = 0)\n",
    "  svc_lin.fit(X_train, Y_train)\n",
    "\n",
    "  #Using SVC rbf\n",
    "  from sklearn.svm import SVC\n",
    "  svc_rbf = SVC(kernel = 'rbf', random_state = 0)\n",
    "  svc_rbf.fit(X_train, Y_train)\n",
    "\n",
    "  #Using GaussianNB \n",
    "  from sklearn.naive_bayes import GaussianNB\n",
    "  gauss = GaussianNB()\n",
    "  gauss.fit(X_train, Y_train)\n",
    "\n",
    "  #Using DecisionTreeClassifier \n",
    "  from sklearn.tree import DecisionTreeClassifier\n",
    "  tree = DecisionTreeClassifier(criterion = 'entropy', random_state = 0)\n",
    "  tree.fit(X_train, Y_train)\n",
    "\n",
    "  #Using RandomForestClassifier method of ensemble class to use Random Forest Classification algorithm\n",
    "  from sklearn.ensemble import RandomForestClassifier\n",
    "  forest = RandomForestClassifier(n_estimators = 10, criterion = 'entropy', random_state = 0)\n",
    "  forest.fit(X_train, Y_train)\n",
    "  \n",
    "  #print model accuracy on the training data.\n",
    "  print('[0]Logistic Regression Training Accuracy:', log.score(X_train, Y_train))\n",
    "  print('[1]K Nearest Neighbor Training Accuracy:', knn.score(X_train, Y_train))\n",
    "  print('[2]Support Vector Machine (Linear Classifier) Training Accuracy:', svc_lin.score(X_train, Y_train))\n",
    "  print('[3]Support Vector Machine (RBF Classifier) Training Accuracy:', svc_rbf.score(X_train, Y_train))\n",
    "  print('[4]Gaussian Naive Bayes Training Accuracy:', gauss.score(X_train, Y_train))\n",
    "  print('[5]Decision Tree Classifier Training Accuracy:', tree.score(X_train, Y_train))\n",
    "  print('[6]Random Forest Classifier Training Accuracy:', forest.score(X_train, Y_train))\n",
    "  \n",
    "  return log, knn, svc_lin, svc_rbf, gauss, tree, forest"
   ]
  },
  {
   "cell_type": "code",
   "execution_count": 27,
   "id": "713112c0",
   "metadata": {
    "execution": {
     "iopub.execute_input": "2022-08-14T14:25:13.114119Z",
     "iopub.status.busy": "2022-08-14T14:25:13.113330Z",
     "iopub.status.idle": "2022-08-14T14:25:13.698652Z",
     "shell.execute_reply": "2022-08-14T14:25:13.697305Z"
    },
    "papermill": {
     "duration": 0.611481,
     "end_time": "2022-08-14T14:25:13.702302",
     "exception": false,
     "start_time": "2022-08-14T14:25:13.090821",
     "status": "completed"
    },
    "tags": []
   },
   "outputs": [
    {
     "name": "stdout",
     "output_type": "stream",
     "text": [
      "[0]Logistic Regression Training Accuracy: 0.9432835820895522\n",
      "[1]K Nearest Neighbor Training Accuracy: 0.9216417910447762\n",
      "[2]Support Vector Machine (Linear Classifier) Training Accuracy: 0.9455223880597015\n",
      "[3]Support Vector Machine (RBF Classifier) Training Accuracy: 0.9664179104477612\n",
      "[4]Gaussian Naive Bayes Training Accuracy: 0.4261194029850746\n",
      "[5]Decision Tree Classifier Training Accuracy: 0.9970149253731343\n",
      "[6]Random Forest Classifier Training Accuracy: 0.991044776119403\n"
     ]
    }
   ],
   "source": [
    "model = models(X_train,y_train)"
   ]
  },
  {
   "cell_type": "code",
   "execution_count": 28,
   "id": "5bab481e",
   "metadata": {
    "execution": {
     "iopub.execute_input": "2022-08-14T14:25:13.747667Z",
     "iopub.status.busy": "2022-08-14T14:25:13.747199Z",
     "iopub.status.idle": "2022-08-14T14:25:13.838563Z",
     "shell.execute_reply": "2022-08-14T14:25:13.837247Z"
    },
    "papermill": {
     "duration": 0.119221,
     "end_time": "2022-08-14T14:25:13.843495",
     "exception": false,
     "start_time": "2022-08-14T14:25:13.724274",
     "status": "completed"
    },
    "tags": []
   },
   "outputs": [
    {
     "name": "stdout",
     "output_type": "stream",
     "text": [
      "[[281   8]\n",
      " [ 15  32]]\n",
      "Model[0] Testing Accuracy = \"0.9315476190476191!\"\n",
      "\n",
      "[[285   4]\n",
      " [ 37  10]]\n",
      "Model[1] Testing Accuracy = \"0.8779761904761905!\"\n",
      "\n",
      "[[282   7]\n",
      " [ 18  29]]\n",
      "Model[2] Testing Accuracy = \"0.9255952380952381!\"\n",
      "\n",
      "[[286   3]\n",
      " [ 28  19]]\n",
      "Model[3] Testing Accuracy = \"0.9077380952380952!\"\n",
      "\n",
      "[[116 173]\n",
      " [  8  39]]\n",
      "Model[4] Testing Accuracy = \"0.46130952380952384!\"\n",
      "\n",
      "[[274  15]\n",
      " [ 23  24]]\n",
      "Model[5] Testing Accuracy = \"0.8869047619047619!\"\n",
      "\n",
      "[[284   5]\n",
      " [ 30  17]]\n",
      "Model[6] Testing Accuracy = \"0.8958333333333334!\"\n",
      "\n"
     ]
    }
   ],
   "source": [
    "from sklearn.metrics import confusion_matrix\n",
    "for i in range(len(model)):\n",
    "  cm = confusion_matrix(y_test, model[i].predict(X_test))\n",
    "  \n",
    "  TN = cm[0][0]\n",
    "  TP = cm[1][1]\n",
    "  FN = cm[1][0]\n",
    "  FP = cm[0][1]\n",
    "  \n",
    "  print(cm)\n",
    "  print('Model[{}] Testing Accuracy = \"{}!\"'.format(i,  (TP + TN) / (TP + TN + FN + FP)))\n",
    "  print()# Print a new line"
   ]
  },
  {
   "cell_type": "code",
   "execution_count": 29,
   "id": "e93bc3e0",
   "metadata": {
    "execution": {
     "iopub.execute_input": "2022-08-14T14:25:13.904406Z",
     "iopub.status.busy": "2022-08-14T14:25:13.903941Z",
     "iopub.status.idle": "2022-08-14T14:25:14.087326Z",
     "shell.execute_reply": "2022-08-14T14:25:14.086112Z"
    },
    "papermill": {
     "duration": 0.211875,
     "end_time": "2022-08-14T14:25:14.090055",
     "exception": false,
     "start_time": "2022-08-14T14:25:13.878180",
     "status": "completed"
    },
    "tags": []
   },
   "outputs": [
    {
     "name": "stdout",
     "output_type": "stream",
     "text": [
      "Model  0\n",
      "              precision    recall  f1-score   support\n",
      "\n",
      "           0       0.95      0.97      0.96       289\n",
      "           1       0.80      0.68      0.74        47\n",
      "\n",
      "    accuracy                           0.93       336\n",
      "   macro avg       0.87      0.83      0.85       336\n",
      "weighted avg       0.93      0.93      0.93       336\n",
      "\n",
      "0.9315476190476191\n",
      "\n",
      "Model  1\n",
      "              precision    recall  f1-score   support\n",
      "\n",
      "           0       0.89      0.99      0.93       289\n",
      "           1       0.71      0.21      0.33        47\n",
      "\n",
      "    accuracy                           0.88       336\n",
      "   macro avg       0.80      0.60      0.63       336\n",
      "weighted avg       0.86      0.88      0.85       336\n",
      "\n",
      "0.8779761904761905\n",
      "\n",
      "Model  2\n",
      "              precision    recall  f1-score   support\n",
      "\n",
      "           0       0.94      0.98      0.96       289\n",
      "           1       0.81      0.62      0.70        47\n",
      "\n",
      "    accuracy                           0.93       336\n",
      "   macro avg       0.87      0.80      0.83       336\n",
      "weighted avg       0.92      0.93      0.92       336\n",
      "\n",
      "0.9255952380952381\n",
      "\n",
      "Model  3\n",
      "              precision    recall  f1-score   support\n",
      "\n",
      "           0       0.91      0.99      0.95       289\n",
      "           1       0.86      0.40      0.55        47\n",
      "\n",
      "    accuracy                           0.91       336\n",
      "   macro avg       0.89      0.70      0.75       336\n",
      "weighted avg       0.90      0.91      0.89       336\n",
      "\n",
      "0.9077380952380952\n",
      "\n",
      "Model  4\n",
      "              precision    recall  f1-score   support\n",
      "\n",
      "           0       0.94      0.40      0.56       289\n",
      "           1       0.18      0.83      0.30        47\n",
      "\n",
      "    accuracy                           0.46       336\n",
      "   macro avg       0.56      0.62      0.43       336\n",
      "weighted avg       0.83      0.46      0.53       336\n",
      "\n",
      "0.46130952380952384\n",
      "\n",
      "Model  5\n",
      "              precision    recall  f1-score   support\n",
      "\n",
      "           0       0.92      0.95      0.94       289\n",
      "           1       0.62      0.51      0.56        47\n",
      "\n",
      "    accuracy                           0.89       336\n",
      "   macro avg       0.77      0.73      0.75       336\n",
      "weighted avg       0.88      0.89      0.88       336\n",
      "\n",
      "0.8869047619047619\n",
      "\n",
      "Model  6\n",
      "              precision    recall  f1-score   support\n",
      "\n",
      "           0       0.90      0.98      0.94       289\n",
      "           1       0.77      0.36      0.49        47\n",
      "\n",
      "    accuracy                           0.90       336\n",
      "   macro avg       0.84      0.67      0.72       336\n",
      "weighted avg       0.89      0.90      0.88       336\n",
      "\n",
      "0.8958333333333334\n",
      "\n"
     ]
    }
   ],
   "source": [
    "from sklearn.metrics import classification_report\n",
    "from sklearn.metrics import accuracy_score\n",
    "\n",
    "for i in range(len(model)):\n",
    "  print('Model ',i)\n",
    "  #Check precision, recall, f1-score\n",
    "  print( classification_report(y_test, model[i].predict(X_test)) )\n",
    "  #Another way to get the models accuracy on the test data\n",
    "  print( accuracy_score(y_test, model[i].predict(X_test)))\n",
    "  print()#Print a new line"
   ]
  },
  {
   "cell_type": "markdown",
   "id": "d37ebcb9",
   "metadata": {
    "papermill": {
     "duration": 0.022291,
     "end_time": "2022-08-14T14:25:14.134035",
     "exception": false,
     "start_time": "2022-08-14T14:25:14.111744",
     "status": "completed"
    },
    "tags": []
   },
   "source": [
    "# Logistic"
   ]
  },
  {
   "cell_type": "markdown",
   "id": "e70386d1",
   "metadata": {
    "papermill": {
     "duration": 0.021471,
     "end_time": "2022-08-14T14:25:14.177766",
     "exception": false,
     "start_time": "2022-08-14T14:25:14.156295",
     "status": "completed"
    },
    "tags": []
   },
   "source": [
    "## Matrix"
   ]
  },
  {
   "cell_type": "code",
   "execution_count": 30,
   "id": "0b54aeba",
   "metadata": {
    "execution": {
     "iopub.execute_input": "2022-08-14T14:25:14.223631Z",
     "iopub.status.busy": "2022-08-14T14:25:14.222478Z",
     "iopub.status.idle": "2022-08-14T14:25:14.260949Z",
     "shell.execute_reply": "2022-08-14T14:25:14.259735Z"
    },
    "papermill": {
     "duration": 0.064034,
     "end_time": "2022-08-14T14:25:14.263482",
     "exception": false,
     "start_time": "2022-08-14T14:25:14.199448",
     "status": "completed"
    },
    "tags": []
   },
   "outputs": [
    {
     "data": {
      "text/plain": [
       "LogisticRegression(random_state=0, solver='liblinear')"
      ]
     },
     "execution_count": 30,
     "metadata": {},
     "output_type": "execute_result"
    }
   ],
   "source": [
    "# instantiate the model\n",
    "logreg = LogisticRegression(solver='liblinear', random_state=0)\n",
    "\n",
    "\n",
    "# fit the model\n",
    "logreg.fit(X_train, y_train)"
   ]
  },
  {
   "cell_type": "code",
   "execution_count": 31,
   "id": "f381d94f",
   "metadata": {
    "execution": {
     "iopub.execute_input": "2022-08-14T14:25:14.308299Z",
     "iopub.status.busy": "2022-08-14T14:25:14.307842Z",
     "iopub.status.idle": "2022-08-14T14:25:14.320734Z",
     "shell.execute_reply": "2022-08-14T14:25:14.319203Z"
    },
    "papermill": {
     "duration": 0.040266,
     "end_time": "2022-08-14T14:25:14.325120",
     "exception": false,
     "start_time": "2022-08-14T14:25:14.284854",
     "status": "completed"
    },
    "tags": []
   },
   "outputs": [
    {
     "data": {
      "text/plain": [
       "array([0, 0, 0, 0, 1, 0, 0, 0, 0, 0, 0, 0, 0, 0, 1, 0, 1, 0, 0, 0, 0, 0,\n",
       "       0, 0, 0, 0, 0, 0, 0, 1, 1, 0, 0, 0, 0, 0, 0, 0, 0, 0, 0, 0, 0, 0,\n",
       "       0, 0, 0, 0, 0, 0, 0, 0, 1, 0, 1, 0, 0, 0, 0, 0, 0, 0, 0, 0, 0, 0,\n",
       "       0, 0, 1, 0, 0, 0, 0, 0, 0, 0, 1, 0, 0, 0, 1, 0, 0, 0, 0, 0, 0, 0,\n",
       "       0, 0, 0, 0, 0, 0, 0, 0, 0, 0, 0, 0, 0, 1, 0, 0, 0, 1, 0, 0, 0, 0,\n",
       "       0, 0, 0, 0, 0, 0, 0, 0, 0, 0, 1, 0, 0, 0, 0, 0, 0, 0, 0, 0, 0, 0,\n",
       "       0, 0, 1, 0, 0, 0, 0, 1, 0, 1, 0, 0, 0, 0, 0, 1, 0, 0, 0, 0, 0, 0,\n",
       "       0, 0, 0, 0, 0, 0, 0, 0, 0, 0, 0, 0, 0, 1, 0, 0, 0, 0, 0, 0, 0, 0,\n",
       "       1, 1, 0, 0, 0, 0, 0, 1, 1, 0, 0, 0, 0, 0, 0, 0, 0, 0, 1, 0, 0, 0,\n",
       "       0, 0, 0, 0, 0, 0, 0, 0, 0, 0, 0, 0, 0, 1, 0, 0, 0, 0, 1, 0, 0, 0,\n",
       "       0, 0, 0, 0, 0, 0, 0, 0, 1, 0, 0, 0, 0, 0, 0, 0, 0, 0, 0, 0, 0, 0,\n",
       "       0, 0, 0, 0, 0, 1, 0, 0, 0, 0, 0, 0, 0, 0, 0, 0, 0, 0, 1, 0, 1, 0,\n",
       "       1, 0, 0, 0, 0, 0, 0, 0, 0, 0, 0, 0, 1, 0, 0, 1, 0, 0, 0, 0, 0, 1,\n",
       "       0, 0, 0, 0, 1, 0, 0, 0, 0, 0, 0, 0, 0, 0, 0, 1, 1, 0, 0, 0, 0, 0,\n",
       "       0, 0, 0, 0, 1, 0, 0, 1, 0, 0, 0, 0, 1, 1, 0, 0, 0, 0, 0, 0, 0, 0,\n",
       "       0, 0, 0, 0, 0, 0], dtype=uint8)"
      ]
     },
     "execution_count": 31,
     "metadata": {},
     "output_type": "execute_result"
    }
   ],
   "source": [
    "y_pred_test = logreg.predict(X_test)\n",
    "\n",
    "y_pred_test"
   ]
  },
  {
   "cell_type": "code",
   "execution_count": 32,
   "id": "0f4a9665",
   "metadata": {
    "execution": {
     "iopub.execute_input": "2022-08-14T14:25:14.397893Z",
     "iopub.status.busy": "2022-08-14T14:25:14.397289Z",
     "iopub.status.idle": "2022-08-14T14:25:14.411792Z",
     "shell.execute_reply": "2022-08-14T14:25:14.410345Z"
    },
    "papermill": {
     "duration": 0.056091,
     "end_time": "2022-08-14T14:25:14.416181",
     "exception": false,
     "start_time": "2022-08-14T14:25:14.360090",
     "status": "completed"
    },
    "tags": []
   },
   "outputs": [
    {
     "name": "stdout",
     "output_type": "stream",
     "text": [
      "Confusion matrix\n",
      "\n",
      " [[281   8]\n",
      " [ 15  32]]\n",
      "\n",
      "True Positives(TP) =  281\n",
      "\n",
      "True Negatives(TN) =  32\n",
      "\n",
      "False Positives(FP) =  8\n",
      "\n",
      "False Negatives(FN) =  15\n"
     ]
    }
   ],
   "source": [
    "from sklearn.metrics import confusion_matrix\n",
    "\n",
    "cm = confusion_matrix(y_test, y_pred_test)\n",
    "\n",
    "print('Confusion matrix\\n\\n', cm)\n",
    "\n",
    "print('\\nTrue Positives(TP) = ', cm[0,0])\n",
    "\n",
    "print('\\nTrue Negatives(TN) = ', cm[1,1])\n",
    "\n",
    "print('\\nFalse Positives(FP) = ', cm[0,1])\n",
    "\n",
    "print('\\nFalse Negatives(FN) = ', cm[1,0])"
   ]
  },
  {
   "cell_type": "code",
   "execution_count": 33,
   "id": "29fe5949",
   "metadata": {
    "execution": {
     "iopub.execute_input": "2022-08-14T14:25:14.468067Z",
     "iopub.status.busy": "2022-08-14T14:25:14.467567Z",
     "iopub.status.idle": "2022-08-14T14:25:14.476582Z",
     "shell.execute_reply": "2022-08-14T14:25:14.475175Z"
    },
    "papermill": {
     "duration": 0.035794,
     "end_time": "2022-08-14T14:25:14.480342",
     "exception": false,
     "start_time": "2022-08-14T14:25:14.444548",
     "status": "completed"
    },
    "tags": []
   },
   "outputs": [
    {
     "name": "stdout",
     "output_type": "stream",
     "text": [
      "Model accuracy score: 0.9315\n"
     ]
    }
   ],
   "source": [
    "from sklearn.metrics import accuracy_score\n",
    "\n",
    "print('Model accuracy score: {0:0.4f}'. format(accuracy_score(y_test, y_pred_test)))"
   ]
  },
  {
   "cell_type": "code",
   "execution_count": 34,
   "id": "dc242b85",
   "metadata": {
    "execution": {
     "iopub.execute_input": "2022-08-14T14:25:14.526876Z",
     "iopub.status.busy": "2022-08-14T14:25:14.525989Z",
     "iopub.status.idle": "2022-08-14T14:25:14.537419Z",
     "shell.execute_reply": "2022-08-14T14:25:14.536056Z"
    },
    "papermill": {
     "duration": 0.038622,
     "end_time": "2022-08-14T14:25:14.541434",
     "exception": false,
     "start_time": "2022-08-14T14:25:14.502812",
     "status": "completed"
    },
    "tags": []
   },
   "outputs": [
    {
     "data": {
      "text/plain": [
       "array([1, 0, 0, ..., 0, 0, 0], dtype=uint8)"
      ]
     },
     "execution_count": 34,
     "metadata": {},
     "output_type": "execute_result"
    }
   ],
   "source": [
    "y_pred_train = logreg.predict(X_train)\n",
    "\n",
    "y_pred_train"
   ]
  },
  {
   "cell_type": "code",
   "execution_count": 35,
   "id": "ef4cc699",
   "metadata": {
    "execution": {
     "iopub.execute_input": "2022-08-14T14:25:14.615734Z",
     "iopub.status.busy": "2022-08-14T14:25:14.615143Z",
     "iopub.status.idle": "2022-08-14T14:25:14.624206Z",
     "shell.execute_reply": "2022-08-14T14:25:14.622995Z"
    },
    "papermill": {
     "duration": 0.055826,
     "end_time": "2022-08-14T14:25:14.632626",
     "exception": false,
     "start_time": "2022-08-14T14:25:14.576800",
     "status": "completed"
    },
    "tags": []
   },
   "outputs": [
    {
     "name": "stdout",
     "output_type": "stream",
     "text": [
      "Training-set accuracy score: 0.9433\n"
     ]
    }
   ],
   "source": [
    "print('Training-set accuracy score: {0:0.4f}'. format(accuracy_score(y_train, y_pred_train)))"
   ]
  },
  {
   "cell_type": "markdown",
   "id": "ace9ee1d",
   "metadata": {
    "papermill": {
     "duration": 0.022367,
     "end_time": "2022-08-14T14:25:14.684838",
     "exception": false,
     "start_time": "2022-08-14T14:25:14.662471",
     "status": "completed"
    },
    "tags": []
   },
   "source": [
    "## Overfitting?"
   ]
  },
  {
   "cell_type": "code",
   "execution_count": 36,
   "id": "2fbf6f58",
   "metadata": {
    "execution": {
     "iopub.execute_input": "2022-08-14T14:25:14.732536Z",
     "iopub.status.busy": "2022-08-14T14:25:14.732084Z",
     "iopub.status.idle": "2022-08-14T14:25:14.743877Z",
     "shell.execute_reply": "2022-08-14T14:25:14.742355Z"
    },
    "papermill": {
     "duration": 0.039757,
     "end_time": "2022-08-14T14:25:14.747297",
     "exception": false,
     "start_time": "2022-08-14T14:25:14.707540",
     "status": "completed"
    },
    "tags": []
   },
   "outputs": [
    {
     "name": "stdout",
     "output_type": "stream",
     "text": [
      "Training set score: 0.9433\n",
      "Test set score: 0.9315\n"
     ]
    }
   ],
   "source": [
    "print('Training set score: {:.4f}'.format(logreg.score(X_train, y_train)))\n",
    "\n",
    "print('Test set score: {:.4f}'.format(logreg.score(X_test, y_test)))"
   ]
  },
  {
   "cell_type": "markdown",
   "id": "cf418547",
   "metadata": {
    "papermill": {
     "duration": 0.034738,
     "end_time": "2022-08-14T14:25:14.818830",
     "exception": false,
     "start_time": "2022-08-14T14:25:14.784092",
     "status": "completed"
    },
    "tags": []
   },
   "source": [
    "## C value"
   ]
  },
  {
   "cell_type": "code",
   "execution_count": 37,
   "id": "1aed62f8",
   "metadata": {
    "execution": {
     "iopub.execute_input": "2022-08-14T14:25:14.880844Z",
     "iopub.status.busy": "2022-08-14T14:25:14.879989Z",
     "iopub.status.idle": "2022-08-14T14:25:14.944296Z",
     "shell.execute_reply": "2022-08-14T14:25:14.943037Z"
    },
    "papermill": {
     "duration": 0.092561,
     "end_time": "2022-08-14T14:25:14.946990",
     "exception": false,
     "start_time": "2022-08-14T14:25:14.854429",
     "status": "completed"
    },
    "tags": []
   },
   "outputs": [
    {
     "data": {
      "text/plain": [
       "LogisticRegression(C=100, random_state=0, solver='liblinear')"
      ]
     },
     "execution_count": 37,
     "metadata": {},
     "output_type": "execute_result"
    }
   ],
   "source": [
    "logreg100 = LogisticRegression(C=100, solver='liblinear', random_state=0)\n",
    "\n",
    "\n",
    "# fit the model\n",
    "logreg100.fit(X_train, y_train)"
   ]
  },
  {
   "cell_type": "code",
   "execution_count": 38,
   "id": "8f3252c1",
   "metadata": {
    "execution": {
     "iopub.execute_input": "2022-08-14T14:25:14.992996Z",
     "iopub.status.busy": "2022-08-14T14:25:14.991937Z",
     "iopub.status.idle": "2022-08-14T14:25:15.004559Z",
     "shell.execute_reply": "2022-08-14T14:25:15.002490Z"
    },
    "papermill": {
     "duration": 0.040714,
     "end_time": "2022-08-14T14:25:15.009352",
     "exception": false,
     "start_time": "2022-08-14T14:25:14.968638",
     "status": "completed"
    },
    "tags": []
   },
   "outputs": [
    {
     "name": "stdout",
     "output_type": "stream",
     "text": [
      "Training set score: 0.9455\n",
      "Test set score: 0.9375\n"
     ]
    }
   ],
   "source": [
    "print('Training set score: {:.4f}'.format(logreg100.score(X_train, y_train)))\n",
    "\n",
    "print('Test set score: {:.4f}'.format(logreg100.score(X_test, y_test)))"
   ]
  },
  {
   "cell_type": "code",
   "execution_count": 39,
   "id": "4c56f62b",
   "metadata": {
    "execution": {
     "iopub.execute_input": "2022-08-14T14:25:15.081983Z",
     "iopub.status.busy": "2022-08-14T14:25:15.081454Z",
     "iopub.status.idle": "2022-08-14T14:25:15.109935Z",
     "shell.execute_reply": "2022-08-14T14:25:15.108724Z"
    },
    "papermill": {
     "duration": 0.068783,
     "end_time": "2022-08-14T14:25:15.113421",
     "exception": false,
     "start_time": "2022-08-14T14:25:15.044638",
     "status": "completed"
    },
    "tags": []
   },
   "outputs": [
    {
     "data": {
      "text/plain": [
       "LogisticRegression(C=0.01, random_state=0, solver='liblinear')"
      ]
     },
     "execution_count": 39,
     "metadata": {},
     "output_type": "execute_result"
    }
   ],
   "source": [
    "logreg001 = LogisticRegression(C=0.01, solver='liblinear', random_state=0)\n",
    "\n",
    "\n",
    "# fit the model\n",
    "logreg001.fit(X_train, y_train)"
   ]
  },
  {
   "cell_type": "code",
   "execution_count": 40,
   "id": "fc8975f8",
   "metadata": {
    "execution": {
     "iopub.execute_input": "2022-08-14T14:25:15.161900Z",
     "iopub.status.busy": "2022-08-14T14:25:15.160796Z",
     "iopub.status.idle": "2022-08-14T14:25:15.173689Z",
     "shell.execute_reply": "2022-08-14T14:25:15.172437Z"
    },
    "papermill": {
     "duration": 0.040098,
     "end_time": "2022-08-14T14:25:15.177817",
     "exception": false,
     "start_time": "2022-08-14T14:25:15.137719",
     "status": "completed"
    },
    "tags": []
   },
   "outputs": [
    {
     "name": "stdout",
     "output_type": "stream",
     "text": [
      "Training set score: 0.9306\n",
      "Test set score: 0.9167\n"
     ]
    }
   ],
   "source": [
    "# print the scores on training and test set\n",
    "\n",
    "print('Training set score: {:.4f}'.format(logreg001.score(X_train, y_train)))\n",
    "\n",
    "print('Test set score: {:.4f}'.format(logreg001.score(X_test, y_test)))"
   ]
  },
  {
   "cell_type": "markdown",
   "id": "7ac2546a",
   "metadata": {
    "papermill": {
     "duration": 0.034725,
     "end_time": "2022-08-14T14:25:15.247819",
     "exception": false,
     "start_time": "2022-08-14T14:25:15.213094",
     "status": "completed"
    },
    "tags": []
   },
   "source": [
    "## precision del modelo"
   ]
  },
  {
   "cell_type": "code",
   "execution_count": 41,
   "id": "7b2d6862",
   "metadata": {
    "execution": {
     "iopub.execute_input": "2022-08-14T14:25:15.308689Z",
     "iopub.status.busy": "2022-08-14T14:25:15.308263Z",
     "iopub.status.idle": "2022-08-14T14:25:15.318281Z",
     "shell.execute_reply": "2022-08-14T14:25:15.317145Z"
    },
    "papermill": {
     "duration": 0.03766,
     "end_time": "2022-08-14T14:25:15.320525",
     "exception": false,
     "start_time": "2022-08-14T14:25:15.282865",
     "status": "completed"
    },
    "tags": []
   },
   "outputs": [
    {
     "data": {
      "text/plain": [
       "0    289\n",
       "1     47\n",
       "Name: Attrition_Yes, dtype: int64"
      ]
     },
     "execution_count": 41,
     "metadata": {},
     "output_type": "execute_result"
    }
   ],
   "source": [
    "y_test.value_counts()"
   ]
  },
  {
   "cell_type": "code",
   "execution_count": 42,
   "id": "1c6555f5",
   "metadata": {
    "execution": {
     "iopub.execute_input": "2022-08-14T14:25:15.366797Z",
     "iopub.status.busy": "2022-08-14T14:25:15.365964Z",
     "iopub.status.idle": "2022-08-14T14:25:15.375027Z",
     "shell.execute_reply": "2022-08-14T14:25:15.373743Z"
    },
    "papermill": {
     "duration": 0.035157,
     "end_time": "2022-08-14T14:25:15.377550",
     "exception": false,
     "start_time": "2022-08-14T14:25:15.342393",
     "status": "completed"
    },
    "tags": []
   },
   "outputs": [
    {
     "name": "stdout",
     "output_type": "stream",
     "text": [
      "Confusion matrix\n",
      "\n",
      " [[281   8]\n",
      " [ 15  32]]\n",
      "\n",
      "True Positives(TP) =  281\n",
      "\n",
      "True Negatives(TN) =  32\n",
      "\n",
      "False Positives(FP) =  8\n",
      "\n",
      "False Negatives(FN) =  15\n"
     ]
    }
   ],
   "source": [
    "from sklearn.metrics import confusion_matrix\n",
    "\n",
    "cm = confusion_matrix(y_test, y_pred_test)\n",
    "\n",
    "print('Confusion matrix\\n\\n', cm)\n",
    "\n",
    "print('\\nTrue Positives(TP) = ', cm[0,0])\n",
    "\n",
    "print('\\nTrue Negatives(TN) = ', cm[1,1])\n",
    "\n",
    "print('\\nFalse Positives(FP) = ', cm[0,1])\n",
    "\n",
    "print('\\nFalse Negatives(FN) = ', cm[1,0])"
   ]
  },
  {
   "cell_type": "code",
   "execution_count": 43,
   "id": "54fefbd7",
   "metadata": {
    "execution": {
     "iopub.execute_input": "2022-08-14T14:25:15.424187Z",
     "iopub.status.busy": "2022-08-14T14:25:15.423089Z",
     "iopub.status.idle": "2022-08-14T14:25:15.637489Z",
     "shell.execute_reply": "2022-08-14T14:25:15.636348Z"
    },
    "papermill": {
     "duration": 0.240183,
     "end_time": "2022-08-14T14:25:15.639919",
     "exception": false,
     "start_time": "2022-08-14T14:25:15.399736",
     "status": "completed"
    },
    "tags": []
   },
   "outputs": [
    {
     "data": {
      "text/plain": [
       "<AxesSubplot:>"
      ]
     },
     "execution_count": 43,
     "metadata": {},
     "output_type": "execute_result"
    },
    {
     "data": {
      "image/png": "[encoded data removed]",
      "text/plain": [
       "<Figure size 432x288 with 2 Axes>"
      ]
     },
     "metadata": {
      "needs_background": "light"
     },
     "output_type": "display_data"
    }
   ],
   "source": [
    "\n",
    "cm_matrix = pd.DataFrame(data=cm, columns=['Actual Positive:1', 'Actual Negative:0'], \n",
    "                                 index=['Predict Positive:1', 'Predict Negative:0'])\n",
    "\n",
    "sns.heatmap(cm_matrix, annot=True, fmt='d', cmap='YlGnBu')"
   ]
  },
  {
   "cell_type": "code",
   "execution_count": 44,
   "id": "c2faf694",
   "metadata": {
    "execution": {
     "iopub.execute_input": "2022-08-14T14:25:15.687454Z",
     "iopub.status.busy": "2022-08-14T14:25:15.686213Z",
     "iopub.status.idle": "2022-08-14T14:25:15.697980Z",
     "shell.execute_reply": "2022-08-14T14:25:15.696704Z"
    },
    "papermill": {
     "duration": 0.038181,
     "end_time": "2022-08-14T14:25:15.700610",
     "exception": false,
     "start_time": "2022-08-14T14:25:15.662429",
     "status": "completed"
    },
    "tags": []
   },
   "outputs": [
    {
     "name": "stdout",
     "output_type": "stream",
     "text": [
      "              precision    recall  f1-score   support\n",
      "\n",
      "           0       0.95      0.97      0.96       289\n",
      "           1       0.80      0.68      0.74        47\n",
      "\n",
      "    accuracy                           0.93       336\n",
      "   macro avg       0.87      0.83      0.85       336\n",
      "weighted avg       0.93      0.93      0.93       336\n",
      "\n"
     ]
    }
   ],
   "source": [
    "from sklearn.metrics import classification_report\n",
    "\n",
    "print(classification_report(y_test, y_pred_test))"
   ]
  },
  {
   "cell_type": "code",
   "execution_count": 45,
   "id": "543b0cf9",
   "metadata": {
    "execution": {
     "iopub.execute_input": "2022-08-14T14:25:15.748195Z",
     "iopub.status.busy": "2022-08-14T14:25:15.746993Z",
     "iopub.status.idle": "2022-08-14T14:25:15.752492Z",
     "shell.execute_reply": "2022-08-14T14:25:15.751484Z"
    },
    "papermill": {
     "duration": 0.031777,
     "end_time": "2022-08-14T14:25:15.754809",
     "exception": false,
     "start_time": "2022-08-14T14:25:15.723032",
     "status": "completed"
    },
    "tags": []
   },
   "outputs": [],
   "source": [
    "TP = cm[0,0]\n",
    "TN = cm[1,1]\n",
    "FP = cm[0,1]\n",
    "FN = cm[1,0]"
   ]
  },
  {
   "cell_type": "code",
   "execution_count": 46,
   "id": "889d4576",
   "metadata": {
    "execution": {
     "iopub.execute_input": "2022-08-14T14:25:15.803081Z",
     "iopub.status.busy": "2022-08-14T14:25:15.802373Z",
     "iopub.status.idle": "2022-08-14T14:25:15.808273Z",
     "shell.execute_reply": "2022-08-14T14:25:15.806939Z"
    },
    "papermill": {
     "duration": 0.032724,
     "end_time": "2022-08-14T14:25:15.810703",
     "exception": false,
     "start_time": "2022-08-14T14:25:15.777979",
     "status": "completed"
    },
    "tags": []
   },
   "outputs": [
    {
     "name": "stdout",
     "output_type": "stream",
     "text": [
      "Classification accuracy : 0.9315\n"
     ]
    }
   ],
   "source": [
    "classification_accuracy = (TP + TN) / float(TP + TN + FP + FN)\n",
    "\n",
    "print('Classification accuracy : {0:0.4f}'.format(classification_accuracy))"
   ]
  },
  {
   "cell_type": "code",
   "execution_count": 47,
   "id": "5449e5d4",
   "metadata": {
    "execution": {
     "iopub.execute_input": "2022-08-14T14:25:15.858223Z",
     "iopub.status.busy": "2022-08-14T14:25:15.857808Z",
     "iopub.status.idle": "2022-08-14T14:25:15.863575Z",
     "shell.execute_reply": "2022-08-14T14:25:15.862406Z"
    },
    "papermill": {
     "duration": 0.033636,
     "end_time": "2022-08-14T14:25:15.867061",
     "exception": false,
     "start_time": "2022-08-14T14:25:15.833425",
     "status": "completed"
    },
    "tags": []
   },
   "outputs": [
    {
     "name": "stdout",
     "output_type": "stream",
     "text": [
      "Classification error : 0.0685\n"
     ]
    }
   ],
   "source": [
    "classification_error = (FP + FN) / float(TP + TN + FP + FN)\n",
    "\n",
    "print('Classification error : {0:0.4f}'.format(classification_error))"
   ]
  },
  {
   "cell_type": "code",
   "execution_count": 48,
   "id": "74c79055",
   "metadata": {
    "execution": {
     "iopub.execute_input": "2022-08-14T14:25:15.914401Z",
     "iopub.status.busy": "2022-08-14T14:25:15.913979Z",
     "iopub.status.idle": "2022-08-14T14:25:15.919618Z",
     "shell.execute_reply": "2022-08-14T14:25:15.918422Z"
    },
    "papermill": {
     "duration": 0.03252,
     "end_time": "2022-08-14T14:25:15.922257",
     "exception": false,
     "start_time": "2022-08-14T14:25:15.889737",
     "status": "completed"
    },
    "tags": []
   },
   "outputs": [
    {
     "name": "stdout",
     "output_type": "stream",
     "text": [
      "Precision : 0.9723\n"
     ]
    }
   ],
   "source": [
    "precision = TP / float(TP + FP)\n",
    "\n",
    "\n",
    "print('Precision : {0:0.4f}'.format(precision))"
   ]
  },
  {
   "cell_type": "code",
   "execution_count": 49,
   "id": "73955fa7",
   "metadata": {
    "execution": {
     "iopub.execute_input": "2022-08-14T14:25:15.969959Z",
     "iopub.status.busy": "2022-08-14T14:25:15.969558Z",
     "iopub.status.idle": "2022-08-14T14:25:15.975462Z",
     "shell.execute_reply": "2022-08-14T14:25:15.974349Z"
    },
    "papermill": {
     "duration": 0.03287,
     "end_time": "2022-08-14T14:25:15.978033",
     "exception": false,
     "start_time": "2022-08-14T14:25:15.945163",
     "status": "completed"
    },
    "tags": []
   },
   "outputs": [
    {
     "name": "stdout",
     "output_type": "stream",
     "text": [
      "Recall or Sensitivity : 0.9493\n"
     ]
    }
   ],
   "source": [
    "recall = TP / float(TP + FN)\n",
    "\n",
    "print('Recall or Sensitivity : {0:0.4f}'.format(recall))"
   ]
  },
  {
   "cell_type": "markdown",
   "id": "7e546cad",
   "metadata": {
    "papermill": {
     "duration": 0.022724,
     "end_time": "2022-08-14T14:25:16.024216",
     "exception": false,
     "start_time": "2022-08-14T14:25:16.001492",
     "status": "completed"
    },
    "tags": []
   },
   "source": [
    "##  Ajuste"
   ]
  },
  {
   "cell_type": "code",
   "execution_count": 50,
   "id": "be5498fc",
   "metadata": {
    "execution": {
     "iopub.execute_input": "2022-08-14T14:25:16.072559Z",
     "iopub.status.busy": "2022-08-14T14:25:16.072113Z",
     "iopub.status.idle": "2022-08-14T14:25:16.092885Z",
     "shell.execute_reply": "2022-08-14T14:25:16.091521Z"
    },
    "papermill": {
     "duration": 0.04945,
     "end_time": "2022-08-14T14:25:16.096978",
     "exception": false,
     "start_time": "2022-08-14T14:25:16.047528",
     "status": "completed"
    },
    "tags": []
   },
   "outputs": [
    {
     "data": {
      "text/plain": [
       "array([[9.27002388e-01, 7.29976123e-02],\n",
       "       [9.82442489e-01, 1.75575111e-02],\n",
       "       [9.28272866e-01, 7.17271338e-02],\n",
       "       [9.99807256e-01, 1.92743762e-04],\n",
       "       [4.71450597e-01, 5.28549403e-01],\n",
       "       [8.60341523e-01, 1.39658477e-01],\n",
       "       [8.83864689e-01, 1.16135311e-01],\n",
       "       [9.81807782e-01, 1.81922178e-02],\n",
       "       [9.83526470e-01, 1.64735297e-02],\n",
       "       [9.92555819e-01, 7.44418076e-03]])"
      ]
     },
     "execution_count": 50,
     "metadata": {},
     "output_type": "execute_result"
    }
   ],
   "source": [
    "y_pred_prob = logreg.predict_proba(X_test)[0:10]\n",
    "\n",
    "y_pred_prob"
   ]
  },
  {
   "cell_type": "code",
   "execution_count": 51,
   "id": "30063695",
   "metadata": {
    "execution": {
     "iopub.execute_input": "2022-08-14T14:25:16.176236Z",
     "iopub.status.busy": "2022-08-14T14:25:16.175610Z",
     "iopub.status.idle": "2022-08-14T14:25:16.194671Z",
     "shell.execute_reply": "2022-08-14T14:25:16.193381Z"
    },
    "papermill": {
     "duration": 0.061425,
     "end_time": "2022-08-14T14:25:16.198228",
     "exception": false,
     "start_time": "2022-08-14T14:25:16.136803",
     "status": "completed"
    },
    "tags": []
   },
   "outputs": [
    {
     "data": {
      "text/html": [
       "<div>\n",
       "<style scoped>\n",
       "    .dataframe tbody tr th:only-of-type {\n",
       "        vertical-align: middle;\n",
       "    }\n",
       "\n",
       "    .dataframe tbody tr th {\n",
       "        vertical-align: top;\n",
       "    }\n",
       "\n",
       "    .dataframe thead th {\n",
       "        text-align: right;\n",
       "    }\n",
       "</style>\n",
       "<table border=\"1\" class=\"dataframe\">\n",
       "  <thead>\n",
       "    <tr style=\"text-align: right;\">\n",
       "      <th></th>\n",
       "      <th>Prob of - No (0)</th>\n",
       "      <th>Prob of - yes(1)</th>\n",
       "    </tr>\n",
       "  </thead>\n",
       "  <tbody>\n",
       "    <tr>\n",
       "      <th>0</th>\n",
       "      <td>0.927002</td>\n",
       "      <td>0.072998</td>\n",
       "    </tr>\n",
       "    <tr>\n",
       "      <th>1</th>\n",
       "      <td>0.982442</td>\n",
       "      <td>0.017558</td>\n",
       "    </tr>\n",
       "    <tr>\n",
       "      <th>2</th>\n",
       "      <td>0.928273</td>\n",
       "      <td>0.071727</td>\n",
       "    </tr>\n",
       "    <tr>\n",
       "      <th>3</th>\n",
       "      <td>0.999807</td>\n",
       "      <td>0.000193</td>\n",
       "    </tr>\n",
       "    <tr>\n",
       "      <th>4</th>\n",
       "      <td>0.471451</td>\n",
       "      <td>0.528549</td>\n",
       "    </tr>\n",
       "    <tr>\n",
       "      <th>5</th>\n",
       "      <td>0.860342</td>\n",
       "      <td>0.139658</td>\n",
       "    </tr>\n",
       "    <tr>\n",
       "      <th>6</th>\n",
       "      <td>0.883865</td>\n",
       "      <td>0.116135</td>\n",
       "    </tr>\n",
       "    <tr>\n",
       "      <th>7</th>\n",
       "      <td>0.981808</td>\n",
       "      <td>0.018192</td>\n",
       "    </tr>\n",
       "    <tr>\n",
       "      <th>8</th>\n",
       "      <td>0.983526</td>\n",
       "      <td>0.016474</td>\n",
       "    </tr>\n",
       "    <tr>\n",
       "      <th>9</th>\n",
       "      <td>0.992556</td>\n",
       "      <td>0.007444</td>\n",
       "    </tr>\n",
       "  </tbody>\n",
       "</table>\n",
       "</div>"
      ],
      "text/plain": [
       "   Prob of - No (0)  Prob of - yes(1)\n",
       "0          0.927002          0.072998\n",
       "1          0.982442          0.017558\n",
       "2          0.928273          0.071727\n",
       "3          0.999807          0.000193\n",
       "4          0.471451          0.528549\n",
       "5          0.860342          0.139658\n",
       "6          0.883865          0.116135\n",
       "7          0.981808          0.018192\n",
       "8          0.983526          0.016474\n",
       "9          0.992556          0.007444"
      ]
     },
     "execution_count": 51,
     "metadata": {},
     "output_type": "execute_result"
    }
   ],
   "source": [
    "y_pred_prob_df = pd.DataFrame(data=y_pred_prob, columns=['Prob of - No (0)', 'Prob of - yes(1)'])\n",
    "\n",
    "y_pred_prob_df"
   ]
  },
  {
   "cell_type": "code",
   "execution_count": 52,
   "id": "b2b05604",
   "metadata": {
    "execution": {
     "iopub.execute_input": "2022-08-14T14:25:16.271574Z",
     "iopub.status.busy": "2022-08-14T14:25:16.270477Z",
     "iopub.status.idle": "2022-08-14T14:25:16.286287Z",
     "shell.execute_reply": "2022-08-14T14:25:16.285007Z"
    },
    "papermill": {
     "duration": 0.068033,
     "end_time": "2022-08-14T14:25:16.290352",
     "exception": false,
     "start_time": "2022-08-14T14:25:16.222319",
     "status": "completed"
    },
    "tags": []
   },
   "outputs": [
    {
     "data": {
      "text/plain": [
       "array([7.29976123e-02, 1.75575111e-02, 7.17271338e-02, 1.92743762e-04,\n",
       "       5.28549403e-01, 1.39658477e-01, 1.16135311e-01, 1.81922178e-02,\n",
       "       1.64735297e-02, 7.44418076e-03])"
      ]
     },
     "execution_count": 52,
     "metadata": {},
     "output_type": "execute_result"
    }
   ],
   "source": [
    "logreg.predict_proba(X_test)[0:10, 1]"
   ]
  },
  {
   "cell_type": "code",
   "execution_count": 53,
   "id": "cc076dad",
   "metadata": {
    "execution": {
     "iopub.execute_input": "2022-08-14T14:25:16.369217Z",
     "iopub.status.busy": "2022-08-14T14:25:16.368641Z",
     "iopub.status.idle": "2022-08-14T14:25:16.375909Z",
     "shell.execute_reply": "2022-08-14T14:25:16.374627Z"
    },
    "papermill": {
     "duration": 0.052887,
     "end_time": "2022-08-14T14:25:16.381859",
     "exception": false,
     "start_time": "2022-08-14T14:25:16.328972",
     "status": "completed"
    },
    "tags": []
   },
   "outputs": [],
   "source": [
    "y_pred1 = logreg.predict_proba(X_test)[:, 1]"
   ]
  },
  {
   "cell_type": "code",
   "execution_count": 54,
   "id": "a711b781",
   "metadata": {
    "execution": {
     "iopub.execute_input": "2022-08-14T14:25:16.459773Z",
     "iopub.status.busy": "2022-08-14T14:25:16.459187Z",
     "iopub.status.idle": "2022-08-14T14:25:16.635714Z",
     "shell.execute_reply": "2022-08-14T14:25:16.634742Z"
    },
    "papermill": {
     "duration": 0.218663,
     "end_time": "2022-08-14T14:25:16.638297",
     "exception": false,
     "start_time": "2022-08-14T14:25:16.419634",
     "status": "completed"
    },
    "tags": []
   },
   "outputs": [
    {
     "data": {
      "text/plain": [
       "Text(0, 0.5, 'Frequency')"
      ]
     },
     "execution_count": 54,
     "metadata": {},
     "output_type": "execute_result"
    },
    {
     "data": {
      "image/png": "[encoded data removed]",
      "text/plain": [
       "<Figure size 432x288 with 1 Axes>"
      ]
     },
     "metadata": {
      "needs_background": "light"
     },
     "output_type": "display_data"
    }
   ],
   "source": [
    "# plot histogram of predicted probabilities\n",
    "\n",
    "\n",
    "# adjust the font size \n",
    "plt.rcParams['font.size'] = 12\n",
    "\n",
    "\n",
    "# plot histogram with 10 bins\n",
    "plt.hist(y_pred1, bins = 10)\n",
    "\n",
    "\n",
    "# set the title of predicted probabilities\n",
    "plt.title('Histogram of predicted probabilities of yes')\n",
    "\n",
    "\n",
    "# set the x-axis limit\n",
    "plt.xlim(0,1)\n",
    "\n",
    "\n",
    "# set the title\n",
    "plt.xlabel('Predicted probabilities of yea')\n",
    "plt.ylabel('Frequency')"
   ]
  },
  {
   "cell_type": "markdown",
   "id": "5e099523",
   "metadata": {
    "papermill": {
     "duration": 0.023622,
     "end_time": "2022-08-14T14:25:16.685722",
     "exception": false,
     "start_time": "2022-08-14T14:25:16.662100",
     "status": "completed"
    },
    "tags": []
   },
   "source": [
    "## Lower the threshold"
   ]
  },
  {
   "cell_type": "code",
   "execution_count": 55,
   "id": "0ce5cb7c",
   "metadata": {
    "execution": {
     "iopub.execute_input": "2022-08-14T14:25:16.735507Z",
     "iopub.status.busy": "2022-08-14T14:25:16.735023Z",
     "iopub.status.idle": "2022-08-14T14:25:16.740347Z",
     "shell.execute_reply": "2022-08-14T14:25:16.739056Z"
    },
    "papermill": {
     "duration": 0.03314,
     "end_time": "2022-08-14T14:25:16.742688",
     "exception": false,
     "start_time": "2022-08-14T14:25:16.709548",
     "status": "completed"
    },
    "tags": []
   },
   "outputs": [],
   "source": [
    "\n",
    "from sklearn import metrics"
   ]
  },
  {
   "cell_type": "code",
   "execution_count": 56,
   "id": "9bf094a9",
   "metadata": {
    "execution": {
     "iopub.execute_input": "2022-08-14T14:25:16.793016Z",
     "iopub.status.busy": "2022-08-14T14:25:16.792581Z",
     "iopub.status.idle": "2022-08-14T14:25:17.006592Z",
     "shell.execute_reply": "2022-08-14T14:25:17.005637Z"
    },
    "papermill": {
     "duration": 0.24139,
     "end_time": "2022-08-14T14:25:17.008915",
     "exception": false,
     "start_time": "2022-08-14T14:25:16.767525",
     "status": "completed"
    },
    "tags": []
   },
   "outputs": [
    {
     "data": {
      "text/plain": [
       "(0.0, 1.0)"
      ]
     },
     "execution_count": 56,
     "metadata": {},
     "output_type": "execute_result"
    },
    {
     "data": {
      "image/png": "[encoded data removed]",
      "text/plain": [
       "<Figure size 432x288 with 1 Axes>"
      ]
     },
     "metadata": {
      "needs_background": "light"
     },
     "output_type": "display_data"
    }
   ],
   "source": [
    "### Predict test_y values and probabilities based on fitted logistic \n",
    "\n",
    "\n",
    "pred_y=logreg.predict(X_test) \n",
    "\n",
    "probs_y=logreg.predict_proba(X_test) \n",
    "  \n",
    "\n",
    "from sklearn.metrics import precision_recall_curve\n",
    "precision, recall, thresholds = precision_recall_curve(y_test, probs_y[:, \n",
    "1]) \n",
    "   #retrieve probability of being 1(in second column of probs_y)\n",
    "pr_auc = metrics.auc(recall, precision)\n",
    "\n",
    "plt.title(\"Precision-Recall vs Threshold Chart\")\n",
    "plt.plot(thresholds, precision[: -1], \"b--\", label=\"Precision\")\n",
    "plt.plot(thresholds, recall[: -1], \"r--\", label=\"Recall\")\n",
    "plt.ylabel(\"Precision, Recall\")\n",
    "plt.xlabel(\"Threshold\")\n",
    "plt.legend(loc=\"lower left\")\n",
    "plt.ylim([0,1])"
   ]
  },
  {
   "cell_type": "markdown",
   "id": "892086c0",
   "metadata": {
    "papermill": {
     "duration": 0.023963,
     "end_time": "2022-08-14T14:25:17.057254",
     "exception": false,
     "start_time": "2022-08-14T14:25:17.033291",
     "status": "completed"
    },
    "tags": []
   },
   "source": [
    "## K- validation"
   ]
  },
  {
   "cell_type": "code",
   "execution_count": 57,
   "id": "58435567",
   "metadata": {
    "execution": {
     "iopub.execute_input": "2022-08-14T14:25:17.107925Z",
     "iopub.status.busy": "2022-08-14T14:25:17.107247Z",
     "iopub.status.idle": "2022-08-14T14:25:17.330868Z",
     "shell.execute_reply": "2022-08-14T14:25:17.329334Z"
    },
    "papermill": {
     "duration": 0.252729,
     "end_time": "2022-08-14T14:25:17.334196",
     "exception": false,
     "start_time": "2022-08-14T14:25:17.081467",
     "status": "completed"
    },
    "tags": []
   },
   "outputs": [
    {
     "name": "stdout",
     "output_type": "stream",
     "text": [
      "Cross-validation scores:[0.93656716 0.94029851 0.9141791  0.91791045 0.95149254]\n"
     ]
    }
   ],
   "source": [
    "from sklearn.model_selection import cross_val_score\n",
    "\n",
    "scores = cross_val_score(logreg, X_train, y_train, cv = 5, scoring='accuracy')\n",
    "\n",
    "print('Cross-validation scores:{}'.format(scores))"
   ]
  },
  {
   "cell_type": "code",
   "execution_count": 58,
   "id": "351ff397",
   "metadata": {
    "execution": {
     "iopub.execute_input": "2022-08-14T14:25:17.456705Z",
     "iopub.status.busy": "2022-08-14T14:25:17.456223Z",
     "iopub.status.idle": "2022-08-14T14:25:17.462517Z",
     "shell.execute_reply": "2022-08-14T14:25:17.461470Z"
    },
    "papermill": {
     "duration": 0.069385,
     "end_time": "2022-08-14T14:25:17.469014",
     "exception": false,
     "start_time": "2022-08-14T14:25:17.399629",
     "status": "completed"
    },
    "tags": []
   },
   "outputs": [
    {
     "name": "stdout",
     "output_type": "stream",
     "text": [
      "Average cross-validation score: 0.9321\n"
     ]
    }
   ],
   "source": [
    "print('Average cross-validation score: {:.4f}'.format(scores.mean()))"
   ]
  },
  {
   "cell_type": "markdown",
   "id": "a5fd1dab",
   "metadata": {
    "papermill": {
     "duration": 0.027346,
     "end_time": "2022-08-14T14:25:17.521821",
     "exception": false,
     "start_time": "2022-08-14T14:25:17.494475",
     "status": "completed"
    },
    "tags": []
   },
   "source": [
    "## optimizar parametros"
   ]
  },
  {
   "cell_type": "code",
   "execution_count": 59,
   "id": "7f113d03",
   "metadata": {
    "execution": {
     "iopub.execute_input": "2022-08-14T14:25:17.587511Z",
     "iopub.status.busy": "2022-08-14T14:25:17.586725Z",
     "iopub.status.idle": "2022-08-14T14:25:21.180363Z",
     "shell.execute_reply": "2022-08-14T14:25:21.179395Z"
    },
    "papermill": {
     "duration": 3.633239,
     "end_time": "2022-08-14T14:25:21.182850",
     "exception": false,
     "start_time": "2022-08-14T14:25:17.549611",
     "status": "completed"
    },
    "tags": []
   },
   "outputs": [
    {
     "data": {
      "text/plain": [
       "GridSearchCV(cv=10,\n",
       "             estimator=LogisticRegression(random_state=0, solver='liblinear'),\n",
       "             param_grid=[{'penalty': ['l1', 'l2']},\n",
       "                         {'C': array([1.e-03, 1.e-02, 1.e-01, 1.e+00, 1.e+01, 1.e+02, 1.e+03])},\n",
       "                         {'solver': ['newton-cg', 'lbfgs', 'liblinear']}],\n",
       "             scoring='accuracy')"
      ]
     },
     "execution_count": 59,
     "metadata": {},
     "output_type": "execute_result"
    }
   ],
   "source": [
    "from sklearn.model_selection import GridSearchCV\n",
    "\n",
    "\n",
    "parameters = [{'penalty':['l1','l2']}, \n",
    "              {'C':np.logspace(-3,3,7)},\n",
    "               {'solver' : ['newton-cg', 'lbfgs', 'liblinear']} ]\n",
    "\n",
    "\n",
    "\n",
    "grid_search = GridSearchCV(estimator = logreg,  \n",
    "                           param_grid = parameters,\n",
    "                           scoring = 'accuracy',\n",
    "                           cv = 10,\n",
    "                           verbose=0)\n",
    "\n",
    "\n",
    "grid_search.fit(X_train, y_train)"
   ]
  },
  {
   "cell_type": "code",
   "execution_count": 60,
   "id": "1bd936d6",
   "metadata": {
    "execution": {
     "iopub.execute_input": "2022-08-14T14:25:21.234877Z",
     "iopub.status.busy": "2022-08-14T14:25:21.233975Z",
     "iopub.status.idle": "2022-08-14T14:25:21.241221Z",
     "shell.execute_reply": "2022-08-14T14:25:21.240150Z"
    },
    "papermill": {
     "duration": 0.036097,
     "end_time": "2022-08-14T14:25:21.243984",
     "exception": false,
     "start_time": "2022-08-14T14:25:21.207887",
     "status": "completed"
    },
    "tags": []
   },
   "outputs": [
    {
     "name": "stdout",
     "output_type": "stream",
     "text": [
      "GridSearch CV best score : 0.9351\n",
      "\n",
      "\n",
      "Parameters that give the best results : \n",
      "\n",
      " {'C': 0.1}\n",
      "\n",
      "\n",
      "Estimator that was chosen by the search : \n",
      "\n",
      " LogisticRegression(C=0.1, random_state=0, solver='liblinear')\n"
     ]
    }
   ],
   "source": [
    "# examine the best model\n",
    "\n",
    "# best score achieved during the GridSearchCV\n",
    "print('GridSearch CV best score : {:.4f}\\n\\n'.format(grid_search.best_score_))\n",
    "\n",
    "# print parameters that give the best results\n",
    "print('Parameters that give the best results :','\\n\\n', (grid_search.best_params_))\n",
    "\n",
    "# print estimator that was chosen by the GridSearch\n",
    "print('\\n\\nEstimator that was chosen by the search :','\\n\\n', (grid_search.best_estimator_))"
   ]
  },
  {
   "cell_type": "code",
   "execution_count": 61,
   "id": "d3b1cb94",
   "metadata": {
    "execution": {
     "iopub.execute_input": "2022-08-14T14:25:21.296693Z",
     "iopub.status.busy": "2022-08-14T14:25:21.295903Z",
     "iopub.status.idle": "2022-08-14T14:25:21.337674Z",
     "shell.execute_reply": "2022-08-14T14:25:21.335473Z"
    },
    "papermill": {
     "duration": 0.072402,
     "end_time": "2022-08-14T14:25:21.341796",
     "exception": false,
     "start_time": "2022-08-14T14:25:21.269394",
     "status": "completed"
    },
    "tags": []
   },
   "outputs": [
    {
     "name": "stdout",
     "output_type": "stream",
     "text": [
      "Accuracy: 0.9315476190476191\n"
     ]
    }
   ],
   "source": [
    "logreg1 = LogisticRegression(C = 0.1, \n",
    "                            penalty = 'l2', \n",
    "                            solver = 'liblinear')\n",
    "logreg.fit(X_train,y_train)\n",
    "y_pred = logreg.predict(X_test)\n",
    "print(\"Accuracy:\",logreg.score(X_test, y_test))"
   ]
  }
 ],
 "metadata": {
  "kernelspec": {
   "display_name": "Python 3",
   "language": "python",
   "name": "python3"
  },
  "language_info": {
   "codemirror_mode": {
    "name": "ipython",
    "version": 3
   },
   "file_extension": ".py",
   "mimetype": "text/x-python",
   "name": "python",
   "nbconvert_exporter": "python",
   "pygments_lexer": "ipython3",
   "version": "3.7.12"
  },
  "papermill": {
   "default_parameters": {},
   "duration": 25.257658,
   "end_time": "2022-08-14T14:25:24.760109",
   "environment_variables": {},
   "exception": null,
   "input_path": "__notebook__.ipynb",
   "output_path": "__notebook__.ipynb",
   "parameters": {},
   "start_time": "2022-08-14T14:24:59.502451",
   "version": "2.3.4"
  }
 },
 "nbformat": 4,
 "nbformat_minor": 5
}
